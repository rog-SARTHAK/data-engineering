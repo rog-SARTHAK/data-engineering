{
 "cells": [
  {
   "cell_type": "markdown",
   "id": "1739cc64",
   "metadata": {},
   "source": [
    "<div class=\"alert alert-block alert-success\">\n",
    "\n",
    "# Python\n",
    "    \n",
    "\n",
    "- Recursion\n",
    "- Class - OOPS\n",
    "- Single level Inheritance - OOPS\n",
    "- Multi level inheritance - OOPS\n",
    "- Multiple inheritance - OOPS\n",
    "- Linear Search\n",
    "- HR Function\n",
    "- HR Numpy array"
   ]
  },
  {
   "cell_type": "markdown",
   "id": "54814c71",
   "metadata": {},
   "source": [
    "## Recursion"
   ]
  },
  {
   "cell_type": "markdown",
   "id": "dcd3972f",
   "metadata": {},
   "source": [
    "### Factorial with Recursion"
   ]
  },
  {
   "cell_type": "code",
   "execution_count": 2,
   "id": "b8a66485",
   "metadata": {},
   "outputs": [
    {
     "name": "stdout",
     "output_type": "stream",
     "text": [
      "6\n"
     ]
    }
   ],
   "source": [
    "def fac(x):\n",
    "    \n",
    "    if x == 0:\n",
    "        return 1\n",
    "    \n",
    "    return x * fac(x-1)\n",
    "\n",
    "print(fac(3))"
   ]
  },
  {
   "cell_type": "markdown",
   "id": "82c1c792",
   "metadata": {},
   "source": [
    "### Fibonacci Number with Recursion"
   ]
  },
  {
   "cell_type": "markdown",
   "id": "6e16fef8",
   "metadata": {},
   "source": [
    "F(0) = 0, F(1) = 1, F(2) = F(0) + F(1)"
   ]
  },
  {
   "cell_type": "code",
   "execution_count": 3,
   "id": "b43a6b07",
   "metadata": {},
   "outputs": [
    {
     "name": "stdout",
     "output_type": "stream",
     "text": [
      "1\n",
      "1\n",
      "2\n",
      "3\n",
      "5\n",
      "8\n",
      "13\n",
      "21\n",
      "34\n",
      "55\n"
     ]
    }
   ],
   "source": [
    "def fib(n):\n",
    "    if n == 1:\n",
    "        value = 1\n",
    "    elif n == 2:\n",
    "        value = 1\n",
    "    elif n > 2:\n",
    "        value = fib(n-2) + fib(n-1)\n",
    "\n",
    "    return value\n",
    "\n",
    "for n in range (1,11):\n",
    "    print(fib(n))"
   ]
  },
  {
   "cell_type": "markdown",
   "id": "8855c403",
   "metadata": {},
   "source": [
    "## Class - OOPS"
   ]
  },
  {
   "cell_type": "markdown",
   "id": "0f79793d",
   "metadata": {},
   "source": [
    "Class is a blueprint. Object is a product. To create a product we need a blueprint design first. Till now we have worked with built in data types like integer, float but now we will create a new class car.\n",
    "\n",
    "In a class, we will define attributes and behaviour. Attributes are variables. Behaviour is method function."
   ]
  },
  {
   "cell_type": "code",
   "execution_count": 4,
   "id": "9b125d99",
   "metadata": {},
   "outputs": [
    {
     "name": "stdout",
     "output_type": "stream",
     "text": [
      "<class 'int'>\n",
      "<class 'str'>\n",
      "<class '__main__.car'>\n"
     ]
    }
   ],
   "source": [
    "class car:\n",
    "\n",
    "    def sedan(self):\n",
    "        print(\"FWD, CVT, 4cyl\")\n",
    "\n",
    "\n",
    "# checking data types of default vs newly created constructor object\n",
    "        \n",
    "x = 9\n",
    "print(type(x))\n",
    "\n",
    "y = 'a'\n",
    "print(type(y))\n",
    "\n",
    "car1 = car()        #car1 is an object\n",
    "print(type(car1))"
   ]
  },
  {
   "cell_type": "code",
   "execution_count": 5,
   "id": "ffb0a8c8",
   "metadata": {},
   "outputs": [
    {
     "name": "stdout",
     "output_type": "stream",
     "text": [
      "FWD, CVT, 4cyl\n",
      "FWD, CVT, 4cyl\n"
     ]
    }
   ],
   "source": [
    "class car:\n",
    "\n",
    "    def sedan(self):\n",
    "        print(\"FWD, CVT, 4cyl\")\n",
    "\n",
    "\n",
    "car1 = car()    #car1 is object instance\n",
    "\n",
    "car.sedan(car1) #here car1 is a parameter argument\n",
    "\n",
    "# another way to call constructor\n",
    "\n",
    "\n",
    "car1.sedan()"
   ]
  },
  {
   "cell_type": "code",
   "execution_count": 6,
   "id": "64396d49",
   "metadata": {},
   "outputs": [
    {
     "name": "stdout",
     "output_type": "stream",
     "text": [
      "FWD, CVT, 4cyl\n",
      "RWD, Manual, V8\n"
     ]
    }
   ],
   "source": [
    "class car:\n",
    "    def sedan(self):\n",
    "        print(\"FWD, CVT, 4cyl\")\n",
    "        \n",
    "    def sports_car(self):\n",
    "        print(\"RWD, Manual, V8\")\n",
    "\n",
    "car1 = car()  # car1 is an object instance\n",
    "\n",
    "car1.sedan()       # Calls the sedan method\n",
    "car1.sports_car()  # Calls the sports_car method"
   ]
  },
  {
   "cell_type": "markdown",
   "id": "ba83fbe8",
   "metadata": {},
   "source": [
    "### calculator with class concept"
   ]
  },
  {
   "cell_type": "code",
   "execution_count": 8,
   "id": "6f66ec18",
   "metadata": {},
   "outputs": [
    {
     "name": "stdout",
     "output_type": "stream",
     "text": [
      "Sum:  15\n",
      "Subtract:  5\n",
      "Multiply:  50\n",
      "Divide:  2.0\n",
      "Divide by zero:  Error: Division by zero is not allowed.\n"
     ]
    }
   ],
   "source": [
    "class Calculator:\n",
    "    def sum(self, a, b):\n",
    "        return a + b\n",
    "    \n",
    "    def subtract(self, a, b):\n",
    "        return a - b\n",
    "    \n",
    "    def multiply(self, a, b):\n",
    "        return a * b\n",
    "    \n",
    "    def divide(self, a, b):\n",
    "        if b != 0:\n",
    "            return a / b\n",
    "        else:\n",
    "            return \"Error: Division by zero is not allowed.\"\n",
    "\n",
    "# Create an instance of the Calculator class\n",
    "calc = Calculator()\n",
    "\n",
    "# Call the methods\n",
    "result_sum = calc.sum(10, 5)\n",
    "result_subtract = calc.subtract(10, 5)\n",
    "result_multiply = calc.multiply(10, 5)\n",
    "result_divide = calc.divide(10, 5)\n",
    "result_divide_by_zero = calc.divide(10, 0)\n",
    "\n",
    "# Print the results\n",
    "print(\"Sum: \", result_sum)                # Outputs: Sum:  15\n",
    "print(\"Subtract: \", result_subtract)      # Outputs: Subtract:  5\n",
    "print(\"Multiply: \", result_multiply)      # Outputs: Multiply:  50\n",
    "print(\"Divide: \", result_divide)          # Outputs: Divide:  2.0\n",
    "print(\"Divide by zero: \", result_divide_by_zero)  # Outputs: Divide by zero:  Error: Division by zero is not allowed."
   ]
  },
  {
   "cell_type": "markdown",
   "id": "0e7f8b2c",
   "metadata": {},
   "source": [
    "## `__init__`"
   ]
  },
  {
   "cell_type": "markdown",
   "id": "2bf047cd",
   "metadata": {},
   "source": [
    "`__init__` method is used to initialize a variable. It acts as a constructor. For every object, __init__ gets called automatically."
   ]
  },
  {
   "cell_type": "code",
   "execution_count": 9,
   "id": "41ec825b",
   "metadata": {},
   "outputs": [
    {
     "name": "stdout",
     "output_type": "stream",
     "text": [
      "in init\n",
      "in init\n",
      "FWD, CVT, 4cyl\n",
      "RWD, Manual, V8\n",
      "FWD, CVT, 4cyl\n",
      "RWD, Manual, V8\n"
     ]
    }
   ],
   "source": [
    "\n",
    "class car:\n",
    "    def __init__(self):\n",
    "        print(\"in init\")\n",
    "\n",
    "    def sedan(self):\n",
    "        print(\"FWD, CVT, 4cyl\")\n",
    "        \n",
    "    def sports_car(self):\n",
    "        print(\"RWD, Manual, V8\")\n",
    "\n",
    "car1 = car()  # car1 is an object instance\n",
    "car2 = car()\n",
    "\n",
    "car1.sedan()       # Calls the sedan method\n",
    "car1.sports_car()  # Calls the sports_car method\n",
    "car2.sedan()       \n",
    "car2.sports_car()"
   ]
  },
  {
   "cell_type": "code",
   "execution_count": 10,
   "id": "88bb7cfb",
   "metadata": {},
   "outputs": [
    {
     "name": "stdout",
     "output_type": "stream",
     "text": [
      "Config is CVT 4cyl\n",
      "Config is Manual V8\n"
     ]
    }
   ],
   "source": [
    "class car:\n",
    "    def __init__(self, transmission, engine):\n",
    "        self.transmission = transmission\n",
    "        self.engine = engine\n",
    "\n",
    "    def build(self):\n",
    "        print(\"Config is\", self.transmission, self.engine )\n",
    "    \n",
    "sedan = car('CVT', '4cyl')  # car1 is an object instance\n",
    "sport = car('Manual', 'V8')\n",
    "\n",
    "sedan.build()\n",
    "sport.build()"
   ]
  },
  {
   "cell_type": "markdown",
   "id": "10c2827f",
   "metadata": {},
   "source": [
    "### Object created gets stored in Heap Memory of computer"
   ]
  },
  {
   "cell_type": "code",
   "execution_count": 12,
   "id": "6a438b89",
   "metadata": {},
   "outputs": [
    {
     "name": "stdout",
     "output_type": "stream",
     "text": [
      "4450871248\n",
      "4450870992\n"
     ]
    }
   ],
   "source": [
    "# To find out heap memory address\n",
    "\n",
    "class car:\n",
    "    pass\n",
    "\n",
    "c1 = car()\n",
    "c2 = car()\n",
    "\n",
    "print(id(c1))\n",
    "print(id(c2))"
   ]
  },
  {
   "cell_type": "markdown",
   "id": "e9366fda",
   "metadata": {},
   "source": [
    "car() is a constructor which calls init method automatically."
   ]
  },
  {
   "cell_type": "markdown",
   "id": "42faeb1a",
   "metadata": {},
   "source": [
    "## Single level Inheritance - OOPS"
   ]
  },
  {
   "cell_type": "markdown",
   "id": "6bd7896a",
   "metadata": {},
   "source": [
    "A <- B\n",
    "\n",
    "A simple class"
   ]
  },
  {
   "cell_type": "code",
   "execution_count": 13,
   "id": "411a6c32",
   "metadata": {},
   "outputs": [
    {
     "name": "stdout",
     "output_type": "stream",
     "text": [
      "Feature 1 working\n",
      "Feature 2 working\n"
     ]
    }
   ],
   "source": [
    "class A:\n",
    "\n",
    "    def feature1(self):\n",
    "        print ('Feature 1 working')\n",
    "\n",
    "    def feature2(self):\n",
    "        print ('Feature 2 working')\n",
    "\n",
    "a1 = A()\n",
    "\n",
    "a1.feature1()\n",
    "a1.feature2()"
   ]
  },
  {
   "cell_type": "markdown",
   "id": "b594d396",
   "metadata": {},
   "source": [
    "Now let's say we have another class B having some other feature. In class B we also want features of A. This is where we need Inheritance. We will make class B as child class or sub class of A."
   ]
  },
  {
   "cell_type": "code",
   "execution_count": 14,
   "id": "e83b6ef7",
   "metadata": {},
   "outputs": [
    {
     "name": "stdout",
     "output_type": "stream",
     "text": [
      "Feature 1 working\n",
      "Feature 2 working\n",
      "Feature 3 working\n",
      "Feature 4 working\n"
     ]
    }
   ],
   "source": [
    "class A:\n",
    "\n",
    "    def feature1(self):\n",
    "        print ('Feature 1 working')\n",
    "\n",
    "    def feature2(self):\n",
    "        print ('Feature 2 working')\n",
    "\n",
    "\n",
    "\n",
    "class B(A):\n",
    "\n",
    "    def feature3(self):\n",
    "        print ('Feature 3 working')\n",
    "\n",
    "    def feature4(self):\n",
    "        print ('Feature 4 working')\n",
    "\n",
    "a1 = A()\n",
    "\n",
    "b1 = B()\n",
    "\n",
    "b1.feature1()\n",
    "b1.feature2()\n",
    "b1.feature3()\n",
    "b1.feature4()"
   ]
  },
  {
   "cell_type": "markdown",
   "id": "e80b6142",
   "metadata": {},
   "source": [
    "We see class B has access to all four features. class A will be called Parent class or Super class"
   ]
  },
  {
   "cell_type": "markdown",
   "id": "c76a7919",
   "metadata": {},
   "source": [
    "## Multi level inheritance - OOPS"
   ]
  },
  {
   "cell_type": "markdown",
   "id": "c2c5ea8e",
   "metadata": {},
   "source": [
    "A <- B <- C"
   ]
  },
  {
   "cell_type": "code",
   "execution_count": 16,
   "id": "6e4ccf8a",
   "metadata": {},
   "outputs": [
    {
     "name": "stdout",
     "output_type": "stream",
     "text": [
      "Feature 1 working\n",
      "Feature 2 working\n",
      "Feature 3 working\n",
      "Feature 4 working\n",
      "Feature 5 working\n"
     ]
    }
   ],
   "source": [
    "class A:\n",
    "\n",
    "    def feature1(self):\n",
    "        print ('Feature 1 working')\n",
    "\n",
    "    def feature2(self):\n",
    "        print ('Feature 2 working')\n",
    "\n",
    "\n",
    "\n",
    "class B(A):\n",
    "\n",
    "    def feature3(self):\n",
    "        print ('Feature 3 working')\n",
    "\n",
    "    def feature4(self):\n",
    "        print ('Feature 4 working')\n",
    "\n",
    "\n",
    "class C(B):\n",
    "\n",
    "    def feature5(self):\n",
    "        print ('Feature 5 working')\n",
    "\n",
    "\n",
    "c1 = C()\n",
    "\n",
    "c1.feature1()\n",
    "c1.feature2()\n",
    "c1.feature3()\n",
    "c1.feature4()\n",
    "c1.feature5()"
   ]
  },
  {
   "cell_type": "markdown",
   "id": "f96d0778",
   "metadata": {},
   "source": [
    "## Multiple inheritance - OOPS"
   ]
  },
  {
   "cell_type": "markdown",
   "id": "f0d7e373",
   "metadata": {},
   "source": [
    "A class and B class has no connection. But C class wants to inherit both the features from A and B class"
   ]
  },
  {
   "cell_type": "code",
   "execution_count": 17,
   "id": "8ce621b9",
   "metadata": {},
   "outputs": [
    {
     "name": "stdout",
     "output_type": "stream",
     "text": [
      "Feature 1 working\n",
      "Feature 2 working\n",
      "Feature 3 working\n",
      "Feature 4 working\n",
      "Feature 5 working\n"
     ]
    }
   ],
   "source": [
    "class A:\n",
    "\n",
    "    def feature1(self):\n",
    "        print ('Feature 1 working')\n",
    "\n",
    "    def feature2(self):\n",
    "        print ('Feature 2 working')\n",
    "\n",
    "\n",
    "\n",
    "class B():\n",
    "\n",
    "    def feature3(self):\n",
    "        print ('Feature 3 working')\n",
    "\n",
    "    def feature4(self):\n",
    "        print ('Feature 4 working')\n",
    "\n",
    "\n",
    "class C(A, B):\n",
    "\n",
    "    def feature5(self):\n",
    "        print ('Feature 5 working')\n",
    "\n",
    "\n",
    "c1 = C()\n",
    "\n",
    "c1.feature1()\n",
    "c1.feature2()\n",
    "c1.feature3()\n",
    "c1.feature4()\n",
    "c1.feature5()"
   ]
  },
  {
   "cell_type": "markdown",
   "id": "e81cdc5b",
   "metadata": {},
   "source": [
    "## Linear Search"
   ]
  },
  {
   "cell_type": "code",
   "execution_count": 18,
   "id": "253abf3a",
   "metadata": {},
   "outputs": [
    {
     "name": "stdout",
     "output_type": "stream",
     "text": [
      "Found at 2\n"
     ]
    }
   ],
   "source": [
    "pos = -1 #global variable\n",
    "\n",
    "\n",
    "def search(list, n):\n",
    "    i = 0\n",
    "\n",
    "    while i < len(list) :\n",
    "        if list[i] == n:\n",
    "            globals()['pos'] = i\n",
    "            return True\n",
    "        i = i + 1\n",
    "\n",
    "    return False\n",
    "\n",
    "list = [5, 8, 4, 9]\n",
    "n = 8\n",
    "\n",
    "if search(list, n) :\n",
    "    print(\"Found at\", pos+1)\n",
    "\n",
    "else:\n",
    "    print(\"Not Found\")"
   ]
  },
  {
   "cell_type": "markdown",
   "id": "0f4fbdf4",
   "metadata": {},
   "source": [
    "## Binary Search"
   ]
  },
  {
   "cell_type": "markdown",
   "id": "5cd4f8ef",
   "metadata": {},
   "source": [
    "List has to be sorted for binary search. It is more efficient than linear search\n",
    "\n",
    "For a list with index [ 0, 1, 2, 3, 4 ] Binary search has lower index 0, upper index 4. Mid index will be (lower + upper) / 2 = 2 here. Match if search element n == mid value. If its not a match, we have to change lower bound or upper bound. If n is smaller than mid, change upper bound and mid becomes new upper bound. And vice versa. Note: In python // is integer division."
   ]
  },
  {
   "cell_type": "code",
   "execution_count": 19,
   "id": "a9b0db49",
   "metadata": {},
   "outputs": [
    {
     "name": "stdout",
     "output_type": "stream",
     "text": [
      "Found at 2\n"
     ]
    }
   ],
   "source": [
    "pos = -1 #global variable\n",
    "\n",
    "\n",
    "def search(list, n):\n",
    "    \n",
    "    l = 0\n",
    "    u = len(list) - 1\n",
    "\n",
    "    while l < u :\n",
    "        mid = (l+u) // 2\n",
    "\n",
    "        if list[mid] == n:\n",
    "            globals()['pos'] = mid\n",
    "            return True\n",
    "\n",
    "        else:\n",
    "            if list[mid] < n:\n",
    "                l = mid\n",
    "            else:\n",
    "                u = mid - 1 # - 1 to skip mid value\n",
    "    return False\n",
    "\n",
    "list = [5, 8, 10, 20]\n",
    "n = 8\n",
    "\n",
    "if search(list, n) :\n",
    "    print(\"Found at\", pos+1)\n",
    "\n",
    "else:\n",
    "    print(\"Not Found\")"
   ]
  },
  {
   "cell_type": "markdown",
   "id": "11ae5b05",
   "metadata": {},
   "source": [
    "## Bubble Sort"
   ]
  },
  {
   "cell_type": "markdown",
   "id": "6939d28a",
   "metadata": {},
   "source": [
    "Say a list [5, 3, 8, 6, 7, 2]\n",
    "\n",
    "In each iteration,\n",
    "\n",
    "We take first two values and compare. We swap if former is greater than later.\n",
    "\n",
    "Say 5 and 3. 5 > 3. So we swap position. New list is [3, 5, 8, 6, 7, 2]\n",
    "\n",
    "In next iteration, We compare 5, 8. 5 is not > 8. No swap.\n",
    "\n",
    "After end of first iteration we get [3, 5, 6, 7, 2, 8]\n",
    "\n",
    "And then starts iteration 2.\n",
    "\n",
    "We would need 2 loops. Outer loop will take care of iteration. Inner loop will deal with swapping.\n",
    "\n",
    "range(start, stop, step)"
   ]
  },
  {
   "cell_type": "code",
   "execution_count": 20,
   "id": "deec57d1",
   "metadata": {},
   "outputs": [
    {
     "name": "stdout",
     "output_type": "stream",
     "text": [
      "[3, 5, 6, 7, 2, 8]\n"
     ]
    }
   ],
   "source": [
    "def sort(lst):\n",
    "\n",
    "    for i in range(0, len(lst)):\n",
    "\n",
    "        for j in range(i):\n",
    "\n",
    "            if lst[j] > lst[j+1]:\n",
    "\n",
    "                temp = lst[j]\n",
    "                lst[j] = lst[j+1]\n",
    "                lst[j+1] = temp\n",
    "\n",
    "lst = [5, 3, 8, 6, 7, 2]\n",
    "sort(lst)\n",
    "\n",
    "print(lst)"
   ]
  },
  {
   "cell_type": "code",
   "execution_count": 21,
   "id": "d2169d65",
   "metadata": {},
   "outputs": [
    {
     "name": "stdout",
     "output_type": "stream",
     "text": [
      "[3, 5, 6, 7, 2, 8]\n"
     ]
    }
   ],
   "source": [
    "def sort(lst):\n",
    "\n",
    "    for i in range(len(lst) - 1):\n",
    "        for j in range(len(lst) - 1):\n",
    "            if lst[i] > lst[i+1]:\n",
    "                lst[i], lst[i+1] = lst[i+1], lst[i]\n",
    "\n",
    "\n",
    "lst = [5, 3, 8, 6, 7, 2]\n",
    "sort(lst)\n",
    "\n",
    "print(lst)"
   ]
  },
  {
   "cell_type": "markdown",
   "id": "6bdb4b16",
   "metadata": {},
   "source": [
    "## HackerRank - Write a function"
   ]
  },
  {
   "cell_type": "markdown",
   "id": "f56d50b2",
   "metadata": {},
   "source": [
    "An extra day is added to the calendar almost every four years as February 29, and the day is called a leap day. It corrects the calendar for the fact that our planet takes approximately 365.25 days to orbit the sun. A leap year contains a leap day.\n",
    "\n",
    "In the Gregorian calendar, three conditions are used to identify leap years:\n",
    "\n",
    "\n",
    "The year can be evenly divided by 4, is a leap year, unless:\n",
    "\n",
    "The year can be evenly divided by 100, it is NOT a leap year, unless:\n",
    "\n",
    "The year is also evenly divisible by 400. Then it is a leap year.\n",
    "\n",
    "This means that in the Gregorian calendar, the years 2000 and 2400 are leap years, while 1800, 1900, 2100, 2200, 2300 and 2500 are NOT leap years."
   ]
  },
  {
   "cell_type": "code",
   "execution_count": 1,
   "id": "f737dc60",
   "metadata": {},
   "outputs": [
    {
     "name": "stdout",
     "output_type": "stream",
     "text": [
      "2000\n",
      "True\n"
     ]
    }
   ],
   "source": [
    "def is_leap(year):\n",
    "    leap = False\n",
    "    \n",
    "    # Write your logic here\n",
    "\n",
    "    if year % 4 == 0 and (year % 100 != 0 or year % 400 == 0): \n",
    "            \n",
    "        leap = True\n",
    "    else:\n",
    "        leap = False\n",
    "            \n",
    "    return leap\n",
    "\n",
    "year = int(input())\n",
    "print(is_leap(year))"
   ]
  },
  {
   "cell_type": "markdown",
   "id": "815d7af5",
   "metadata": {},
   "source": [
    "## HackerRank Numpy Arrays"
   ]
  },
  {
   "cell_type": "markdown",
   "id": "02b5b8c7",
   "metadata": {},
   "source": [
    "Task\n",
    "\n",
    "You are given a space separated list of numbers.\n",
    "Your task is to print a reversed NumPy array with the element type float.\n",
    "\n",
    "\n",
    "Input Format\n",
    "\n",
    "\n",
    "A single line of input containing space separated numbers.\n",
    "\n",
    "\n",
    "Output Format\n",
    "\n",
    "\n",
    "Print the reverse NumPy array with type float."
   ]
  },
  {
   "cell_type": "code",
   "execution_count": 1,
   "id": "683e3dd2",
   "metadata": {},
   "outputs": [
    {
     "name": "stdout",
     "output_type": "stream",
     "text": [
      "1 2 3 4 -10 -8\n",
      "[ -8. -10.   4.   3.   2.   1.]\n"
     ]
    }
   ],
   "source": [
    "import numpy\n",
    "\n",
    "def arrays(arr):\n",
    "    # complete this function\n",
    "    # use numpy.array\n",
    "    \n",
    "    np_float_arr = numpy.array(arr, dtype='f')\n",
    "\n",
    "    return (np_float_arr)[::-1]\n",
    "\n",
    "arr = input().strip().split(' ')\n",
    "result = arrays(arr)\n",
    "print(result)"
   ]
  },
  {
   "cell_type": "code",
   "execution_count": null,
   "id": "ced68df4",
   "metadata": {},
   "outputs": [],
   "source": []
  }
 ],
 "metadata": {
  "kernelspec": {
   "display_name": "Python 3 (ipykernel)",
   "language": "python",
   "name": "python3"
  },
  "language_info": {
   "codemirror_mode": {
    "name": "ipython",
    "version": 3
   },
   "file_extension": ".py",
   "mimetype": "text/x-python",
   "name": "python",
   "nbconvert_exporter": "python",
   "pygments_lexer": "ipython3",
   "version": "3.11.5"
  }
 },
 "nbformat": 4,
 "nbformat_minor": 5
}
