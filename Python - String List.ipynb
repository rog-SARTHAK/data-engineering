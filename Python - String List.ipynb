{
 "cells": [
  {
   "cell_type": "markdown",
   "id": "526f12bd",
   "metadata": {},
   "source": [
    "<div class=\"alert alert-block alert-success\">\n",
    "\n",
    "# Python\n",
    "\n",
    "- String\n",
    "- List\n",
    "- List Comprehension\n",
    "- list(enumerate())\n",
    "- map()\n",
    "- lambda()\n",
    "- filter()\n",
    "- Tuple\n",
    "- Dictionary\n",
    "- List to Dictionary to Pandas df\n",
    "- Cleaning df\n",
    "- Step function\n",
    "- Correlation Matrix\n",
    "- Test Train split\n",
    "- Cross validation\n",
    "- Creating classification model\n",
    "- Performance metrix\n",
    "- Recursion\n",
    "- hash()\n",
    "- OOPS Class\n",
    "- init\n",
    "- OOPS Inheritance\n",
    "- Search\n",
    "- Sort"
   ]
  },
  {
   "cell_type": "markdown",
   "id": "15e41234",
   "metadata": {},
   "source": [
    "<div class=\"alert alert-block alert-success\">\n",
    "\n",
    "### Keyboard Shortcuts\n",
    "\n",
    "- Caps + Tab = Indent multiple lines\n",
    "- Shift + Tab = Unindent multiple lines\n",
    "- Command + / = Comment multiple lines"
   ]
  },
  {
   "cell_type": "code",
   "execution_count": 24,
   "id": "efbd18d2",
   "metadata": {},
   "outputs": [
    {
     "name": "stdout",
     "output_type": "stream",
     "text": [
      "This notebook is\n",
      "for string revision\n"
     ]
    }
   ],
   "source": [
    "#multiline comment\n",
    "print ('''\\\n",
    "This notebook is\n",
    "for string revision\\\n",
    "''')"
   ]
  },
  {
   "cell_type": "code",
   "execution_count": 123,
   "id": "ddcdf449",
   "metadata": {},
   "outputs": [
    {
     "name": "stdout",
     "output_type": "stream",
     "text": [
      "67.12\n"
     ]
    }
   ],
   "source": [
    "a = 67.12345\n",
    "print(\"%.2f\" % a)"
   ]
  },
  {
   "cell_type": "markdown",
   "id": "40a11992",
   "metadata": {},
   "source": [
    "### Simple user input of data type string, int and float and print it."
   ]
  },
  {
   "cell_type": "code",
   "execution_count": 193,
   "id": "762a7770",
   "metadata": {},
   "outputs": [
    {
     "name": "stdout",
     "output_type": "stream",
     "text": [
      "Welcome sarthak haldar to Python. Your ELO is 270. Average win rate is 37.68.\n"
     ]
    }
   ],
   "source": [
    "firstName = input()\n",
    "lastName = input()\n",
    "score = int(input())\n",
    "avg_win = float(input())\n",
    "\n",
    "print(f\"Welcome {firstName} {lastName} to Python. Your ELO is {score}. Average win rate is {avg_win:.2f}.\")"
   ]
  },
  {
   "cell_type": "code",
   "execution_count": 25,
   "id": "856ad10d",
   "metadata": {},
   "outputs": [
    {
     "name": "stdout",
     "output_type": "stream",
     "text": [
      "['Java', 'Python', 'Java']\n"
     ]
    }
   ],
   "source": [
    "languages = [\"Python\", \"Java\"]\n",
    "languages = [\"Java\"] + languages #appending list\n",
    "print(languages)"
   ]
  },
  {
   "cell_type": "markdown",
   "id": "a984e202",
   "metadata": {},
   "source": [
    "The .join() method is used to concatenate (join) a sequence of strings, lists, or other iterable objects into a single string."
   ]
  },
  {
   "cell_type": "code",
   "execution_count": 26,
   "id": "c06b5990",
   "metadata": {},
   "outputs": [
    {
     "data": {
      "text/plain": [
       "'some data in a list'"
      ]
     },
     "execution_count": 26,
     "metadata": {},
     "output_type": "execute_result"
    }
   ],
   "source": [
    "#List elements can be joined to create a long string or sentence\n",
    "' '.join(['some','data','in','a','list'])"
   ]
  },
  {
   "cell_type": "code",
   "execution_count": 27,
   "id": "f5f5c01f",
   "metadata": {},
   "outputs": [
    {
     "name": "stdout",
     "output_type": "stream",
     "text": [
      "apple-banana-cherry\n"
     ]
    }
   ],
   "source": [
    "my_list = [\"apple\", \"banana\", \"cherry\"]\n",
    "result = '-'.join(my_list)\n",
    "print(result)"
   ]
  },
  {
   "cell_type": "markdown",
   "id": "c1970a9f",
   "metadata": {},
   "source": [
    "The .split() method is used to split a string into a list of substrings based on a specified delimiter."
   ]
  },
  {
   "cell_type": "code",
   "execution_count": 28,
   "id": "2b5d7e93",
   "metadata": {},
   "outputs": [
    {
     "data": {
      "text/plain": [
       "['Hi,', 'my', 'name', 'is', 'Sar.']"
      ]
     },
     "execution_count": 28,
     "metadata": {},
     "output_type": "execute_result"
    }
   ],
   "source": [
    "#We can split the different pieces of a string into a list using the .split()\n",
    "s = 'Hi, my name is Sar.'\n",
    "s.split()"
   ]
  },
  {
   "cell_type": "code",
   "execution_count": 29,
   "id": "79f9526e",
   "metadata": {},
   "outputs": [
    {
     "data": {
      "text/plain": [
       "['Hi', ' my name is Sar.']"
      ]
     },
     "execution_count": 29,
     "metadata": {},
     "output_type": "execute_result"
    }
   ],
   "source": [
    "s.split(',')"
   ]
  },
  {
   "cell_type": "code",
   "execution_count": 30,
   "id": "c02e11e3",
   "metadata": {},
   "outputs": [
    {
     "name": "stdout",
     "output_type": "stream",
     "text": [
      "This,is,a,string,with,extra,spaces\n"
     ]
    }
   ],
   "source": [
    "s = \"   This   is  a  string   with   extra   spaces   \"\n",
    "result = ','.join(s.split())\n",
    "print(result)"
   ]
  },
  {
   "cell_type": "markdown",
   "id": "6a30f3e5",
   "metadata": {},
   "source": [
    "### Hackerrank Capitalize"
   ]
  },
  {
   "cell_type": "markdown",
   "id": "58a6d4fe",
   "metadata": {},
   "source": [
    "I/P\\\n",
    "sarthak haldar\\\n",
    "O/P\\\n",
    "Sarthak Haldar"
   ]
  },
  {
   "cell_type": "code",
   "execution_count": 260,
   "id": "7a21344d",
   "metadata": {},
   "outputs": [
    {
     "data": {
      "text/plain": [
       "['sarthak', 'haldar']"
      ]
     },
     "execution_count": 260,
     "metadata": {},
     "output_type": "execute_result"
    }
   ],
   "source": [
    "name = 'sarthak haldar'\n",
    "splitted = name.split()\n",
    "splitted"
   ]
  },
  {
   "cell_type": "code",
   "execution_count": 261,
   "id": "830714c2",
   "metadata": {},
   "outputs": [
    {
     "data": {
      "text/plain": [
       "'sarthak'"
      ]
     },
     "execution_count": 261,
     "metadata": {},
     "output_type": "execute_result"
    }
   ],
   "source": [
    "splitted[0]"
   ]
  },
  {
   "cell_type": "code",
   "execution_count": 262,
   "id": "bb925d03",
   "metadata": {},
   "outputs": [
    {
     "data": {
      "text/plain": [
       "'Sarthak'"
      ]
     },
     "execution_count": 262,
     "metadata": {},
     "output_type": "execute_result"
    }
   ],
   "source": [
    "splitted[0].capitalize()"
   ]
  },
  {
   "cell_type": "code",
   "execution_count": 263,
   "id": "4c230407",
   "metadata": {},
   "outputs": [
    {
     "data": {
      "text/plain": [
       "'Haldar'"
      ]
     },
     "execution_count": 263,
     "metadata": {},
     "output_type": "execute_result"
    }
   ],
   "source": [
    "splitted[1].capitalize()"
   ]
  },
  {
   "cell_type": "code",
   "execution_count": 269,
   "id": "8b80accd",
   "metadata": {},
   "outputs": [
    {
     "name": "stdout",
     "output_type": "stream",
     "text": [
      "['Sarthak', 'Haldar']\n",
      "Sarthak Haldar\n"
     ]
    }
   ],
   "source": [
    "name = 'sarthak haldar'\n",
    "splitted = name.split()\n",
    "\n",
    "for n in range(len(splitted)):\n",
    "    splitted[n] = splitted[n].capitalize()\n",
    "\n",
    "print(splitted)\n",
    "\n",
    "result = ' '.join(splitted)\n",
    "print(result)\n"
   ]
  },
  {
   "cell_type": "markdown",
   "id": "e5200d13",
   "metadata": {},
   "source": [
    "The above code will fail test case if there is a double space between first and last name. There is a better way to achieve it"
   ]
  },
  {
   "cell_type": "code",
   "execution_count": 276,
   "id": "4950a0c7",
   "metadata": {},
   "outputs": [
    {
     "name": "stdout",
     "output_type": "stream",
     "text": [
      "Sarthak Haldar\n"
     ]
    }
   ],
   "source": [
    "name = 'sarthak haldar'\n",
    "\n",
    "\n",
    "for n in name.split():\n",
    "    name = name.replace(n, n.capitalize())\n",
    "\n",
    "print(name)"
   ]
  },
  {
   "cell_type": "code",
   "execution_count": 31,
   "id": "f5e0130f",
   "metadata": {},
   "outputs": [
    {
     "name": "stdout",
     "output_type": "stream",
     "text": [
      "Sunday\n",
      "Monday\n",
      "Tuesday\n",
      "Wednesday\n",
      "Thursday\n",
      "Friday\n",
      "Saturday\n"
     ]
    }
   ],
   "source": [
    "days = [\"Sunday\",\"Monday\",\"Tuesday\",\"Wednesday\",\"Thursday\",\"Friday\",\"Saturday\"]\n",
    "for d in days:\n",
    "    print(d)"
   ]
  },
  {
   "cell_type": "markdown",
   "id": "45cca8a9",
   "metadata": {},
   "source": [
    "### list(enumerate())"
   ]
  },
  {
   "cell_type": "markdown",
   "id": "317b48aa",
   "metadata": {},
   "source": [
    "The enumerate () method adds a counter to an iterable and returns it in the form of an enumerating object. This enumerated object can then be used directly for loops or converted into a list of tuples using the list() function."
   ]
  },
  {
   "cell_type": "code",
   "execution_count": 235,
   "id": "5826eb67",
   "metadata": {},
   "outputs": [
    {
     "name": "stdout",
     "output_type": "stream",
     "text": [
      "[(0, 'candy'), (1, 'bread'), (2, 'cake')]\n",
      "[(1, 'candy'), (2, 'bread'), (3, 'cake')]\n"
     ]
    }
   ],
   "source": [
    "my_list = ['candy', 'bread', 'cake']\n",
    "\n",
    "print(list(enumerate(my_list)))\n",
    "\n",
    "print(list(enumerate(my_list, start = 1)))\n"
   ]
  },
  {
   "cell_type": "markdown",
   "id": "bcf194d1",
   "metadata": {},
   "source": [
    "Without enumerate() function"
   ]
  },
  {
   "cell_type": "code",
   "execution_count": 237,
   "id": "5db657f1",
   "metadata": {},
   "outputs": [
    {
     "name": "stdout",
     "output_type": "stream",
     "text": [
      "0 : candy\n",
      "1 : bread\n",
      "2 : cake\n"
     ]
    }
   ],
   "source": [
    "my_list = ['candy', 'bread', 'cake']\n",
    "\n",
    "counter = 0\n",
    "\n",
    "for items in my_list:\n",
    "    print (f'{counter} : {items}')\n",
    "    counter += 1\n",
    "\n"
   ]
  },
  {
   "cell_type": "code",
   "execution_count": 240,
   "id": "dffa7a53",
   "metadata": {},
   "outputs": [
    {
     "name": "stdout",
     "output_type": "stream",
     "text": [
      "0 : candy\n",
      "1 : bread\n",
      "2 : cake\n"
     ]
    }
   ],
   "source": [
    "my_list = ['candy', 'bread', 'cake']\n",
    "\n",
    "for index, item in enumerate(my_list):\n",
    "    print(f'{index} : {item}')"
   ]
  },
  {
   "cell_type": "markdown",
   "id": "0ef071d9",
   "metadata": {},
   "source": [
    "### Find area of list of circle given their radii - map()"
   ]
  },
  {
   "cell_type": "code",
   "execution_count": 243,
   "id": "3e902538",
   "metadata": {},
   "outputs": [
    {
     "name": "stdout",
     "output_type": "stream",
     "text": [
      "[12.566370614359172, 84.94866535306801, 113.09733552923255, 201.06192982974676]\n"
     ]
    }
   ],
   "source": [
    "import math\n",
    "\n",
    "def area(r):\n",
    "\n",
    "    return math.pi * (r**2)\n",
    "\n",
    "radii = [2, 5.2, 6, 8]\n",
    "\n",
    "\n",
    "# Direct method\n",
    "\n",
    "areas = []\n",
    "for r in radii:\n",
    "    a = area(r)\n",
    "    areas.append(a)\n",
    "\n",
    "print(areas)"
   ]
  },
  {
   "cell_type": "markdown",
   "id": "52b04e9c",
   "metadata": {},
   "source": [
    "Using map()"
   ]
  },
  {
   "cell_type": "code",
   "execution_count": 246,
   "id": "d56b274e",
   "metadata": {},
   "outputs": [
    {
     "data": {
      "text/plain": [
       "[12.566370614359172, 84.94866535306801, 113.09733552923255, 201.06192982974676]"
      ]
     },
     "execution_count": 246,
     "metadata": {},
     "output_type": "execute_result"
    }
   ],
   "source": [
    "#using map()\n",
    "\n",
    "import math\n",
    "\n",
    "def area(r):\n",
    "\n",
    "    return math.pi * (r**2)\n",
    "\n",
    "radii = [2, 5.2, 6, 8]\n",
    "list(map(area, radii))"
   ]
  },
  {
   "cell_type": "markdown",
   "id": "d278e393",
   "metadata": {},
   "source": [
    "### Convert list of celcius to fahrenheit using lambda"
   ]
  },
  {
   "cell_type": "code",
   "execution_count": 248,
   "id": "c6b6130e",
   "metadata": {},
   "outputs": [
    {
     "data": {
      "text/plain": [
       "[('Berlin', 84.2), ('Cairo', 96.8), ('New York', 66.2)]"
      ]
     },
     "execution_count": 248,
     "metadata": {},
     "output_type": "execute_result"
    }
   ],
   "source": [
    "temp_list = [(\"Berlin\", 29), (\"Cairo\", 36), (\"New York\", 19)]\n",
    "\n",
    "c_to_f = lambda data: (data[0], (9/5)*data[1] + 32)\n",
    "\n",
    "list(map(c_to_f, temp_list))"
   ]
  },
  {
   "cell_type": "markdown",
   "id": "971f46ca",
   "metadata": {},
   "source": [
    "### filter() function"
   ]
  },
  {
   "cell_type": "markdown",
   "id": "e5cdd079",
   "metadata": {},
   "source": [
    "Removing missing data with filter()"
   ]
  },
  {
   "cell_type": "markdown",
   "id": "cd0638e5",
   "metadata": {},
   "source": [
    "Q) Filter out list values which are greater than average"
   ]
  },
  {
   "cell_type": "code",
   "execution_count": 249,
   "id": "db0957ab",
   "metadata": {},
   "outputs": [
    {
     "data": {
      "text/plain": [
       "2.9"
      ]
     },
     "execution_count": 249,
     "metadata": {},
     "output_type": "execute_result"
    }
   ],
   "source": [
    "import statistics\n",
    "\n",
    "data = [1.3, 2.7, 0,8, 4.1, 4.3, -0.1]\n",
    "\n",
    "avg = statistics.mean(data)\n",
    "\n",
    "avg"
   ]
  },
  {
   "cell_type": "code",
   "execution_count": 250,
   "id": "10c23e9b",
   "metadata": {},
   "outputs": [
    {
     "data": {
      "text/plain": [
       "[8, 4.1, 4.3]"
      ]
     },
     "execution_count": 250,
     "metadata": {},
     "output_type": "execute_result"
    }
   ],
   "source": [
    "list(filter(lambda x: x > avg, data))"
   ]
  },
  {
   "cell_type": "markdown",
   "id": "d6fd9ec0",
   "metadata": {},
   "source": [
    "Filter out null values from list"
   ]
  },
  {
   "cell_type": "code",
   "execution_count": 251,
   "id": "681c6eda",
   "metadata": {},
   "outputs": [
    {
     "data": {
      "text/plain": [
       "['Brazil', 'China', 'India']"
      ]
     },
     "execution_count": 251,
     "metadata": {},
     "output_type": "execute_result"
    }
   ],
   "source": [
    "data = [\"Brazil\", \"\", \"China\", \"India\"]\n",
    "\n",
    "list(filter(None, data))"
   ]
  },
  {
   "cell_type": "markdown",
   "id": "03b4cdd1",
   "metadata": {},
   "source": [
    "### Lists are mutable"
   ]
  },
  {
   "cell_type": "code",
   "execution_count": 194,
   "id": "4136cbdb",
   "metadata": {},
   "outputs": [
    {
     "name": "stdout",
     "output_type": "stream",
     "text": [
      "[1, 2, 3, 4, 'sarthak']\n",
      "[1, 2, 3, 4, 5]\n"
     ]
    }
   ],
   "source": [
    "list1 = [1, 2, 3, 4, 'sarthak']\n",
    "print(list1)\n",
    "list1[-1] = 5\n",
    "print(list1)"
   ]
  },
  {
   "cell_type": "markdown",
   "id": "ec62d288",
   "metadata": {},
   "source": [
    "### Strings are immutable"
   ]
  },
  {
   "cell_type": "code",
   "execution_count": 199,
   "id": "4f731cae",
   "metadata": {},
   "outputs": [
    {
     "name": "stdout",
     "output_type": "stream",
     "text": [
      "sarthal haldar\n",
      "l\n"
     ]
    },
    {
     "ename": "TypeError",
     "evalue": "'str' object does not support item assignment",
     "output_type": "error",
     "traceback": [
      "\u001b[0;31m---------------------------------------------------------------------------\u001b[0m",
      "\u001b[0;31mTypeError\u001b[0m                                 Traceback (most recent call last)",
      "Cell \u001b[0;32mIn[199], line 6\u001b[0m\n\u001b[1;32m      2\u001b[0m \u001b[38;5;28mprint\u001b[39m(str1)\n\u001b[1;32m      3\u001b[0m \u001b[38;5;28mprint\u001b[39m(str1[\u001b[38;5;241m6\u001b[39m])\n\u001b[0;32m----> 6\u001b[0m str1[\u001b[38;5;241m6\u001b[39m] \u001b[38;5;241m=\u001b[39m \u001b[38;5;124m'\u001b[39m\u001b[38;5;124mk\u001b[39m\u001b[38;5;124m'\u001b[39m\n\u001b[1;32m      7\u001b[0m \u001b[38;5;28mprint\u001b[39m(str1)\n",
      "\u001b[0;31mTypeError\u001b[0m: 'str' object does not support item assignment"
     ]
    }
   ],
   "source": [
    "str1 = 'sarthal haldar'\n",
    "print(str1)\n",
    "print(str1[6])\n",
    "\n",
    "\n",
    "str1[6] = 'k'\n",
    "print(str1)"
   ]
  },
  {
   "cell_type": "markdown",
   "id": "8537dd2c",
   "metadata": {},
   "source": [
    "### To correct any alphabet on a string, we first convert the string to a list"
   ]
  },
  {
   "cell_type": "code",
   "execution_count": 207,
   "id": "4f9e3498",
   "metadata": {},
   "outputs": [
    {
     "name": "stdout",
     "output_type": "stream",
     "text": [
      "['s', 'a', 'r', 't', 'h', 'a', 'l', ' ', 'h', 'a', 'l', 'd', 'a', 'r']\n"
     ]
    }
   ],
   "source": [
    "str1 = 'sarthal haldar'\n",
    "my_lst = list(str1)\n",
    "print(my_lst)"
   ]
  },
  {
   "cell_type": "markdown",
   "id": "e5a1c17c",
   "metadata": {},
   "source": [
    "note that .split() is different"
   ]
  },
  {
   "cell_type": "code",
   "execution_count": 208,
   "id": "a12ae269",
   "metadata": {},
   "outputs": [
    {
     "name": "stdout",
     "output_type": "stream",
     "text": [
      "['sarthal', 'haldar']\n"
     ]
    }
   ],
   "source": [
    "str1 = 'sarthal haldar'\n",
    "my_lst2 = str1.split()\n",
    "print(my_lst2)"
   ]
  },
  {
   "cell_type": "markdown",
   "id": "9b6f9590",
   "metadata": {},
   "source": [
    "next we make correction"
   ]
  },
  {
   "cell_type": "code",
   "execution_count": 204,
   "id": "aefd01aa",
   "metadata": {},
   "outputs": [
    {
     "name": "stdout",
     "output_type": "stream",
     "text": [
      "['s', 'a', 'r', 't', 'h', 'a', 'k', ' ', 'h', 'a', 'l', 'd', 'a', 'r']\n"
     ]
    }
   ],
   "source": [
    "my_lst[6] = 'k'\n",
    "print(my_lst)"
   ]
  },
  {
   "cell_type": "markdown",
   "id": "638a00d3",
   "metadata": {},
   "source": [
    "Now we join the list to a string"
   ]
  },
  {
   "cell_type": "code",
   "execution_count": 205,
   "id": "1246f255",
   "metadata": {},
   "outputs": [
    {
     "data": {
      "text/plain": [
       "'sarthak haldar'"
      ]
     },
     "execution_count": 205,
     "metadata": {},
     "output_type": "execute_result"
    }
   ],
   "source": [
    "''.join(my_lst)"
   ]
  },
  {
   "cell_type": "markdown",
   "id": "2932828f",
   "metadata": {},
   "source": [
    "### Hackerrank Mutations"
   ]
  },
  {
   "cell_type": "markdown",
   "id": "69212b78",
   "metadata": {},
   "source": [
    "\n",
    "STDIN        \n",
    "sarthal haldar\\\n",
    "6  k           \n",
    "\n",
    "Function\n",
    "\n",
    "s = 'sarthal haldar'\\\n",
    "position = 6, character = 'k'"
   ]
  },
  {
   "cell_type": "code",
   "execution_count": 210,
   "id": "7404c7b5",
   "metadata": {},
   "outputs": [
    {
     "name": "stdout",
     "output_type": "stream",
     "text": [
      "sarthal haldar\n",
      "sarthak haldar\n"
     ]
    }
   ],
   "source": [
    "def mutate_string(string, position, character):\n",
    "    \n",
    "    my_list = list(string)\n",
    "    my_list[position] = character\n",
    "    joined_list = ''.join(my_list)\n",
    "    return joined_list\n",
    "\n",
    "if __name__ == '__main__':\n",
    "    s = input()\n",
    "    i, c = input().split()\n",
    "    s_new = mutate_string(s, int(i), c)\n",
    "    print(s)\n",
    "    print(s_new)"
   ]
  },
  {
   "cell_type": "markdown",
   "id": "a60ee46d",
   "metadata": {},
   "source": [
    "### Print position of list items"
   ]
  },
  {
   "cell_type": "code",
   "execution_count": 189,
   "id": "14356777",
   "metadata": {},
   "outputs": [
    {
     "name": "stdout",
     "output_type": "stream",
     "text": [
      "0\n",
      "1\n",
      "2\n",
      "3\n",
      "4\n",
      "5\n",
      "6\n"
     ]
    }
   ],
   "source": [
    "days = [\"Sunday\",\"Monday\",\"Tuesday\",\"Wednesday\",\"Thursday\",\"Friday\",\"Saturday\"]\n",
    "for i in range(len(days)):\n",
    "    print(i)"
   ]
  },
  {
   "cell_type": "markdown",
   "id": "211f2071",
   "metadata": {},
   "source": [
    "### Hackerrank String Split and Join"
   ]
  },
  {
   "cell_type": "markdown",
   "id": "12036864",
   "metadata": {},
   "source": [
    "Input Format\\\n",
    "The one line contains a string consisting of space separated words.\n",
    "\n",
    "Sample Input\\\n",
    "this is a string\n",
    "\n",
    "Sample Output\\\n",
    "this-is-a-string"
   ]
  },
  {
   "cell_type": "code",
   "execution_count": 188,
   "id": "13ce4051",
   "metadata": {},
   "outputs": [
    {
     "name": "stdout",
     "output_type": "stream",
     "text": [
      "this-is-a-string\n"
     ]
    }
   ],
   "source": [
    "def split_and_join(line):\n",
    "    # write your code here\n",
    "    line = line.split()\n",
    "    result = '-'.join(line)\n",
    "    return result\n",
    "if __name__ == '__main__':\n",
    "    line = input()\n",
    "    result = split_and_join(line)\n",
    "    print(result)"
   ]
  },
  {
   "cell_type": "markdown",
   "id": "2eab63db",
   "metadata": {},
   "source": [
    "Printing normal list from user input"
   ]
  },
  {
   "cell_type": "code",
   "execution_count": 138,
   "id": "7a482bb6",
   "metadata": {},
   "outputs": [
    {
     "name": "stdout",
     "output_type": "stream",
     "text": [
      "['6', '8', '1', '2', '9']\n"
     ]
    }
   ],
   "source": [
    "numlist = input().split()\n",
    "print (numlist)"
   ]
  },
  {
   "cell_type": "code",
   "execution_count": 140,
   "id": "35168fda",
   "metadata": {},
   "outputs": [
    {
     "data": {
      "text/plain": [
       "str"
      ]
     },
     "execution_count": 140,
     "metadata": {},
     "output_type": "execute_result"
    }
   ],
   "source": [
    "type(numlist[0])"
   ]
  },
  {
   "cell_type": "markdown",
   "id": "a51b7d31",
   "metadata": {},
   "source": [
    "It is actually a list of string"
   ]
  },
  {
   "cell_type": "code",
   "execution_count": 142,
   "id": "18e749c2",
   "metadata": {},
   "outputs": [
    {
     "name": "stdout",
     "output_type": "stream",
     "text": [
      "[6, 8, 1, 2, 9]\n"
     ]
    }
   ],
   "source": [
    "numlist2 = list(map(int, input().split()))\n",
    "print (numlist2)"
   ]
  },
  {
   "cell_type": "code",
   "execution_count": 143,
   "id": "5e3e11d4",
   "metadata": {},
   "outputs": [
    {
     "data": {
      "text/plain": [
       "int"
      ]
     },
     "execution_count": 143,
     "metadata": {},
     "output_type": "execute_result"
    }
   ],
   "source": [
    "type(numlist2[0])"
   ]
  },
  {
   "cell_type": "code",
   "execution_count": 144,
   "id": "37f4dc35",
   "metadata": {},
   "outputs": [
    {
     "data": {
      "text/plain": [
       "list"
      ]
     },
     "execution_count": 144,
     "metadata": {},
     "output_type": "execute_result"
    }
   ],
   "source": [
    "type(numlist2)"
   ]
  },
  {
   "cell_type": "code",
   "execution_count": 145,
   "id": "3530f4ff",
   "metadata": {},
   "outputs": [
    {
     "name": "stdout",
     "output_type": "stream",
     "text": [
      "(6, 8, 1, 2, 9)\n"
     ]
    },
    {
     "data": {
      "text/plain": [
       "tuple"
      ]
     },
     "execution_count": 145,
     "metadata": {},
     "output_type": "execute_result"
    }
   ],
   "source": [
    "#to tuple\n",
    "numlist3 = tuple(map(int, input().split()))\n",
    "print (numlist3)\n",
    "type(numlist3)"
   ]
  },
  {
   "cell_type": "code",
   "execution_count": 32,
   "id": "59639b41",
   "metadata": {},
   "outputs": [
    {
     "name": "stdout",
     "output_type": "stream",
     "text": [
      "1 1\n",
      "1 2\n",
      "1 3\n",
      "1 4\n",
      "1 5\n",
      "1 6\n",
      "2 1\n",
      "2 2\n",
      "2 3\n",
      "2 4\n",
      "2 5\n",
      "2 6\n",
      "3 1\n",
      "3 2\n",
      "3 3\n",
      "3 4\n",
      "3 5\n",
      "3 6\n",
      "4 1\n",
      "4 2\n",
      "4 3\n",
      "4 4\n",
      "4 5\n",
      "4 6\n",
      "5 1\n",
      "5 2\n",
      "5 3\n",
      "5 4\n",
      "5 5\n",
      "5 6\n",
      "6 1\n",
      "6 2\n",
      "6 3\n",
      "6 4\n",
      "6 5\n",
      "6 6\n"
     ]
    }
   ],
   "source": [
    "for i in range(1,7):\n",
    "    for j in range(1,7):\n",
    "        print(i,j)"
   ]
  },
  {
   "cell_type": "markdown",
   "id": "8337bbf2",
   "metadata": {},
   "source": [
    "The map() function in Python is a built-in function that is used to apply a given function to every item of an iterable (such as a list, tuple, or string) and returns an iterable map object."
   ]
  },
  {
   "cell_type": "code",
   "execution_count": 33,
   "id": "5e5cfccc",
   "metadata": {},
   "outputs": [
    {
     "name": "stdout",
     "output_type": "stream",
     "text": [
      "[1, 4, 9, 16, 25]\n"
     ]
    }
   ],
   "source": [
    "def square(x):\n",
    "    return x * x\n",
    "\n",
    "numbers = [1, 2, 3, 4, 5]\n",
    "squared_numbers = map(square, numbers)\n",
    "\n",
    "# To get the result as a list, convert the map object to a list\n",
    "squared_numbers_list = list(squared_numbers)\n",
    "\n",
    "print(squared_numbers_list)\n"
   ]
  },
  {
   "cell_type": "code",
   "execution_count": 34,
   "id": "acae3b36",
   "metadata": {},
   "outputs": [
    {
     "name": "stdout",
     "output_type": "stream",
     "text": [
      "[1, 4, 9, 16, 25]\n"
     ]
    }
   ],
   "source": [
    "list1 = [1, 2, 3, 4, 5]\n",
    "\n",
    "sq = list(map(lambda x: x**2, list1))\n",
    "\n",
    "print(sq)"
   ]
  },
  {
   "cell_type": "code",
   "execution_count": 35,
   "id": "b53c99e1",
   "metadata": {},
   "outputs": [
    {
     "name": "stdout",
     "output_type": "stream",
     "text": [
      "[1, 4, 9, 16, 25]\n"
     ]
    }
   ],
   "source": [
    "list1 = [1, 2, 3, 4, 5]\n",
    "\n",
    "sq = list(map(lambda x: pow(x,2), list1))\n",
    "\n",
    "print(sq)"
   ]
  },
  {
   "cell_type": "markdown",
   "id": "61bc18d6",
   "metadata": {},
   "source": [
    "### upper() and lower()"
   ]
  },
  {
   "cell_type": "code",
   "execution_count": 252,
   "id": "66038a1a",
   "metadata": {},
   "outputs": [
    {
     "data": {
      "text/plain": [
       "'SARTHAK'"
      ]
     },
     "execution_count": 252,
     "metadata": {},
     "output_type": "execute_result"
    }
   ],
   "source": [
    "my_str = 'sarthak'\n",
    "my_str.upper()"
   ]
  },
  {
   "cell_type": "markdown",
   "id": "753a71b8",
   "metadata": {},
   "source": [
    "to check whether a string is upper or lower"
   ]
  },
  {
   "cell_type": "code",
   "execution_count": 253,
   "id": "b8ecb337",
   "metadata": {},
   "outputs": [
    {
     "data": {
      "text/plain": [
       "False"
      ]
     },
     "execution_count": 253,
     "metadata": {},
     "output_type": "execute_result"
    }
   ],
   "source": [
    "my_str = 'sarthak'\n",
    "\n",
    "my_str.isupper()"
   ]
  },
  {
   "cell_type": "code",
   "execution_count": 254,
   "id": "8e63ed6c",
   "metadata": {},
   "outputs": [
    {
     "data": {
      "text/plain": [
       "True"
      ]
     },
     "execution_count": 254,
     "metadata": {},
     "output_type": "execute_result"
    }
   ],
   "source": [
    "my_str = 'sarthak'\n",
    "\n",
    "my_str.islower()"
   ]
  },
  {
   "cell_type": "code",
   "execution_count": 255,
   "id": "69cebdac",
   "metadata": {},
   "outputs": [
    {
     "data": {
      "text/plain": [
       "'alfacef59'"
      ]
     },
     "execution_count": 255,
     "metadata": {},
     "output_type": "execute_result"
    }
   ],
   "source": [
    "#list to a string\n",
    "\n",
    "''.join(['alfa', 'cef', '59'])"
   ]
  },
  {
   "cell_type": "markdown",
   "id": "0c253ca8",
   "metadata": {},
   "source": [
    "### Hackerrank sWAP cASE"
   ]
  },
  {
   "cell_type": "markdown",
   "id": "67a68aa3",
   "metadata": {},
   "source": [
    "In\\\n",
    "HackerRank.com presents \"Pythonist 2\".\n",
    "\n",
    "Out\\\n",
    "hACKERrANK.COM PRESENTS \"pYTHONIST 2\"."
   ]
  },
  {
   "cell_type": "code",
   "execution_count": 256,
   "id": "b4dcccd2",
   "metadata": {},
   "outputs": [
    {
     "name": "stdout",
     "output_type": "stream",
     "text": [
      "sWAP cASE\n"
     ]
    }
   ],
   "source": [
    "s = input() #string input\n",
    "\n",
    "new_s = []  #blank list\n",
    "\n",
    "\n",
    "    \n",
    "for item in s:\n",
    "    if item.isalpha():\n",
    "        if item.isupper():\n",
    "            new_s.append(item.lower())\n",
    "        else:\n",
    "            new_s.append(item.upper())\n",
    "            \n",
    "    else:\n",
    "        new_s.append(item)\n",
    "    \n",
    "    \n",
    "    \n",
    "    \n",
    "print(''.join(new_s))"
   ]
  },
  {
   "cell_type": "markdown",
   "id": "b49e7bb5",
   "metadata": {},
   "source": [
    "### Take user input a python list of integer element and print the list. Use List Comprehension"
   ]
  },
  {
   "cell_type": "markdown",
   "id": "cdeddda1",
   "metadata": {},
   "source": [
    "List comprehension is a concise way to create lists in Python. It provides a more readable and compact syntax for creating lists compared to using traditional loops."
   ]
  },
  {
   "cell_type": "code",
   "execution_count": 100,
   "id": "c6aeff3d",
   "metadata": {},
   "outputs": [
    {
     "name": "stdout",
     "output_type": "stream",
     "text": [
      "[4, 5, 6]\n"
     ]
    }
   ],
   "source": [
    "n= int(input())\n",
    "list1 = [int(x) for x in input().split()][:n]\n",
    "print(list1)\n",
    "\n",
    "#3\n",
    "#4 5 6"
   ]
  },
  {
   "cell_type": "markdown",
   "id": "40231248",
   "metadata": {},
   "source": [
    "### Normal list append"
   ]
  },
  {
   "cell_type": "code",
   "execution_count": 103,
   "id": "b36bad77",
   "metadata": {},
   "outputs": [
    {
     "name": "stdout",
     "output_type": "stream",
     "text": [
      "['James Wick', 'John Wick', 'Tom Wick']\n"
     ]
    }
   ],
   "source": [
    "my_list = ['James', 'John', 'Tom']\n",
    "new_list = []\n",
    "for n in my_list:\n",
    "    n = n + ' Wick'\n",
    "    new_list.append(n)\n",
    "\n",
    "print(new_list)"
   ]
  },
  {
   "cell_type": "markdown",
   "id": "f82ce6d6",
   "metadata": {},
   "source": [
    "### Appending with list comprehension"
   ]
  },
  {
   "cell_type": "code",
   "execution_count": 104,
   "id": "8a5b8a0a",
   "metadata": {},
   "outputs": [
    {
     "name": "stdout",
     "output_type": "stream",
     "text": [
      "['James Wick', 'John Wick', 'Tom Wick']\n"
     ]
    }
   ],
   "source": [
    "my_list = ['James', 'John', 'Tom']\n",
    "new_list = [name + ' Wick' for name in my_list]\n",
    "print(new_list)"
   ]
  },
  {
   "cell_type": "markdown",
   "id": "cac6e3fa",
   "metadata": {},
   "source": [
    "### Multiply each element of list with 3 with list comprehension"
   ]
  },
  {
   "cell_type": "code",
   "execution_count": 105,
   "id": "39610e2e",
   "metadata": {},
   "outputs": [
    {
     "name": "stdout",
     "output_type": "stream",
     "text": [
      "[12, 15, 18, 21, 24, 27]\n"
     ]
    }
   ],
   "source": [
    "num_list = [4, 5, 6, 7, 8, 9]\n",
    "\n",
    "\n",
    "new_list = [n * 3 for n in num_list]\n",
    "\n",
    "print(new_list)"
   ]
  },
  {
   "cell_type": "markdown",
   "id": "d9e5608d",
   "metadata": {},
   "source": [
    "### Take input a list of int 2, 3, 4 from user and add all the elements"
   ]
  },
  {
   "cell_type": "code",
   "execution_count": 221,
   "id": "711ed04a",
   "metadata": {},
   "outputs": [
    {
     "name": "stdout",
     "output_type": "stream",
     "text": [
      "9\n"
     ]
    }
   ],
   "source": [
    "my_list = list(map(int, input().split()))\n",
    "print(sum(my_list))"
   ]
  },
  {
   "cell_type": "markdown",
   "id": "acd8a2e1",
   "metadata": {},
   "source": [
    "### Take user input a python list of integer element with comma delimiter and print the list"
   ]
  },
  {
   "cell_type": "code",
   "execution_count": 95,
   "id": "c93f1c88",
   "metadata": {},
   "outputs": [
    {
     "name": "stdout",
     "output_type": "stream",
     "text": [
      "[4, 5, 6]\n"
     ]
    }
   ],
   "source": [
    "list1 = [int(x) for x in input().split('*')]\n",
    "print(list1)\n",
    "\n",
    "#prints a list separated by *. 4*5*6"
   ]
  },
  {
   "cell_type": "markdown",
   "id": "eadbc946",
   "metadata": {},
   "source": [
    "### Nested List"
   ]
  },
  {
   "cell_type": "code",
   "execution_count": 68,
   "id": "d814589f",
   "metadata": {},
   "outputs": [
    {
     "name": "stdout",
     "output_type": "stream",
     "text": [
      "[['uranium', '239'], ['Hydrogen', '1'], ['Hydrogen', '2']]\n"
     ]
    }
   ],
   "source": [
    "N = int(input()) #number of input element\n",
    "lst = [] #blank list to store element\n",
    "\n",
    "for _ in range(N):\n",
    "    element = input().split()\n",
    "    lst.append(element)\n",
    "\n",
    "print(lst)"
   ]
  },
  {
   "cell_type": "code",
   "execution_count": 69,
   "id": "89abf626",
   "metadata": {},
   "outputs": [
    {
     "data": {
      "text/plain": [
       "['uranium', '239']"
      ]
     },
     "execution_count": 69,
     "metadata": {},
     "output_type": "execute_result"
    }
   ],
   "source": [
    "lst[0]"
   ]
  },
  {
   "cell_type": "code",
   "execution_count": 70,
   "id": "a3204fd7",
   "metadata": {},
   "outputs": [
    {
     "data": {
      "text/plain": [
       "['Hydrogen', '1']"
      ]
     },
     "execution_count": 70,
     "metadata": {},
     "output_type": "execute_result"
    }
   ],
   "source": [
    "lst[1]"
   ]
  },
  {
   "cell_type": "markdown",
   "id": "3ee7bc91",
   "metadata": {},
   "source": [
    "### Nested List 2 - Studend and its score"
   ]
  },
  {
   "cell_type": "code",
   "execution_count": 73,
   "id": "42a15f27",
   "metadata": {},
   "outputs": [
    {
     "name": "stdout",
     "output_type": "stream",
     "text": [
      "[['harry', 90.0], ['berry', 89.0]]\n",
      "89.0\n"
     ]
    }
   ],
   "source": [
    "if __name__ == '__main__':\n",
    "    student = []\n",
    "    for _ in range(int(input())):\n",
    "        name = input()\n",
    "        score = float(input())\n",
    "        student.append([name, score])\n",
    "        \n",
    "    print(student)\n",
    "    print(student[1][1])"
   ]
  },
  {
   "cell_type": "code",
   "execution_count": 75,
   "id": "987d619d",
   "metadata": {},
   "outputs": [
    {
     "name": "stdout",
     "output_type": "stream",
     "text": [
      "['harry', 90.0]\n",
      "['berry', 89.0]\n"
     ]
    }
   ],
   "source": [
    "for item in student:\n",
    "    print (item)"
   ]
  },
  {
   "cell_type": "code",
   "execution_count": 76,
   "id": "bcb234c5",
   "metadata": {},
   "outputs": [
    {
     "name": "stdout",
     "output_type": "stream",
     "text": [
      "harry\n",
      "berry\n"
     ]
    }
   ],
   "source": [
    "for item in student:\n",
    "    print (item[0])"
   ]
  },
  {
   "cell_type": "code",
   "execution_count": 77,
   "id": "94bfa37c",
   "metadata": {},
   "outputs": [
    {
     "name": "stdout",
     "output_type": "stream",
     "text": [
      "90.0\n",
      "89.0\n"
     ]
    }
   ],
   "source": [
    "for item in student:\n",
    "    print (item[1])"
   ]
  },
  {
   "cell_type": "markdown",
   "id": "af9da401",
   "metadata": {},
   "source": [
    "### Find name of highest and lowerst scorer in a student record\n",
    "\n"
   ]
  },
  {
   "cell_type": "markdown",
   "id": "cd758852",
   "metadata": {},
   "source": [
    "records = [[\" chi\" , 20.0], [\"beta\", 50.0], [\"alpha\", 60.0]]\n",
    "\n",
    "\n",
    "The ordered list of scores is [20.0, 50.0, 60.0], so the lowest score is 20.0. There is one students with that score: [\"chi\"]. There is [\"alpha\"] with highest score.\n",
    "So output is:\n",
    "alpha\n",
    "chi"
   ]
  },
  {
   "cell_type": "code",
   "execution_count": 90,
   "id": "d9efadd0",
   "metadata": {},
   "outputs": [
    {
     "name": "stdout",
     "output_type": "stream",
     "text": [
      "60.0\n",
      "20.0\n",
      "['alpha']\n",
      "['chi']\n"
     ]
    }
   ],
   "source": [
    "def high_low(records):\n",
    "    score_list = []\n",
    "    for n in records:\n",
    "        score_list.append(n[1]) #n[1] just store the score\n",
    "\n",
    "    score_list = set(score_list)\n",
    "    highest_score = max(score_list)\n",
    "    lowest_score = min(score_list)\n",
    "\n",
    "    \n",
    "    print(highest_score)\n",
    "    print(lowest_score)\n",
    "\n",
    "    highest_name = []\n",
    "    lowest_name = []\n",
    "\n",
    "    for n in records:\n",
    "        if n[1] == highest_score:\n",
    "            highest_name.append(n[0]) #n[0] will store just name\n",
    "        \n",
    "        if n[1] == lowest_score:\n",
    "            lowest_name.append(n[0]) #n[0] will store just name\n",
    "\n",
    "    print(highest_name)\n",
    "    print(lowest_name)\n",
    "\n",
    "\n",
    "if __name__ == '__main__':\n",
    "    records = []\n",
    "    for _ in range(int(input())):\n",
    "        name = input()\n",
    "        score = float(input())\n",
    "        records.append([name, score])\n",
    "\n",
    "    high_low(records)"
   ]
  },
  {
   "cell_type": "markdown",
   "id": "05d6fb75",
   "metadata": {},
   "source": [
    "### Print the positions of even numbers in a Python list"
   ]
  },
  {
   "cell_type": "code",
   "execution_count": null,
   "id": "babe0c2b",
   "metadata": {},
   "outputs": [
    {
     "name": "stdout",
     "output_type": "stream",
     "text": [
      "3 4 5 6 8\n",
      "[1, 3, 4]\n"
     ]
    }
   ],
   "source": [
    "\n",
    "\n",
    "list1 = [int(x) for x in input().split()]\n",
    "\n",
    "def checkEven(list1):\n",
    "    even_positions = []\n",
    "    for i in range(len(list1)):\n",
    "        if list1[i] % 2 == 0:\n",
    "            even_positions.append(i)\n",
    "    return even_positions\n",
    "\n",
    "result = checkEven(list1)\n",
    "print(result)\n"
   ]
  },
  {
   "cell_type": "markdown",
   "id": "00166f15",
   "metadata": {},
   "source": [
    "### Add iteratively two consecutive elements (not distinct elements) of a python list and print the list"
   ]
  },
  {
   "cell_type": "code",
   "execution_count": null,
   "id": "7d8ce7da",
   "metadata": {},
   "outputs": [
    {
     "name": "stdout",
     "output_type": "stream",
     "text": [
      "3 4 5 6 7 8\n",
      "[7, 9, 11, 13, 15]\n"
     ]
    }
   ],
   "source": [
    "\n",
    "list1 = [int(x) for x in input().split()]\n",
    "\n",
    "def addTwoItem(list1):\n",
    "    sumList = []\n",
    "    for i in range(len(list1)-1):\n",
    "        \n",
    "        sumList.append(list1[i]+list1[i+1])\n",
    "    return sumList\n",
    "\n",
    "result = addTwoItem(list1)\n",
    "print(result)"
   ]
  },
  {
   "cell_type": "markdown",
   "id": "49f8d44c",
   "metadata": {},
   "source": [
    "### end = ' ' ensures that the numbers are printed consecutively on the same line without any spaces."
   ]
  },
  {
   "cell_type": "code",
   "execution_count": null,
   "id": "46995289",
   "metadata": {},
   "outputs": [
    {
     "name": "stdout",
     "output_type": "stream",
     "text": [
      "1\n",
      "2\n",
      "3\n",
      "123"
     ]
    }
   ],
   "source": [
    "if __name__ == '__main__':\n",
    "    n = 3\n",
    "    \n",
    "    for i in range (1,n+1):\n",
    "        print(i)\n",
    "    for i in range (1,n+1):\n",
    "        print(i, end = '')"
   ]
  },
  {
   "cell_type": "markdown",
   "id": "f91b6656",
   "metadata": {},
   "source": [
    "### Find 2nd largest number in a list"
   ]
  },
  {
   "cell_type": "code",
   "execution_count": 79,
   "id": "da474e55",
   "metadata": {},
   "outputs": [
    {
     "name": "stdout",
     "output_type": "stream",
     "text": [
      "[1, 2, 5, 9]\n"
     ]
    }
   ],
   "source": [
    "lst = [5, 2, 9, 1, 5]\n",
    "\n",
    "sort_lst = sorted(set(lst))\n",
    "\n",
    "print(sort_lst)"
   ]
  },
  {
   "cell_type": "code",
   "execution_count": 83,
   "id": "ba29b1f4",
   "metadata": {},
   "outputs": [
    {
     "data": {
      "text/plain": [
       "9"
      ]
     },
     "execution_count": 83,
     "metadata": {},
     "output_type": "execute_result"
    }
   ],
   "source": [
    "#largest number\n",
    "sort_lst[-1]"
   ]
  },
  {
   "cell_type": "code",
   "execution_count": 84,
   "id": "114b96f4",
   "metadata": {},
   "outputs": [
    {
     "data": {
      "text/plain": [
       "5"
      ]
     },
     "execution_count": 84,
     "metadata": {},
     "output_type": "execute_result"
    }
   ],
   "source": [
    "#second largest number\n",
    "sort_lst[-2]"
   ]
  },
  {
   "cell_type": "markdown",
   "id": "7d793bf0",
   "metadata": {},
   "source": [
    "### Finding element in a list"
   ]
  },
  {
   "cell_type": "code",
   "execution_count": 229,
   "id": "49e3578c",
   "metadata": {},
   "outputs": [
    {
     "name": "stdout",
     "output_type": "stream",
     "text": [
      "2\n"
     ]
    }
   ],
   "source": [
    "my_list = [5, 2, 8, 9, 5]\n",
    "to_search = 5\n",
    "\n",
    "count = 0\n",
    "for element in my_list:\n",
    "    if element == to_search:\n",
    "        count += 1\n",
    "            \n",
    "print(count)"
   ]
  },
  {
   "cell_type": "markdown",
   "id": "1877e275",
   "metadata": {},
   "source": [
    "### Finding sub_string in a string"
   ]
  },
  {
   "cell_type": "markdown",
   "id": "89fa0695",
   "metadata": {},
   "source": [
    "### find() function"
   ]
  },
  {
   "cell_type": "code",
   "execution_count": 227,
   "id": "f49c824a",
   "metadata": {},
   "outputs": [
    {
     "name": "stdout",
     "output_type": "stream",
     "text": [
      "First occurrence of 'world': 7\n",
      "Second occurrence of 'world': 29\n"
     ]
    }
   ],
   "source": [
    "# Define the main string\n",
    "main_string = \"Hello, world! Welcome to the world of Python programming.\"\n",
    "\n",
    "# Define the substring to search for\n",
    "substring = \"world\"\n",
    "\n",
    "# Find the first occurrence of the substring\n",
    "first_occurrence = main_string.find(substring)\n",
    "print(f\"First occurrence of '{substring}': {first_occurrence}\")\n",
    "\n",
    "# Find the next occurrence of the substring after the first one\n",
    "second_occurrence = main_string.find(substring, first_occurrence + 1)\n",
    "print(f\"Second occurrence of '{substring}': {second_occurrence}\")\n"
   ]
  },
  {
   "cell_type": "code",
   "execution_count": 226,
   "id": "8d14c103",
   "metadata": {},
   "outputs": [
    {
     "name": "stdout",
     "output_type": "stream",
     "text": [
      "2\n"
     ]
    }
   ],
   "source": [
    "string = 'ABCDCDC'\n",
    "sub_string = 'CDC'\n",
    "\n",
    "start = 0\n",
    "counter = 0\n",
    "\n",
    "while start <= len(string) - len(sub_string): #The while loop condition is updated to start <= len(string) - len(sub_string) to ensure the sliding window does not go out of bounds.\n",
    "    end = start + len(sub_string)\n",
    "    if sub_string == string[start:end]:\n",
    "        counter += 1\n",
    "    start += 1  # Sliding window: 0 to 3, 1 to 4, and so forth\n",
    "\n",
    "print(counter)\n"
   ]
  },
  {
   "cell_type": "code",
   "execution_count": 230,
   "id": "e83baebf",
   "metadata": {},
   "outputs": [
    {
     "name": "stdout",
     "output_type": "stream",
     "text": [
      "ABC\n",
      "BCD\n",
      "CDC\n",
      "DCD\n",
      "CDC\n"
     ]
    }
   ],
   "source": [
    "string = 'ABCDCDC'\n",
    "sub_string = 'CDC'\n",
    "\n",
    "substr_len = len(sub_string)\n",
    "str_len = len(string)\n",
    "\n",
    "for i in range(str_len - substr_len+ 1):\n",
    "    window = string[i : i + substr_len]\n",
    "    print(window)\n"
   ]
  },
  {
   "cell_type": "code",
   "execution_count": 233,
   "id": "ee82f4c7",
   "metadata": {},
   "outputs": [
    {
     "name": "stdout",
     "output_type": "stream",
     "text": [
      "2\n"
     ]
    }
   ],
   "source": [
    "string = 'ABCDCDC'\n",
    "sub_string = 'CDC'\n",
    "count = 0\n",
    "\n",
    "substr_len = len(sub_string)\n",
    "str_len = len(string)\n",
    "\n",
    "for i in range(str_len - substr_len+ 1):\n",
    "    window = string[i : i + substr_len]\n",
    "    if window == sub_string:\n",
    "\n",
    "        count = count+1\n",
    "print(count)"
   ]
  },
  {
   "cell_type": "markdown",
   "id": "04a8a1e4",
   "metadata": {},
   "source": [
    "## Leetcode: Two Sum"
   ]
  },
  {
   "cell_type": "markdown",
   "id": "fd91c676",
   "metadata": {},
   "source": [
    "Given an array of integers nums and an integer target, return indices of the two numbers such that they add up to target.\n",
    "\n",
    "You may assume that each input would have exactly one solution, and you may not use the same element twice.\n",
    "\n",
    "You can return the answer in any order.\n",
    "\n",
    " \n",
    "\n",
    "Example 1:\n",
    "\n",
    "Input: nums = [2,7,11,15], target = 9\n",
    "Output: [0,1]\n",
    "Explanation: Because nums[0] + nums[1] == 9, we return [0, 1]."
   ]
  },
  {
   "cell_type": "markdown",
   "id": "61b6517e",
   "metadata": {},
   "source": [
    "### NOTE we will check addition of two distinct list elements, not two consecutive"
   ]
  },
  {
   "cell_type": "code",
   "execution_count": null,
   "id": "f18e4265",
   "metadata": {},
   "outputs": [
    {
     "name": "stdout",
     "output_type": "stream",
     "text": [
      "2, 7, 11, 15\n",
      "9\n",
      "[0, 1]\n"
     ]
    }
   ],
   "source": [
    "list1 = [int(x) for x in input().split(',')]\n",
    "Target = int(input())\n",
    "\n",
    "def TwoSum(list1, Target):\n",
    "    ListPos = []\n",
    "    \n",
    "    for i in range(len(list1)):\n",
    "        for j in range(i+1, len(list1)):\n",
    "            if list1[i] + list1[j] == Target:\n",
    "                ListPos.append(i)\n",
    "                ListPos.append(j)\n",
    "                return ListPos\n",
    "\n",
    "result = TwoSum(list1, Target)\n",
    "print(result)\n"
   ]
  },
  {
   "cell_type": "markdown",
   "id": "3d8e3a3f",
   "metadata": {},
   "source": [
    "### Take user input a python list of string character element and print the list. Use List Comprehension"
   ]
  },
  {
   "cell_type": "code",
   "execution_count": null,
   "id": "f915e032",
   "metadata": {},
   "outputs": [
    {
     "name": "stdout",
     "output_type": "stream",
     "text": [
      "goku vegeta trunks\n",
      "['goku', 'vegeta', 'trunks']\n"
     ]
    }
   ],
   "source": [
    "char_list = [c for c in input().split()]\n",
    "print(char_list)"
   ]
  },
  {
   "cell_type": "code",
   "execution_count": null,
   "id": "16f520bb",
   "metadata": {},
   "outputs": [
    {
     "name": "stdout",
     "output_type": "stream",
     "text": [
      "[4, 5, 6, 7, 8]\n"
     ]
    }
   ],
   "source": [
    "n = int(input())\n",
    "lst = [int(x) for x in input().split()][:n]\n",
    "print(lst)"
   ]
  },
  {
   "cell_type": "markdown",
   "id": "aa318f87",
   "metadata": {},
   "source": [
    "### Check the second character is a substring of first character. If yes then output the second character."
   ]
  },
  {
   "cell_type": "code",
   "execution_count": null,
   "id": "6e2cf41c",
   "metadata": {},
   "outputs": [
    {
     "name": "stdout",
     "output_type": "stream",
     "text": [
      "goku ku\n",
      "ku\n"
     ]
    }
   ],
   "source": [
    "char_list = [c for c in input().split()]\n",
    "if char_list[1] in char_list[0]:\n",
    "    print(char_list[1])\n",
    "else:\n",
    "    print(\"The second character is not a substring of the first character.\")"
   ]
  },
  {
   "cell_type": "markdown",
   "id": "04b29630",
   "metadata": {},
   "source": [
    "## 2. Leetcode: String Matching in an Array"
   ]
  },
  {
   "cell_type": "markdown",
   "id": "7f52145d",
   "metadata": {},
   "source": [
    "Given an array of string words, return all strings in words that is a substring of another word. You can return the answer in any order.\n",
    "\n",
    "A substring is a contiguous sequence of characters within a string\n",
    "\n",
    " \n",
    "\n",
    "Example 1:\n",
    "\n",
    "Input: words = [\"mass\",\"as\",\"hero\",\"superhero\"]\n",
    "\n",
    "Output: [\"as\",\"hero\"]\n",
    "\n",
    "Explanation: \"as\" is substring of \"mass\" and \"hero\" is substring of \"superhero\".\n",
    "[\"hero\",\"as\"] is also a valid answer."
   ]
  },
  {
   "cell_type": "markdown",
   "id": "8ad7c805",
   "metadata": {},
   "source": [
    "### We have to iterate through each word in the array and check if it is a substring of any other word in the array."
   ]
  },
  {
   "cell_type": "code",
   "execution_count": null,
   "id": "f292172b",
   "metadata": {},
   "outputs": [
    {
     "name": "stdout",
     "output_type": "stream",
     "text": [
      "leetcode et code\n",
      "{'et', 'code'}\n"
     ]
    }
   ],
   "source": [
    "char_list = [c for c in input().split()]\n",
    "result = []\n",
    "\n",
    "def chksubstr(char_list):\n",
    "    \n",
    "    for i in range (len(char_list)):\n",
    "        for j in range (len(char_list)):\n",
    "            if i != j and char_list[i] in char_list[j]:\n",
    "                result.append(char_list[i])\n",
    "                \n",
    "    return result\n",
    "\n",
    "result = chksubstr(char_list)\n",
    "print(set(result))"
   ]
  },
  {
   "cell_type": "markdown",
   "id": "1be0b42f",
   "metadata": {},
   "source": [
    "## List[] vs Tuple()"
   ]
  },
  {
   "cell_type": "code",
   "execution_count": null,
   "id": "a4851de0",
   "metadata": {},
   "outputs": [
    {
     "name": "stdout",
     "output_type": "stream",
     "text": [
      "[2, 3, 4, 5]\n",
      "[2, 9, 4, 5]\n"
     ]
    }
   ],
   "source": [
    "#Lists are mutable\n",
    "\n",
    "list1 = [2, 3, 4, 5]\n",
    "\n",
    "print(list1)\n",
    "\n",
    "list1[1] = 9\n",
    "\n",
    "print(list1)"
   ]
  },
  {
   "cell_type": "code",
   "execution_count": null,
   "id": "a98e4262",
   "metadata": {},
   "outputs": [
    {
     "name": "stdout",
     "output_type": "stream",
     "text": [
      "['alfa', 'beta', 'charlie', 'delta']\n",
      "['alfa', 'beta', 'charlie', 'delta', 'echo']\n"
     ]
    }
   ],
   "source": [
    "#Lists are appendable/ mutable\n",
    "\n",
    "list1 = ['alfa', 'beta', 'charlie', 'delta']\n",
    "\n",
    "print(list1)\n",
    "\n",
    "list1.append('echo')\n",
    "\n",
    "print(list1)"
   ]
  },
  {
   "cell_type": "code",
   "execution_count": null,
   "id": "abba5eee",
   "metadata": {},
   "outputs": [
    {
     "name": "stdout",
     "output_type": "stream",
     "text": [
      "('summer', 'spring', 'winter', 'fall')\n"
     ]
    },
    {
     "ename": "TypeError",
     "evalue": "'tuple' object does not support item assignment",
     "output_type": "error",
     "traceback": [
      "\u001b[0;31m---------------------------------------------------------------------------\u001b[0m",
      "\u001b[0;31mTypeError\u001b[0m                                 Traceback (most recent call last)",
      "Cell \u001b[0;32mIn[6], line 7\u001b[0m\n\u001b[1;32m      3\u001b[0m tuple1 \u001b[38;5;241m=\u001b[39m (\u001b[38;5;124m'\u001b[39m\u001b[38;5;124msummer\u001b[39m\u001b[38;5;124m'\u001b[39m, \u001b[38;5;124m'\u001b[39m\u001b[38;5;124mspring\u001b[39m\u001b[38;5;124m'\u001b[39m, \u001b[38;5;124m'\u001b[39m\u001b[38;5;124mwinter\u001b[39m\u001b[38;5;124m'\u001b[39m, \u001b[38;5;124m'\u001b[39m\u001b[38;5;124mfall\u001b[39m\u001b[38;5;124m'\u001b[39m)\n\u001b[1;32m      5\u001b[0m \u001b[38;5;28mprint\u001b[39m(tuple1)\n\u001b[0;32m----> 7\u001b[0m tuple1[\u001b[38;5;241m1\u001b[39m] \u001b[38;5;241m=\u001b[39m \u001b[38;5;124m'\u001b[39m\u001b[38;5;124mmonsoon\u001b[39m\u001b[38;5;124m'\u001b[39m\n\u001b[1;32m      9\u001b[0m \u001b[38;5;28mprint\u001b[39m(tuple1)\n",
      "\u001b[0;31mTypeError\u001b[0m: 'tuple' object does not support item assignment"
     ]
    }
   ],
   "source": [
    "# Tuples are immutable\n",
    "\n",
    "tuple1 = ('summer', 'spring', 'winter', 'fall')\n",
    "\n",
    "print(tuple1)\n",
    "\n",
    "tuple1[1] = 'monsoon'\n",
    "\n",
    "print(tuple1)"
   ]
  },
  {
   "cell_type": "code",
   "execution_count": null,
   "id": "bb697783",
   "metadata": {},
   "outputs": [
    {
     "name": "stdout",
     "output_type": "stream",
     "text": [
      "('a', 'b', 'c', 1, 2, 3)\n"
     ]
    }
   ],
   "source": [
    "# we can join tuple but cannot modify\n",
    " \n",
    "tuple1 = (\"a\", \"b\" , \"c\")\n",
    "tuple2 = (1, 2, 3)\n",
    "\n",
    "tuple3 = tuple1 + tuple2\n",
    "print(tuple3)"
   ]
  },
  {
   "cell_type": "markdown",
   "id": "17f25bf7",
   "metadata": {},
   "source": [
    "Convert a simple list to tuple"
   ]
  },
  {
   "cell_type": "code",
   "execution_count": 129,
   "id": "6bb27b6b",
   "metadata": {},
   "outputs": [
    {
     "data": {
      "text/plain": [
       "(6, 8, 1, 9)"
      ]
     },
     "execution_count": 129,
     "metadata": {},
     "output_type": "execute_result"
    }
   ],
   "source": [
    "mylist = [6, 8, 1, 9]\n",
    "\n",
    "tuple(mylist)"
   ]
  },
  {
   "cell_type": "markdown",
   "id": "7e2c0e5b",
   "metadata": {},
   "source": [
    "## Exception Handling"
   ]
  },
  {
   "cell_type": "code",
   "execution_count": null,
   "id": "f58cb50c",
   "metadata": {},
   "outputs": [
    {
     "name": "stdout",
     "output_type": "stream",
     "text": [
      "Not a valid Number\n"
     ]
    }
   ],
   "source": [
    "# Check age is 18 + or not\n",
    "\n",
    "\n",
    "try:\n",
    "    age = int(input(\"Enter your age: \"))\n",
    "    if age < 0:\n",
    "        print('Number is negative')\n",
    "    elif age >= 18:\n",
    "        print('Age is 18 or older')\n",
    "    else:\n",
    "        print('Age is less than 18')\n",
    "except ValueError:\n",
    "    print('Not a valid Number')\n"
   ]
  },
  {
   "cell_type": "markdown",
   "id": "9cdae549",
   "metadata": {},
   "source": [
    "### Hackerrank Exceptions"
   ]
  },
  {
   "cell_type": "markdown",
   "id": "813545a8",
   "metadata": {},
   "source": [
    "You are given two values a and b.\n",
    "Perform integer division and print a/b.\n",
    "\n",
    "Input format\n",
    "\n",
    "The first line contains T, the number of test cases.\n",
    "The next T lines each contain the space separated values of a and b.\n",
    "\n",
    "\n",
    "Constraints\\\n",
    "• 0 < T < 10\n",
    "\n",
    "Output Format\n",
    "Print the value of a /b.\n",
    "\n",
    "In the case of ZeroDivisionError or ValueError, print the error code.\n",
    "\n",
    "Sample Input\n",
    "\n",
    "3\\\n",
    "1 0\\\n",
    "2 $\\\n",
    "3 1\n",
    "\n",
    "\n",
    "Sample output\n",
    "\n",
    "Error Code: integer division or modulo by zero\\\n",
    "Error Code: invalid literal for int() with base 10: '$'\\\n",
    "3"
   ]
  },
  {
   "cell_type": "code",
   "execution_count": 128,
   "id": "5b6cf9b0",
   "metadata": {},
   "outputs": [
    {
     "name": "stdout",
     "output_type": "stream",
     "text": [
      "Error Code: integer division or modulo by zero\n",
      "Error Code: invalid literal for int() with base 10: '$'\n",
      "3\n"
     ]
    }
   ],
   "source": [
    "n = int(input())\n",
    "\n",
    "for i in range(n):\n",
    "    \n",
    "    try:\n",
    "        \n",
    "        a, b = input().split()\n",
    "        \n",
    "        result = int(a) // int(b)\n",
    "        \n",
    "        print(result)\n",
    "        \n",
    "    except ZeroDivisionError as e:\n",
    "        print(\"Error Code:\", e )\n",
    "        \n",
    "    except ValueError as v:\n",
    "        print(\"Error Code:\", v)"
   ]
  },
  {
   "cell_type": "markdown",
   "id": "38991d26",
   "metadata": {},
   "source": [
    "### Factorial - Recursion"
   ]
  },
  {
   "cell_type": "code",
   "execution_count": 23,
   "id": "637b67f3",
   "metadata": {},
   "outputs": [
    {
     "name": "stdout",
     "output_type": "stream",
     "text": [
      "6\n"
     ]
    }
   ],
   "source": [
    "def fac(x):\n",
    "    \n",
    "    if x == 0:\n",
    "        return 1\n",
    "    \n",
    "    return x * fac(x-1)\n",
    "\n",
    "print(fac(3))"
   ]
  },
  {
   "cell_type": "markdown",
   "id": "6dba4ba4",
   "metadata": {},
   "source": [
    "### Fibonacci Number - Recursion"
   ]
  },
  {
   "cell_type": "markdown",
   "id": "c2a02d2b",
   "metadata": {},
   "source": [
    "F(0) = 0, F(1) = 1, F(2) = F(0) + F(1)"
   ]
  },
  {
   "cell_type": "code",
   "execution_count": null,
   "id": "16c1fe83",
   "metadata": {},
   "outputs": [
    {
     "name": "stdout",
     "output_type": "stream",
     "text": [
      "1\n",
      "1\n",
      "2\n",
      "3\n",
      "5\n",
      "8\n",
      "13\n",
      "21\n",
      "34\n",
      "55\n"
     ]
    }
   ],
   "source": [
    "def fib(n):\n",
    "    if n == 1:\n",
    "        value = 1\n",
    "    elif n == 2:\n",
    "        value = 1\n",
    "    elif n > 2:\n",
    "        value = fib(n-2) + fib(n-1)\n",
    "\n",
    "    return value\n",
    "\n",
    "for n in range (1,11):\n",
    "    print(fib(n))"
   ]
  },
  {
   "cell_type": "markdown",
   "id": "12b6178c",
   "metadata": {},
   "source": [
    "### Dictionary"
   ]
  },
  {
   "cell_type": "code",
   "execution_count": 14,
   "id": "8cf49b7a",
   "metadata": {},
   "outputs": [
    {
     "name": "stdout",
     "output_type": "stream",
     "text": [
      "{'name': 'John', 'age': 25, 'courses': ['Math', 'CS']}\n"
     ]
    }
   ],
   "source": [
    "# define dictionary\n",
    "\n",
    "student = {'name': 'John',\n",
    "           'age': 25,\n",
    "           'courses': ['Math', 'CS']\n",
    "           }\n",
    "\n",
    "print(student)"
   ]
  },
  {
   "cell_type": "code",
   "execution_count": 16,
   "id": "a68b87df",
   "metadata": {},
   "outputs": [
    {
     "name": "stdout",
     "output_type": "stream",
     "text": [
      "John\n"
     ]
    }
   ],
   "source": [
    "#printing with key\n",
    "\n",
    "print(student['name'])"
   ]
  },
  {
   "cell_type": "code",
   "execution_count": 17,
   "id": "8bc46f16",
   "metadata": {},
   "outputs": [
    {
     "name": "stdout",
     "output_type": "stream",
     "text": [
      "John\n"
     ]
    }
   ],
   "source": [
    "# get()\n",
    "\n",
    "print(student.get('name'))"
   ]
  },
  {
   "cell_type": "code",
   "execution_count": 18,
   "id": "e0ed0260",
   "metadata": {},
   "outputs": [
    {
     "name": "stdout",
     "output_type": "stream",
     "text": [
      "None\n"
     ]
    }
   ],
   "source": [
    "#phone key is not present\n",
    "print(student.get('phone'))"
   ]
  },
  {
   "cell_type": "code",
   "execution_count": 19,
   "id": "16bbfe41",
   "metadata": {},
   "outputs": [
    {
     "name": "stdout",
     "output_type": "stream",
     "text": [
      "Not Found\n"
     ]
    }
   ],
   "source": [
    "#adding a default value if key is not present\n",
    "print(student.get('phone', 'Not Found'))"
   ]
  },
  {
   "cell_type": "code",
   "execution_count": 20,
   "id": "b5eff799",
   "metadata": {},
   "outputs": [
    {
     "name": "stdout",
     "output_type": "stream",
     "text": [
      "{'name': 'John Wick', 'age': 25, 'courses': ['Math', 'CS'], 'phone': '555-555-5555'}\n"
     ]
    }
   ],
   "source": [
    "# Update and add a new key-value to a dictionary\n",
    "#update()\n",
    "\n",
    "student.update({'name': 'John Wick', 'phone': '555-555-5555'})\n",
    "print(student)"
   ]
  },
  {
   "cell_type": "code",
   "execution_count": 38,
   "id": "9d6c913d",
   "metadata": {},
   "outputs": [
    {
     "name": "stdout",
     "output_type": "stream",
     "text": [
      "dict_keys(['name', 'age', 'courses', 'phone'])\n"
     ]
    }
   ],
   "source": [
    "#keys\n",
    "print(student.keys())"
   ]
  },
  {
   "cell_type": "code",
   "execution_count": 39,
   "id": "56bd5de7",
   "metadata": {},
   "outputs": [
    {
     "name": "stdout",
     "output_type": "stream",
     "text": [
      "dict_values(['John Wick', 25, ['Math', 'CS'], '555-555-5555'])\n"
     ]
    }
   ],
   "source": [
    "#values\n",
    "print(student.values())"
   ]
  },
  {
   "cell_type": "code",
   "execution_count": 40,
   "id": "166e31f3",
   "metadata": {},
   "outputs": [
    {
     "name": "stdout",
     "output_type": "stream",
     "text": [
      "dict_items([('name', 'John Wick'), ('age', 25), ('courses', ['Math', 'CS']), ('phone', '555-555-5555')])\n"
     ]
    }
   ],
   "source": [
    "#keys and values\n",
    "print(student.items())"
   ]
  },
  {
   "cell_type": "code",
   "execution_count": 41,
   "id": "deb13d6f",
   "metadata": {},
   "outputs": [
    {
     "name": "stdout",
     "output_type": "stream",
     "text": [
      "name\n",
      "age\n",
      "courses\n",
      "phone\n"
     ]
    }
   ],
   "source": [
    "for key in student:\n",
    "    print(key)"
   ]
  },
  {
   "cell_type": "code",
   "execution_count": 43,
   "id": "095c7890",
   "metadata": {},
   "outputs": [
    {
     "name": "stdout",
     "output_type": "stream",
     "text": [
      "name John Wick\n",
      "age 25\n",
      "courses ['Math', 'CS']\n",
      "phone 555-555-5555\n"
     ]
    }
   ],
   "source": [
    "for key, value in student.items():\n",
    "    print(key, value)"
   ]
  },
  {
   "cell_type": "markdown",
   "id": "97fa6640",
   "metadata": {},
   "source": [
    "### Create 3 list of student, score and admit then make a dictionary out of it using **dict(zip())**"
   ]
  },
  {
   "cell_type": "code",
   "execution_count": 154,
   "id": "54fb542d",
   "metadata": {},
   "outputs": [
    {
     "name": "stdout",
     "output_type": "stream",
     "text": [
      "[{'Student': 'Alice', 'Score': 85, 'Admit': 'Yes'}, {'Student': 'Bob', 'Score': 90, 'Admit': 'Yes'}, {'Student': 'Charlie', 'Score': 50, 'Admit': 'No'}, {'Student': 'David', 'Score': 78, 'Admit': 'Yes'}, {'Student': 'Eve', 'Score': None, 'Admit': 'No'}, {'Student': 'Frank', 'Score': 62, 'Admit': 'Yes'}]\n"
     ]
    }
   ],
   "source": [
    "# List of students\n",
    "students = [\"Alice\", \"Bob\", \"Charlie\", \"David\", \"Eve\", \"Frank\"]\n",
    "\n",
    "# List of scores\n",
    "scores = [85, 90, 50, 78, None, 62]\n",
    "\n",
    "# Acceptance list\n",
    "admit = [\"Yes\", \"Yes\", \"No\", \"Yes\", \"No\", \"Yes\"]\n",
    "\n",
    "# Combine the lists into a list of dictionaries\n",
    "student_data = [\n",
    "    {\"Student\": student, \"Score\": score, \"Admit\": admission}\n",
    "    for student, score, admission in zip(students, scores, admit)\n",
    "]\n",
    "\n",
    "# Print the list of dictionaries\n",
    "print(student_data)\n",
    "\n"
   ]
  },
  {
   "cell_type": "markdown",
   "id": "7269b7ae",
   "metadata": {},
   "source": [
    "### Create a Pandas Dataframe out of the dictionary"
   ]
  },
  {
   "cell_type": "code",
   "execution_count": 155,
   "id": "3388722b",
   "metadata": {},
   "outputs": [
    {
     "name": "stdout",
     "output_type": "stream",
     "text": [
      "   Student  Score Admit\n",
      "0    Alice   85.0   Yes\n",
      "1      Bob   90.0   Yes\n",
      "2  Charlie   50.0    No\n",
      "3    David   78.0   Yes\n",
      "4      Eve    NaN    No\n",
      "5    Frank   62.0   Yes\n"
     ]
    }
   ],
   "source": [
    "import pandas as pd\n",
    "\n",
    "# Combine the lists into a pandas DataFrame\n",
    "df = pd.DataFrame({\n",
    "    \"Student\": students,\n",
    "    \"Score\": scores,\n",
    "    \"Admit\": admit\n",
    "})\n",
    "\n",
    "# Print the DataFrame\n",
    "print(df)\n"
   ]
  },
  {
   "cell_type": "markdown",
   "id": "a27e3db1",
   "metadata": {},
   "source": [
    "### Counting and removing null value rows"
   ]
  },
  {
   "cell_type": "code",
   "execution_count": 157,
   "id": "f9955345",
   "metadata": {},
   "outputs": [],
   "source": [
    "#null count\n",
    "df.isnull().sum()\n",
    "\n",
    "#drop null value rows\n",
    "df_cleaned = df.dropna()"
   ]
  },
  {
   "cell_type": "code",
   "execution_count": 158,
   "id": "67d225fd",
   "metadata": {},
   "outputs": [
    {
     "data": {
      "text/html": [
       "<div>\n",
       "<style scoped>\n",
       "    .dataframe tbody tr th:only-of-type {\n",
       "        vertical-align: middle;\n",
       "    }\n",
       "\n",
       "    .dataframe tbody tr th {\n",
       "        vertical-align: top;\n",
       "    }\n",
       "\n",
       "    .dataframe thead th {\n",
       "        text-align: right;\n",
       "    }\n",
       "</style>\n",
       "<table border=\"1\" class=\"dataframe\">\n",
       "  <thead>\n",
       "    <tr style=\"text-align: right;\">\n",
       "      <th></th>\n",
       "      <th>Student</th>\n",
       "      <th>Score</th>\n",
       "      <th>Admit</th>\n",
       "    </tr>\n",
       "  </thead>\n",
       "  <tbody>\n",
       "    <tr>\n",
       "      <th>0</th>\n",
       "      <td>Alice</td>\n",
       "      <td>85.0</td>\n",
       "      <td>Yes</td>\n",
       "    </tr>\n",
       "    <tr>\n",
       "      <th>1</th>\n",
       "      <td>Bob</td>\n",
       "      <td>90.0</td>\n",
       "      <td>Yes</td>\n",
       "    </tr>\n",
       "    <tr>\n",
       "      <th>2</th>\n",
       "      <td>Charlie</td>\n",
       "      <td>50.0</td>\n",
       "      <td>No</td>\n",
       "    </tr>\n",
       "    <tr>\n",
       "      <th>3</th>\n",
       "      <td>David</td>\n",
       "      <td>78.0</td>\n",
       "      <td>Yes</td>\n",
       "    </tr>\n",
       "    <tr>\n",
       "      <th>5</th>\n",
       "      <td>Frank</td>\n",
       "      <td>62.0</td>\n",
       "      <td>Yes</td>\n",
       "    </tr>\n",
       "  </tbody>\n",
       "</table>\n",
       "</div>"
      ],
      "text/plain": [
       "   Student  Score Admit\n",
       "0    Alice   85.0   Yes\n",
       "1      Bob   90.0   Yes\n",
       "2  Charlie   50.0    No\n",
       "3    David   78.0   Yes\n",
       "5    Frank   62.0   Yes"
      ]
     },
     "execution_count": 158,
     "metadata": {},
     "output_type": "execute_result"
    }
   ],
   "source": [
    "df_cleaned"
   ]
  },
  {
   "cell_type": "markdown",
   "id": "2d402f3c",
   "metadata": {},
   "source": [
    "### Count how many Yes and No"
   ]
  },
  {
   "cell_type": "code",
   "execution_count": 179,
   "id": "c3f08400",
   "metadata": {},
   "outputs": [
    {
     "data": {
      "text/plain": [
       "Admit\n",
       "1    4\n",
       "0    1\n",
       "Name: count, dtype: int64"
      ]
     },
     "execution_count": 179,
     "metadata": {},
     "output_type": "execute_result"
    }
   ],
   "source": [
    "df_cleaned[\"Admit\"].value_counts()"
   ]
  },
  {
   "cell_type": "markdown",
   "id": "2e3307a7",
   "metadata": {},
   "source": [
    "### Step function to convert Admit Yes No to 1 0"
   ]
  },
  {
   "cell_type": "code",
   "execution_count": 159,
   "id": "e335b057",
   "metadata": {},
   "outputs": [
    {
     "name": "stderr",
     "output_type": "stream",
     "text": [
      "/var/folders/0t/4lvtpd8n0t7_n2d436_b9drw0000gn/T/ipykernel_22440/2221083763.py:1: SettingWithCopyWarning: \n",
      "A value is trying to be set on a copy of a slice from a DataFrame.\n",
      "Try using .loc[row_indexer,col_indexer] = value instead\n",
      "\n",
      "See the caveats in the documentation: https://pandas.pydata.org/pandas-docs/stable/user_guide/indexing.html#returning-a-view-versus-a-copy\n",
      "  df_cleaned[\"Admit\"] = df[\"Admit\"].map({\"Yes\": 1, \"No\": 0})\n"
     ]
    },
    {
     "data": {
      "text/html": [
       "<div>\n",
       "<style scoped>\n",
       "    .dataframe tbody tr th:only-of-type {\n",
       "        vertical-align: middle;\n",
       "    }\n",
       "\n",
       "    .dataframe tbody tr th {\n",
       "        vertical-align: top;\n",
       "    }\n",
       "\n",
       "    .dataframe thead th {\n",
       "        text-align: right;\n",
       "    }\n",
       "</style>\n",
       "<table border=\"1\" class=\"dataframe\">\n",
       "  <thead>\n",
       "    <tr style=\"text-align: right;\">\n",
       "      <th></th>\n",
       "      <th>Student</th>\n",
       "      <th>Score</th>\n",
       "      <th>Admit</th>\n",
       "    </tr>\n",
       "  </thead>\n",
       "  <tbody>\n",
       "    <tr>\n",
       "      <th>0</th>\n",
       "      <td>Alice</td>\n",
       "      <td>85.0</td>\n",
       "      <td>1</td>\n",
       "    </tr>\n",
       "    <tr>\n",
       "      <th>1</th>\n",
       "      <td>Bob</td>\n",
       "      <td>90.0</td>\n",
       "      <td>1</td>\n",
       "    </tr>\n",
       "    <tr>\n",
       "      <th>2</th>\n",
       "      <td>Charlie</td>\n",
       "      <td>50.0</td>\n",
       "      <td>0</td>\n",
       "    </tr>\n",
       "    <tr>\n",
       "      <th>3</th>\n",
       "      <td>David</td>\n",
       "      <td>78.0</td>\n",
       "      <td>1</td>\n",
       "    </tr>\n",
       "    <tr>\n",
       "      <th>5</th>\n",
       "      <td>Frank</td>\n",
       "      <td>62.0</td>\n",
       "      <td>1</td>\n",
       "    </tr>\n",
       "  </tbody>\n",
       "</table>\n",
       "</div>"
      ],
      "text/plain": [
       "   Student  Score  Admit\n",
       "0    Alice   85.0      1\n",
       "1      Bob   90.0      1\n",
       "2  Charlie   50.0      0\n",
       "3    David   78.0      1\n",
       "5    Frank   62.0      1"
      ]
     },
     "execution_count": 159,
     "metadata": {},
     "output_type": "execute_result"
    }
   ],
   "source": [
    "df_cleaned[\"Admit\"] = df[\"Admit\"].map({\"Yes\": 1, \"No\": 0})\n",
    "df_cleaned"
   ]
  },
  {
   "cell_type": "markdown",
   "id": "0d9b22cf",
   "metadata": {},
   "source": [
    "Use pd.get_dummies to convert the \"Student\" column into a one-hot encoded format, dropping the first category to avoid multicollinearity.\\\n",
    "\n",
    "Using pd.get_dummies to perform one-hot encoding on categorical variables like \"Student\" ensures that:\\\n",
    "\n",
    "- Each category is represented accurately and independently.\n",
    "- The encoded data can be used effectively by machine learning algorithms to make predictions based on categorical data."
   ]
  },
  {
   "cell_type": "code",
   "execution_count": 160,
   "id": "49327a38",
   "metadata": {},
   "outputs": [
    {
     "data": {
      "text/html": [
       "<div>\n",
       "<style scoped>\n",
       "    .dataframe tbody tr th:only-of-type {\n",
       "        vertical-align: middle;\n",
       "    }\n",
       "\n",
       "    .dataframe tbody tr th {\n",
       "        vertical-align: top;\n",
       "    }\n",
       "\n",
       "    .dataframe thead th {\n",
       "        text-align: right;\n",
       "    }\n",
       "</style>\n",
       "<table border=\"1\" class=\"dataframe\">\n",
       "  <thead>\n",
       "    <tr style=\"text-align: right;\">\n",
       "      <th></th>\n",
       "      <th>Score</th>\n",
       "      <th>Admit</th>\n",
       "      <th>Student_Bob</th>\n",
       "      <th>Student_Charlie</th>\n",
       "      <th>Student_David</th>\n",
       "      <th>Student_Frank</th>\n",
       "    </tr>\n",
       "  </thead>\n",
       "  <tbody>\n",
       "    <tr>\n",
       "      <th>0</th>\n",
       "      <td>85.0</td>\n",
       "      <td>1</td>\n",
       "      <td>False</td>\n",
       "      <td>False</td>\n",
       "      <td>False</td>\n",
       "      <td>False</td>\n",
       "    </tr>\n",
       "    <tr>\n",
       "      <th>1</th>\n",
       "      <td>90.0</td>\n",
       "      <td>1</td>\n",
       "      <td>True</td>\n",
       "      <td>False</td>\n",
       "      <td>False</td>\n",
       "      <td>False</td>\n",
       "    </tr>\n",
       "    <tr>\n",
       "      <th>2</th>\n",
       "      <td>50.0</td>\n",
       "      <td>0</td>\n",
       "      <td>False</td>\n",
       "      <td>True</td>\n",
       "      <td>False</td>\n",
       "      <td>False</td>\n",
       "    </tr>\n",
       "    <tr>\n",
       "      <th>3</th>\n",
       "      <td>78.0</td>\n",
       "      <td>1</td>\n",
       "      <td>False</td>\n",
       "      <td>False</td>\n",
       "      <td>True</td>\n",
       "      <td>False</td>\n",
       "    </tr>\n",
       "    <tr>\n",
       "      <th>5</th>\n",
       "      <td>62.0</td>\n",
       "      <td>1</td>\n",
       "      <td>False</td>\n",
       "      <td>False</td>\n",
       "      <td>False</td>\n",
       "      <td>True</td>\n",
       "    </tr>\n",
       "  </tbody>\n",
       "</table>\n",
       "</div>"
      ],
      "text/plain": [
       "   Score  Admit  Student_Bob  Student_Charlie  Student_David  Student_Frank\n",
       "0   85.0      1        False            False          False          False\n",
       "1   90.0      1         True            False          False          False\n",
       "2   50.0      0        False             True          False          False\n",
       "3   78.0      1        False            False           True          False\n",
       "5   62.0      1        False            False          False           True"
      ]
     },
     "execution_count": 160,
     "metadata": {},
     "output_type": "execute_result"
    }
   ],
   "source": [
    "# One-hot encode the \"Student\" column\n",
    "df_enc = pd.get_dummies(df_cleaned, columns=[\"Student\"], drop_first=True)\n",
    "df_enc"
   ]
  },
  {
   "cell_type": "markdown",
   "id": "4d033127",
   "metadata": {},
   "source": [
    "### Correlation Matrix"
   ]
  },
  {
   "cell_type": "code",
   "execution_count": 184,
   "id": "37c1459e",
   "metadata": {},
   "outputs": [
    {
     "data": {
      "text/html": [
       "<div>\n",
       "<style scoped>\n",
       "    .dataframe tbody tr th:only-of-type {\n",
       "        vertical-align: middle;\n",
       "    }\n",
       "\n",
       "    .dataframe tbody tr th {\n",
       "        vertical-align: top;\n",
       "    }\n",
       "\n",
       "    .dataframe thead th {\n",
       "        text-align: right;\n",
       "    }\n",
       "</style>\n",
       "<table border=\"1\" class=\"dataframe\">\n",
       "  <thead>\n",
       "    <tr style=\"text-align: right;\">\n",
       "      <th></th>\n",
       "      <th>Score</th>\n",
       "      <th>Admit</th>\n",
       "      <th>Student_Bob</th>\n",
       "      <th>Student_Charlie</th>\n",
       "      <th>Student_David</th>\n",
       "      <th>Student_Frank</th>\n",
       "    </tr>\n",
       "  </thead>\n",
       "  <tbody>\n",
       "    <tr>\n",
       "      <th>Score</th>\n",
       "      <td>1.000000</td>\n",
       "      <td>0.772526</td>\n",
       "      <td>0.570997</td>\n",
       "      <td>-0.772526</td>\n",
       "      <td>0.16794</td>\n",
       "      <td>-0.369469</td>\n",
       "    </tr>\n",
       "    <tr>\n",
       "      <th>Admit</th>\n",
       "      <td>0.772526</td>\n",
       "      <td>1.000000</td>\n",
       "      <td>0.250000</td>\n",
       "      <td>-1.000000</td>\n",
       "      <td>0.25000</td>\n",
       "      <td>0.250000</td>\n",
       "    </tr>\n",
       "    <tr>\n",
       "      <th>Student_Bob</th>\n",
       "      <td>0.570997</td>\n",
       "      <td>0.250000</td>\n",
       "      <td>1.000000</td>\n",
       "      <td>-0.250000</td>\n",
       "      <td>-0.25000</td>\n",
       "      <td>-0.250000</td>\n",
       "    </tr>\n",
       "    <tr>\n",
       "      <th>Student_Charlie</th>\n",
       "      <td>-0.772526</td>\n",
       "      <td>-1.000000</td>\n",
       "      <td>-0.250000</td>\n",
       "      <td>1.000000</td>\n",
       "      <td>-0.25000</td>\n",
       "      <td>-0.250000</td>\n",
       "    </tr>\n",
       "    <tr>\n",
       "      <th>Student_David</th>\n",
       "      <td>0.167940</td>\n",
       "      <td>0.250000</td>\n",
       "      <td>-0.250000</td>\n",
       "      <td>-0.250000</td>\n",
       "      <td>1.00000</td>\n",
       "      <td>-0.250000</td>\n",
       "    </tr>\n",
       "    <tr>\n",
       "      <th>Student_Frank</th>\n",
       "      <td>-0.369469</td>\n",
       "      <td>0.250000</td>\n",
       "      <td>-0.250000</td>\n",
       "      <td>-0.250000</td>\n",
       "      <td>-0.25000</td>\n",
       "      <td>1.000000</td>\n",
       "    </tr>\n",
       "  </tbody>\n",
       "</table>\n",
       "</div>"
      ],
      "text/plain": [
       "                    Score     Admit  Student_Bob  Student_Charlie  \\\n",
       "Score            1.000000  0.772526     0.570997        -0.772526   \n",
       "Admit            0.772526  1.000000     0.250000        -1.000000   \n",
       "Student_Bob      0.570997  0.250000     1.000000        -0.250000   \n",
       "Student_Charlie -0.772526 -1.000000    -0.250000         1.000000   \n",
       "Student_David    0.167940  0.250000    -0.250000        -0.250000   \n",
       "Student_Frank   -0.369469  0.250000    -0.250000        -0.250000   \n",
       "\n",
       "                 Student_David  Student_Frank  \n",
       "Score                  0.16794      -0.369469  \n",
       "Admit                  0.25000       0.250000  \n",
       "Student_Bob           -0.25000      -0.250000  \n",
       "Student_Charlie       -0.25000      -0.250000  \n",
       "Student_David          1.00000      -0.250000  \n",
       "Student_Frank         -0.25000       1.000000  "
      ]
     },
     "execution_count": 184,
     "metadata": {},
     "output_type": "execute_result"
    }
   ],
   "source": [
    "co_matrix = df_enc.corr()\n",
    "co_matrix"
   ]
  },
  {
   "cell_type": "code",
   "execution_count": 187,
   "id": "dd580c59",
   "metadata": {},
   "outputs": [
    {
     "data": {
      "image/png": "[encoded data removed]",
      "text/plain": [
       "<Figure size 1000x800 with 2 Axes>"
      ]
     },
     "metadata": {},
     "output_type": "display_data"
    }
   ],
   "source": [
    "# Create the heatmap\n",
    "import matplotlib.pyplot as plt\n",
    "import seaborn as sns\n",
    "\n",
    "plt.figure(figsize=(10, 8))\n",
    "sns.heatmap(co_matrix, annot=True, cmap='coolwarm', linewidths=0.5)\n",
    "plt.title(\"Correlation Matrix Heatmap\")\n",
    "plt.show()"
   ]
  },
  {
   "cell_type": "markdown",
   "id": "95c3410f",
   "metadata": {},
   "source": [
    "### Separate independent variables (X) and dependent variable (y)"
   ]
  },
  {
   "cell_type": "code",
   "execution_count": 170,
   "id": "dd555ddd",
   "metadata": {},
   "outputs": [],
   "source": [
    "X = df_enc.drop(\"Admit\", axis=1)\n",
    "y = df_enc[\"Admit\"]"
   ]
  },
  {
   "cell_type": "code",
   "execution_count": 171,
   "id": "42d657d2",
   "metadata": {},
   "outputs": [
    {
     "data": {
      "text/html": [
       "<div>\n",
       "<style scoped>\n",
       "    .dataframe tbody tr th:only-of-type {\n",
       "        vertical-align: middle;\n",
       "    }\n",
       "\n",
       "    .dataframe tbody tr th {\n",
       "        vertical-align: top;\n",
       "    }\n",
       "\n",
       "    .dataframe thead th {\n",
       "        text-align: right;\n",
       "    }\n",
       "</style>\n",
       "<table border=\"1\" class=\"dataframe\">\n",
       "  <thead>\n",
       "    <tr style=\"text-align: right;\">\n",
       "      <th></th>\n",
       "      <th>Score</th>\n",
       "      <th>Student_Bob</th>\n",
       "      <th>Student_Charlie</th>\n",
       "      <th>Student_David</th>\n",
       "      <th>Student_Frank</th>\n",
       "    </tr>\n",
       "  </thead>\n",
       "  <tbody>\n",
       "    <tr>\n",
       "      <th>0</th>\n",
       "      <td>85.0</td>\n",
       "      <td>False</td>\n",
       "      <td>False</td>\n",
       "      <td>False</td>\n",
       "      <td>False</td>\n",
       "    </tr>\n",
       "    <tr>\n",
       "      <th>1</th>\n",
       "      <td>90.0</td>\n",
       "      <td>True</td>\n",
       "      <td>False</td>\n",
       "      <td>False</td>\n",
       "      <td>False</td>\n",
       "    </tr>\n",
       "    <tr>\n",
       "      <th>2</th>\n",
       "      <td>50.0</td>\n",
       "      <td>False</td>\n",
       "      <td>True</td>\n",
       "      <td>False</td>\n",
       "      <td>False</td>\n",
       "    </tr>\n",
       "    <tr>\n",
       "      <th>3</th>\n",
       "      <td>78.0</td>\n",
       "      <td>False</td>\n",
       "      <td>False</td>\n",
       "      <td>True</td>\n",
       "      <td>False</td>\n",
       "    </tr>\n",
       "    <tr>\n",
       "      <th>5</th>\n",
       "      <td>62.0</td>\n",
       "      <td>False</td>\n",
       "      <td>False</td>\n",
       "      <td>False</td>\n",
       "      <td>True</td>\n",
       "    </tr>\n",
       "  </tbody>\n",
       "</table>\n",
       "</div>"
      ],
      "text/plain": [
       "   Score  Student_Bob  Student_Charlie  Student_David  Student_Frank\n",
       "0   85.0        False            False          False          False\n",
       "1   90.0         True            False          False          False\n",
       "2   50.0        False             True          False          False\n",
       "3   78.0        False            False           True          False\n",
       "5   62.0        False            False          False           True"
      ]
     },
     "execution_count": 171,
     "metadata": {},
     "output_type": "execute_result"
    }
   ],
   "source": [
    "X"
   ]
  },
  {
   "cell_type": "code",
   "execution_count": 172,
   "id": "6c7383e7",
   "metadata": {},
   "outputs": [
    {
     "data": {
      "text/plain": [
       "0    1\n",
       "1    1\n",
       "2    0\n",
       "3    1\n",
       "5    1\n",
       "Name: Admit, dtype: int64"
      ]
     },
     "execution_count": 172,
     "metadata": {},
     "output_type": "execute_result"
    }
   ],
   "source": [
    "y"
   ]
  },
  {
   "cell_type": "markdown",
   "id": "a74f97f2",
   "metadata": {},
   "source": [
    "### Perform a train-test split with cross-validation"
   ]
  },
  {
   "cell_type": "code",
   "execution_count": 173,
   "id": "25e7d18a",
   "metadata": {},
   "outputs": [],
   "source": [
    "from sklearn.model_selection import train_test_split\n",
    "\n",
    "X_train, X_test, y_train, y_test = train_test_split(X, y, test_size=0.2, random_state=42)"
   ]
  },
  {
   "cell_type": "markdown",
   "id": "f60f2f79",
   "metadata": {},
   "source": [
    "### Creating ML Model"
   ]
  },
  {
   "cell_type": "code",
   "execution_count": 174,
   "id": "22696590",
   "metadata": {},
   "outputs": [],
   "source": [
    "from sklearn.linear_model import LogisticRegression\n",
    "\n",
    "# Initialize the logistic regression model\n",
    "model = LogisticRegression()\n",
    "\n",
    "# Train the model\n",
    "model.fit(X_train, y_train)\n",
    "\n",
    "# Make predictions\n",
    "y_pred = model.predict(X_test)"
   ]
  },
  {
   "cell_type": "markdown",
   "id": "556a7ff6",
   "metadata": {},
   "source": [
    "### Classification performance matrix\n"
   ]
  },
  {
   "cell_type": "code",
   "execution_count": 175,
   "id": "e1143935",
   "metadata": {},
   "outputs": [
    {
     "name": "stdout",
     "output_type": "stream",
     "text": [
      "Accuracy: 1.0\n",
      "Confusion Matrix:\n",
      " [[1]]\n",
      "Classification Report:\n",
      "               precision    recall  f1-score   support\n",
      "\n",
      "           1       1.00      1.00      1.00         1\n",
      "\n",
      "    accuracy                           1.00         1\n",
      "   macro avg       1.00      1.00      1.00         1\n",
      "weighted avg       1.00      1.00      1.00         1\n",
      "\n"
     ]
    }
   ],
   "source": [
    "from sklearn.metrics import accuracy_score, confusion_matrix, classification_report\n",
    "\n",
    "\n",
    "# Evaluate the model\n",
    "accuracy = accuracy_score(y_test, y_pred)\n",
    "conf_matrix = confusion_matrix(y_test, y_pred)\n",
    "class_report = classification_report(y_test, y_pred)\n",
    "\n",
    "# Print the evaluation metrics\n",
    "print(\"Accuracy:\", accuracy)\n",
    "print(\"Confusion Matrix:\\n\", conf_matrix)\n",
    "print(\"Classification Report:\\n\", class_report)"
   ]
  },
  {
   "cell_type": "markdown",
   "id": "2b5bc6d5",
   "metadata": {},
   "source": [
    "### Hackerrank Finding the percentage - Dictionary"
   ]
  },
  {
   "cell_type": "code",
   "execution_count": 122,
   "id": "54cd7ad2",
   "metadata": {},
   "outputs": [
    {
     "name": "stdout",
     "output_type": "stream",
     "text": [
      "Average score: 70.0\n"
     ]
    }
   ],
   "source": [
    "#student1 variable has a list of score. To find average of the score:\n",
    "\n",
    "student1 = [60, 70, 80]\n",
    "\n",
    "# Calculate the average\n",
    "average_score = sum(student1) / len(student1)\n",
    "\n",
    "# Print the result\n",
    "print(\"Average score:\", average_score)"
   ]
  },
  {
   "cell_type": "code",
   "execution_count": 115,
   "id": "40db866a",
   "metadata": {},
   "outputs": [
    {
     "data": {
      "text/plain": [
       "{'alpha': [67, 68, 69], 'beta': [70, 71, 72], 'gama': [73, 74, 75]}"
      ]
     },
     "execution_count": 115,
     "metadata": {},
     "output_type": "execute_result"
    }
   ],
   "source": [
    "my_dict = {\n",
    "    'alpha': [67, 68, 69],\n",
    "    'beta': [70, 71, 72],\n",
    "    'gama': [73, 74, 75]\n",
    "}\n",
    "\n",
    "my_dict"
   ]
  },
  {
   "cell_type": "code",
   "execution_count": 116,
   "id": "8c9e5281",
   "metadata": {},
   "outputs": [
    {
     "name": "stdout",
     "output_type": "stream",
     "text": [
      "alpha\n",
      "beta\n",
      "gama\n"
     ]
    }
   ],
   "source": [
    "for key in my_dict.keys():\n",
    "    print(key)"
   ]
  },
  {
   "cell_type": "code",
   "execution_count": 118,
   "id": "8f2603f9",
   "metadata": {},
   "outputs": [
    {
     "name": "stdout",
     "output_type": "stream",
     "text": [
      "[67, 68, 69]\n",
      "[70, 71, 72]\n",
      "[73, 74, 75]\n"
     ]
    }
   ],
   "source": [
    "for key, val in my_dict.items():\n",
    "    print(val)"
   ]
  },
  {
   "cell_type": "code",
   "execution_count": 117,
   "id": "31fc80e5",
   "metadata": {},
   "outputs": [
    {
     "name": "stdout",
     "output_type": "stream",
     "text": [
      "alpha [67, 68, 69]\n",
      "beta [70, 71, 72]\n",
      "gama [73, 74, 75]\n"
     ]
    }
   ],
   "source": [
    "for key, val in my_dict.items():\n",
    "    print(key, val)"
   ]
  },
  {
   "cell_type": "markdown",
   "id": "e86b385b",
   "metadata": {},
   "source": [
    "Above my_dict contains student name and their respective list of scores in 3 subjects. My job is to take input of a student name and output should be the average score of the student."
   ]
  },
  {
   "cell_type": "code",
   "execution_count": 121,
   "id": "f38d768f",
   "metadata": {},
   "outputs": [
    {
     "name": "stdout",
     "output_type": "stream",
     "text": [
      "68.0\n"
     ]
    }
   ],
   "source": [
    "#for student alpha\n",
    "my_dict = {\n",
    "    'alpha': [67, 68, 69],\n",
    "    'beta': [70, 71, 72],\n",
    "    'gama': [73, 74, 75]\n",
    "}\n",
    "\n",
    "input_name = 'alpha'\n",
    "\n",
    "for key, val in my_dict.items():\n",
    "    if key == input_name:\n",
    "        avg = sum(val) / len(val)\n",
    "print(avg)\n"
   ]
  },
  {
   "cell_type": "markdown",
   "id": "348cf06d",
   "metadata": {},
   "source": [
    "### Hackerrank Basic Data Type - Lists"
   ]
  },
  {
   "cell_type": "markdown",
   "id": "1e49b9ea",
   "metadata": {},
   "source": [
    "Consider a list (list = []). You can perform the following commands:\n",
    "\n",
    "1. insert i e: Insert integer  at position .\n",
    "2. print: Print the list.\n",
    "3. remove e: Delete the first occurrence of integer .\n",
    "4. append e: Insert integer  at the end of the list.\n",
    "5. sort: Sort the list.\n",
    "6. pop: Pop the last element from the list.\n",
    "7. reverse: Reverse the list.\n",
    "Initialize your list and read in the value of  followed by  lines of commands where each command will be of the  types listed above. Iterate through each command in order and perform the corresponding operation on your list.\n",
    "\n",
    "Example usage:\n",
    "\n",
    "N = 4\n",
    "\n",
    "append 1\n",
    "\n",
    "append 2\n",
    "\n",
    "insert 3 1\n",
    "\n",
    "print"
   ]
  },
  {
   "cell_type": "code",
   "execution_count": 53,
   "id": "a1d1d875",
   "metadata": {},
   "outputs": [
    {
     "name": "stdout",
     "output_type": "stream",
     "text": [
      "[1, 2, 99]\n"
     ]
    }
   ],
   "source": [
    "if __name__ == '__main__':\n",
    "    N = int(input()) #number of input\n",
    "    lst = [] #initialize a list\n",
    "    \n",
    "    for _ in range(N):\n",
    "        command = input().split()\n",
    "        \n",
    "        #defining operations\n",
    "        if command[0] == 'insert':\n",
    "            lst.insert(int(command[1]), int(command[2]))\n",
    "        if command[0] == 'print':\n",
    "            print(lst)\n",
    "        if command[0] == 'remove':\n",
    "            lst.remove(int(command[1]))\n",
    "        if command[0] == 'append':\n",
    "            lst.append(int(command[1]))\n",
    "        if command[0] == 'sort':\n",
    "            lst.sort()\n",
    "        if command[0] == 'pop':\n",
    "            lst.pop()\n",
    "        if command[0] == 'reverse':\n",
    "            lst.reverse()"
   ]
  },
  {
   "cell_type": "markdown",
   "id": "345a6345",
   "metadata": {},
   "source": [
    "### Boolean"
   ]
  },
  {
   "cell_type": "code",
   "execution_count": 54,
   "id": "0ae3cfe8",
   "metadata": {},
   "outputs": [
    {
     "data": {
      "text/plain": [
       "False"
      ]
     },
     "execution_count": 54,
     "metadata": {},
     "output_type": "execute_result"
    }
   ],
   "source": [
    "a = 3\n",
    "b = 5\n",
    "a == b"
   ]
  },
  {
   "cell_type": "code",
   "execution_count": 55,
   "id": "a11eb9f5",
   "metadata": {},
   "outputs": [
    {
     "data": {
      "text/plain": [
       "bool"
      ]
     },
     "execution_count": 55,
     "metadata": {},
     "output_type": "execute_result"
    }
   ],
   "source": [
    "type(True)"
   ]
  },
  {
   "cell_type": "code",
   "execution_count": 58,
   "id": "9f100634",
   "metadata": {},
   "outputs": [
    {
     "data": {
      "text/plain": [
       "False"
      ]
     },
     "execution_count": 58,
     "metadata": {},
     "output_type": "execute_result"
    }
   ],
   "source": [
    "#Empty string and 0 is converted to False\n",
    "bool(0)\n"
   ]
  },
  {
   "cell_type": "code",
   "execution_count": 59,
   "id": "42247ef3",
   "metadata": {},
   "outputs": [
    {
     "data": {
      "text/plain": [
       "False"
      ]
     },
     "execution_count": 59,
     "metadata": {},
     "output_type": "execute_result"
    }
   ],
   "source": [
    "bool(\"\")"
   ]
  },
  {
   "cell_type": "markdown",
   "id": "cff4dc87",
   "metadata": {},
   "source": [
    "### Itertools library - Permutations"
   ]
  },
  {
   "cell_type": "code",
   "execution_count": 91,
   "id": "c857caee",
   "metadata": {},
   "outputs": [
    {
     "name": "stdout",
     "output_type": "stream",
     "text": [
      "(4, 5, 6)\n",
      "(4, 6, 5)\n",
      "(5, 4, 6)\n",
      "(5, 6, 4)\n",
      "(6, 4, 5)\n",
      "(6, 5, 4)\n"
     ]
    }
   ],
   "source": [
    "from itertools import permutations\n",
    "\n",
    "p = permutations([4, 5, 6])\n",
    "\n",
    "for n in list(p):\n",
    "    print (n)"
   ]
  },
  {
   "cell_type": "markdown",
   "id": "82c2394d",
   "metadata": {},
   "source": [
    "### Hackerrank List Comprehension"
   ]
  },
  {
   "cell_type": "code",
   "execution_count": 106,
   "id": "bea42b29",
   "metadata": {},
   "outputs": [
    {
     "name": "stdout",
     "output_type": "stream",
     "text": [
      "1 1\n",
      "1 2\n",
      "2 1\n",
      "2 2\n"
     ]
    }
   ],
   "source": [
    "for i in range(1,3):\n",
    "    for j in range(1,3):\n",
    "        print(i,j)"
   ]
  },
  {
   "cell_type": "code",
   "execution_count": 111,
   "id": "fea41e75",
   "metadata": {},
   "outputs": [
    {
     "name": "stdout",
     "output_type": "stream",
     "text": [
      "[[1, 1], [1, 2], [2, 1], [2, 2]]\n"
     ]
    }
   ],
   "source": [
    "#achieve the same output using list comprehension\n",
    "my_list = [[i, j] for i in range (1,3) for j in range (1,3)]\n",
    "print(my_list)"
   ]
  },
  {
   "cell_type": "code",
   "execution_count": 109,
   "id": "8429cd3f",
   "metadata": {},
   "outputs": [
    {
     "name": "stdout",
     "output_type": "stream",
     "text": [
      "this is x: 0\n",
      "this is y: 0\n",
      "this is y: 1\n",
      "this is y: 2\n",
      "this is x: 1\n",
      "this is y: 0\n",
      "this is y: 1\n",
      "this is y: 2\n"
     ]
    }
   ],
   "source": [
    "x = 1\n",
    "y = 2\n",
    "\n",
    "\n",
    "for i in range(x+1):\n",
    "    print('this is x:', i)\n",
    "    for j in range(y+1):\n",
    "        print('this is y:', j) "
   ]
  },
  {
   "cell_type": "code",
   "execution_count": 107,
   "id": "0677dab9",
   "metadata": {},
   "outputs": [
    {
     "name": "stdout",
     "output_type": "stream",
     "text": [
      "this is x: 0\n",
      "this is y: 0\n",
      "this is z: 0\n",
      "this is z: 1\n",
      "this is z: 2\n",
      "this is y: 1\n",
      "this is z: 0\n",
      "this is z: 1\n",
      "this is z: 2\n",
      "this is x: 1\n",
      "this is y: 0\n",
      "this is z: 0\n",
      "this is z: 1\n",
      "this is z: 2\n",
      "this is y: 1\n",
      "this is z: 0\n",
      "this is z: 1\n",
      "this is z: 2\n"
     ]
    }
   ],
   "source": [
    "x = 1\n",
    "y = 1\n",
    "z = 2\n",
    "\n",
    "for i in range(x+1):\n",
    "    print('this is x:', i)\n",
    "    for j in range(y+1):\n",
    "        print('this is y:', j) \n",
    "        for k in range(z+1):\n",
    "            print('this is z:', k)"
   ]
  },
  {
   "cell_type": "markdown",
   "id": "3e8bd560",
   "metadata": {},
   "source": [
    "Let's learn about list comprehensions! You are given three integers x, y and z representing the dimensions of a cuboid along with an integer n. Print a list of all possible coordinates given by i, j, k) on a 3D grid where the sum of i + j+ k is not equal to n. Here. 0 ≤ i < x; 0 < j≤ y; 0 < k ≤ z. Please use list comprehensions rather than multiple\n",
    "loops, as a learning exercise.\n",
    "Example\n",
    "x = 1\n",
    "y = 1\n",
    "z = 2\n",
    "n = 3\n",
    "\n",
    "All permutations of [i, j, k] are:\n",
    "[[0, 0, 0], [O, 0, 1], [O, 0, 2], [0, 1, 0], [0, 1, 1], [0, 1, 2], [1, 0, 0], [1, 0, 1], [1, 0, 2], [1, 1, 0], [1, 1, 1], [1, 1, 2]]\n",
    "Print an array of the elements that do not sum to n = 3.\n",
    "[[0, 0, 0], [0, 0, 1], [0, 0, 2], [0, 1, 0], [0, 1, 1], [1, 0, 0], [1, 0, 1], [1, 1, 0], [1, 1, 2]]\n",
    "Input Format\n",
    "Four integers x, y, z and n, each on a separate line.\n",
    "Constraints\n",
    "Print the list in lexicographic increasing order."
   ]
  },
  {
   "cell_type": "code",
   "execution_count": 113,
   "id": "018f6830",
   "metadata": {},
   "outputs": [
    {
     "name": "stdout",
     "output_type": "stream",
     "text": [
      "[[0, 0, 0], [0, 0, 1], [0, 0, 2], [0, 1, 0], [0, 1, 1], [1, 0, 0], [1, 0, 1], [1, 1, 0], [1, 1, 2]]\n"
     ]
    }
   ],
   "source": [
    "\n",
    "\n",
    "def permu(x, y, z, n):\n",
    "    my_list = [[i, j, k] for i in range (x+1) for j in range (y+1) for k in range (z+1) if i + j + k != n]\n",
    "  \n",
    "    print(my_list)\n",
    "\n",
    "\n",
    "if __name__ == '__main__':\n",
    "    x = int(input())\n",
    "    y = int(input())\n",
    "    z = int(input())\n",
    "    n = int(input())\n",
    "\n",
    "    permu(x, y, z, n)"
   ]
  },
  {
   "cell_type": "code",
   "execution_count": 126,
   "id": "144793f3",
   "metadata": {},
   "outputs": [
    {
     "name": "stdout",
     "output_type": "stream",
     "text": [
      "[1, 4, 5, 7]\n"
     ]
    }
   ],
   "source": [
    "#sort an array\n",
    "\n",
    "arr = [5, 7, 4, 4, 1]\n",
    "\n",
    "print(sorted(set(arr)))"
   ]
  },
  {
   "cell_type": "markdown",
   "id": "63e5a029",
   "metadata": {},
   "source": [
    "### Find the Runner-Up Score! - Hackerrank"
   ]
  },
  {
   "cell_type": "markdown",
   "id": "3a339ebc",
   "metadata": {},
   "source": [
    "Given the participants' score sheet for your University Sports Day, you are required to find the runner-up score. You are given n scores. Store them in a list and find the score of the\n",
    "runner-up.\n",
    "Input Format\n",
    "The first line contains n. The second line contains an array A[] of n integers each separated by a space.\n",
    "Constraints\n",
    "\n",
    "・ 2 ≤ n ≤ 10\n",
    "\n",
    "・ -100 ≤ A2 ≤ 100\n",
    "\n",
    "\n",
    "Input\n",
    "\n",
    "5\n",
    "\n",
    "2 3 6 6 5\n",
    "\n",
    "Output\n",
    "\n",
    "5"
   ]
  },
  {
   "cell_type": "code",
   "execution_count": 127,
   "id": "b92be304",
   "metadata": {},
   "outputs": [
    {
     "name": "stdout",
     "output_type": "stream",
     "text": [
      "5\n"
     ]
    }
   ],
   "source": [
    "\n",
    "def runner(arr):\n",
    "    sort_arr = sorted(list(set(arr)), reverse=True)\n",
    "\n",
    "    return(sort_arr[1])\n",
    "\n",
    "if __name__ == '__main__':\n",
    "    n = int(input())\n",
    "    arr = list(map(int, input().split()))\n",
    "    print(runner(arr))"
   ]
  },
  {
   "cell_type": "markdown",
   "id": "96bf3865",
   "metadata": {},
   "source": [
    "### hash()"
   ]
  },
  {
   "cell_type": "markdown",
   "id": "60e21f46",
   "metadata": {},
   "source": [
    "The hash value is an integer that is used to quickly compare dictionary keys while looking at a dictionary.\\\n",
    "\n",
    "Objects hashed using hash() are irreversible, leading to loss of information.\\\n",
    "\n",
    "hash() returns hashed value only for immutable objects, hence can be used as an indicator to check for mutable/immutable objects.\\\n",
    "\n",
    "We can encode data for security in Python by using hash() function.\n"
   ]
  },
  {
   "cell_type": "code",
   "execution_count": 146,
   "id": "4930d277",
   "metadata": {},
   "outputs": [
    {
     "data": {
      "text/plain": [
       "1"
      ]
     },
     "execution_count": 146,
     "metadata": {},
     "output_type": "execute_result"
    }
   ],
   "source": [
    "hash(1)"
   ]
  },
  {
   "cell_type": "code",
   "execution_count": 147,
   "id": "fccc3562",
   "metadata": {},
   "outputs": [
    {
     "data": {
      "text/plain": [
       "2"
      ]
     },
     "execution_count": 147,
     "metadata": {},
     "output_type": "execute_result"
    }
   ],
   "source": [
    "hash(2)"
   ]
  },
  {
   "cell_type": "code",
   "execution_count": 148,
   "id": "02744fc7",
   "metadata": {},
   "outputs": [
    {
     "data": {
      "text/plain": [
       "1152921504606846978"
      ]
     },
     "execution_count": 148,
     "metadata": {},
     "output_type": "execute_result"
    }
   ],
   "source": [
    "hash(2.5)"
   ]
  },
  {
   "cell_type": "code",
   "execution_count": 149,
   "id": "c404b1e1",
   "metadata": {},
   "outputs": [
    {
     "data": {
      "text/plain": [
       "1776053847627778186"
      ]
     },
     "execution_count": 149,
     "metadata": {},
     "output_type": "execute_result"
    }
   ],
   "source": [
    "hash('sarthak')"
   ]
  },
  {
   "cell_type": "markdown",
   "id": "28a7afc1",
   "metadata": {},
   "source": [
    "For hashing, a data type has to be immutable. Say a list has to be converted to a tuple which is immutable, then only it is hashable."
   ]
  },
  {
   "cell_type": "markdown",
   "id": "4630194f",
   "metadata": {},
   "source": [
    "# Python Class - OOPS"
   ]
  },
  {
   "cell_type": "markdown",
   "id": "f4e709d8",
   "metadata": {},
   "source": [
    "Class is a blueprint. Object is a product. To create a product we need a blueprint design first. Till now we have worked with built in data types like integer, float but now we will create a new class car."
   ]
  },
  {
   "cell_type": "markdown",
   "id": "3f16792d",
   "metadata": {},
   "source": [
    "In a class, we will define attributes and behaviour. Attributes are variables. Behaviour is method function."
   ]
  },
  {
   "cell_type": "code",
   "execution_count": 212,
   "id": "ef59211d",
   "metadata": {},
   "outputs": [
    {
     "name": "stdout",
     "output_type": "stream",
     "text": [
      "<class 'int'>\n",
      "<class 'str'>\n",
      "<class '__main__.car'>\n"
     ]
    }
   ],
   "source": [
    "class car:\n",
    "\n",
    "    def sedan(self):\n",
    "        print(\"FWD, CVT, 4cyl\")\n",
    "\n",
    "\n",
    "# checking data types of default vs newly created constructor object\n",
    "        \n",
    "x = 9\n",
    "print(type(x))\n",
    "\n",
    "y = 'a'\n",
    "print(type(y))\n",
    "\n",
    "car1 = car()        #car1 is an object\n",
    "print(type(car1))"
   ]
  },
  {
   "cell_type": "code",
   "execution_count": 216,
   "id": "67679633",
   "metadata": {},
   "outputs": [
    {
     "name": "stdout",
     "output_type": "stream",
     "text": [
      "FWD, CVT, 4cyl\n",
      "FWD, CVT, 4cyl\n"
     ]
    }
   ],
   "source": [
    "class car:\n",
    "\n",
    "    def sedan(self):\n",
    "        print(\"FWD, CVT, 4cyl\")\n",
    "\n",
    "\n",
    "car1 = car()    #car1 is object instance\n",
    "\n",
    "car.sedan(car1) #here car1 is a parameter argument\n",
    "\n",
    "# another way to call constructor\n",
    "\n",
    "\n",
    "car1.sedan()"
   ]
  },
  {
   "cell_type": "code",
   "execution_count": 217,
   "id": "06cdb657",
   "metadata": {},
   "outputs": [
    {
     "name": "stdout",
     "output_type": "stream",
     "text": [
      "FWD, CVT, 4cyl\n",
      "RWD, Manual, V8\n"
     ]
    }
   ],
   "source": [
    "class car:\n",
    "    def sedan(self):\n",
    "        print(\"FWD, CVT, 4cyl\")\n",
    "        \n",
    "    def sports_car(self):\n",
    "        print(\"RWD, Manual, V8\")\n",
    "\n",
    "car1 = car()  # car1 is an object instance\n",
    "\n",
    "car1.sedan()       # Calls the sedan method\n",
    "car1.sports_car()  # Calls the sports_car method\n"
   ]
  },
  {
   "cell_type": "markdown",
   "id": "bac4288f",
   "metadata": {},
   "source": [
    "### Another class calculator"
   ]
  },
  {
   "cell_type": "code",
   "execution_count": 218,
   "id": "c21de5c6",
   "metadata": {},
   "outputs": [
    {
     "name": "stdout",
     "output_type": "stream",
     "text": [
      "Sum:  15\n",
      "Subtract:  5\n",
      "Multiply:  50\n",
      "Divide:  2.0\n",
      "Divide by zero:  Error: Division by zero is not allowed.\n"
     ]
    }
   ],
   "source": [
    "class Calculator:\n",
    "    def sum(self, a, b):\n",
    "        return a + b\n",
    "    \n",
    "    def subtract(self, a, b):\n",
    "        return a - b\n",
    "    \n",
    "    def multiply(self, a, b):\n",
    "        return a * b\n",
    "    \n",
    "    def divide(self, a, b):\n",
    "        if b != 0:\n",
    "            return a / b\n",
    "        else:\n",
    "            return \"Error: Division by zero is not allowed.\"\n",
    "\n",
    "# Create an instance of the Calculator class\n",
    "calc = Calculator()\n",
    "\n",
    "# Call the methods\n",
    "result_sum = calc.sum(10, 5)\n",
    "result_subtract = calc.subtract(10, 5)\n",
    "result_multiply = calc.multiply(10, 5)\n",
    "result_divide = calc.divide(10, 5)\n",
    "result_divide_by_zero = calc.divide(10, 0)\n",
    "\n",
    "# Print the results\n",
    "print(\"Sum: \", result_sum)                # Outputs: Sum:  15\n",
    "print(\"Subtract: \", result_subtract)      # Outputs: Subtract:  5\n",
    "print(\"Multiply: \", result_multiply)      # Outputs: Multiply:  50\n",
    "print(\"Divide: \", result_divide)          # Outputs: Divide:  2.0\n",
    "print(\"Divide by zero: \", result_divide_by_zero)  # Outputs: Divide by zero:  Error: Division by zero is not allowed.\n"
   ]
  },
  {
   "cell_type": "markdown",
   "id": "3232a376",
   "metadata": {},
   "source": [
    "# `__init__`"
   ]
  },
  {
   "cell_type": "markdown",
   "id": "1990ee5c",
   "metadata": {},
   "source": [
    "`__init__` method is used to initialize a variable. It acts as a constructor. For every object, `__init__` gets called automatically."
   ]
  },
  {
   "cell_type": "code",
   "execution_count": 288,
   "id": "721e05d4",
   "metadata": {},
   "outputs": [
    {
     "name": "stdout",
     "output_type": "stream",
     "text": [
      "in init\n",
      "in init\n",
      "FWD, CVT, 4cyl\n",
      "RWD, Manual, V8\n",
      "FWD, CVT, 4cyl\n",
      "RWD, Manual, V8\n"
     ]
    }
   ],
   "source": [
    "class car:\n",
    "    def __init__(self):\n",
    "        print(\"in init\")\n",
    "\n",
    "    def sedan(self):\n",
    "        print(\"FWD, CVT, 4cyl\")\n",
    "        \n",
    "    def sports_car(self):\n",
    "        print(\"RWD, Manual, V8\")\n",
    "\n",
    "car1 = car()  # car1 is an object instance\n",
    "car2 = car()\n",
    "\n",
    "car1.sedan()       # Calls the sedan method\n",
    "car1.sports_car()  # Calls the sports_car method\n",
    "car2.sedan()       \n",
    "car2.sports_car()"
   ]
  },
  {
   "cell_type": "code",
   "execution_count": 289,
   "id": "1221fb91",
   "metadata": {},
   "outputs": [
    {
     "name": "stdout",
     "output_type": "stream",
     "text": [
      "Config is CVT 4cyl\n",
      "Config is Manual V8\n"
     ]
    }
   ],
   "source": [
    "class car:\n",
    "    def __init__(self, transmission, engine):\n",
    "        self.transmission = transmission\n",
    "        self.engine = engine\n",
    "\n",
    "    def build(self):\n",
    "        print(\"Config is\", self.transmission, self.engine )\n",
    "    \n",
    "sedan = car('CVT', '4cyl')  # car1 is an object instance\n",
    "sport = car('Manual', 'V8')\n",
    "\n",
    "sedan.build()\n",
    "sport.build()"
   ]
  },
  {
   "cell_type": "markdown",
   "id": "949071e7",
   "metadata": {},
   "source": [
    "### Object created gets stored in Heap Memory of computer"
   ]
  },
  {
   "cell_type": "code",
   "execution_count": 291,
   "id": "9dad8ffe",
   "metadata": {},
   "outputs": [
    {
     "name": "stdout",
     "output_type": "stream",
     "text": [
      "6079551440\n",
      "6082812048\n"
     ]
    }
   ],
   "source": [
    "# To find out heap memory address\n",
    "\n",
    "class car:\n",
    "    pass\n",
    "\n",
    "c1 = car()\n",
    "c2 = car()\n",
    "\n",
    "print(id(c1))\n",
    "print(id(c2))"
   ]
  },
  {
   "cell_type": "markdown",
   "id": "03f1493d",
   "metadata": {},
   "source": [
    "car() is a constructor which calls init method automatically."
   ]
  },
  {
   "cell_type": "markdown",
   "id": "7131d3a3",
   "metadata": {},
   "source": [
    "# Python Single level Inheritance - OOPS"
   ]
  },
  {
   "cell_type": "markdown",
   "id": "26d92b9b",
   "metadata": {},
   "source": [
    "A <- B"
   ]
  },
  {
   "cell_type": "markdown",
   "id": "f4e15198",
   "metadata": {},
   "source": [
    "A simple class"
   ]
  },
  {
   "cell_type": "code",
   "execution_count": 280,
   "id": "8f74d47c",
   "metadata": {},
   "outputs": [
    {
     "name": "stdout",
     "output_type": "stream",
     "text": [
      "Feature 1 working\n",
      "Feature 2 working\n"
     ]
    }
   ],
   "source": [
    "class A:\n",
    "\n",
    "    def feature1(self):\n",
    "        print ('Feature 1 working')\n",
    "\n",
    "    def feature2(self):\n",
    "        print ('Feature 2 working')\n",
    "\n",
    "a1 = A()\n",
    "\n",
    "a1.feature1()\n",
    "a1.feature2()\n"
   ]
  },
  {
   "cell_type": "markdown",
   "id": "d7cc88e9",
   "metadata": {},
   "source": [
    "Now let's say we have another class B having some other feature. In class B we also want features of A. This is where we need Inheritance. We will make class B as child class or sub class of A."
   ]
  },
  {
   "cell_type": "code",
   "execution_count": 281,
   "id": "ae039dba",
   "metadata": {},
   "outputs": [
    {
     "name": "stdout",
     "output_type": "stream",
     "text": [
      "Feature 1 working\n",
      "Feature 2 working\n",
      "Feature 3 working\n",
      "Feature 4 working\n"
     ]
    }
   ],
   "source": [
    "class A:\n",
    "\n",
    "    def feature1(self):\n",
    "        print ('Feature 1 working')\n",
    "\n",
    "    def feature2(self):\n",
    "        print ('Feature 2 working')\n",
    "\n",
    "\n",
    "\n",
    "class B(A):\n",
    "\n",
    "    def feature3(self):\n",
    "        print ('Feature 3 working')\n",
    "\n",
    "    def feature4(self):\n",
    "        print ('Feature 4 working')\n",
    "\n",
    "a1 = A()\n",
    "\n",
    "b1 = B()\n",
    "\n",
    "b1.feature1()\n",
    "b1.feature2()\n",
    "b1.feature3()\n",
    "b1.feature4()"
   ]
  },
  {
   "cell_type": "markdown",
   "id": "4e0f9334",
   "metadata": {},
   "source": [
    "We see class B has access to all four features. class A will be called Parent class or Super class"
   ]
  },
  {
   "cell_type": "markdown",
   "id": "c44e888c",
   "metadata": {},
   "source": [
    "# Python Multi level inheritance - OOPS"
   ]
  },
  {
   "cell_type": "markdown",
   "id": "13a9a82b",
   "metadata": {},
   "source": [
    "A <- B <- C"
   ]
  },
  {
   "cell_type": "code",
   "execution_count": 285,
   "id": "a1d01111",
   "metadata": {},
   "outputs": [
    {
     "name": "stdout",
     "output_type": "stream",
     "text": [
      "Feature 1 working\n",
      "Feature 2 working\n",
      "Feature 3 working\n",
      "Feature 4 working\n",
      "Feature 5 working\n"
     ]
    }
   ],
   "source": [
    "class A:\n",
    "\n",
    "    def feature1(self):\n",
    "        print ('Feature 1 working')\n",
    "\n",
    "    def feature2(self):\n",
    "        print ('Feature 2 working')\n",
    "\n",
    "\n",
    "\n",
    "class B(A):\n",
    "\n",
    "    def feature3(self):\n",
    "        print ('Feature 3 working')\n",
    "\n",
    "    def feature4(self):\n",
    "        print ('Feature 4 working')\n",
    "\n",
    "\n",
    "class C(B):\n",
    "\n",
    "    def feature5(self):\n",
    "        print ('Feature 5 working')\n",
    "\n",
    "\n",
    "c1 = C()\n",
    "\n",
    "c1.feature1()\n",
    "c1.feature2()\n",
    "c1.feature3()\n",
    "c1.feature4()\n",
    "c1.feature5()"
   ]
  },
  {
   "cell_type": "markdown",
   "id": "b0a60ed3",
   "metadata": {},
   "source": [
    "# Python Multiple inheritance - OOPS"
   ]
  },
  {
   "cell_type": "markdown",
   "id": "254e6e2f",
   "metadata": {},
   "source": [
    "A class and B class has no connection. But C class wants to inherit both the features from A and B class"
   ]
  },
  {
   "cell_type": "code",
   "execution_count": 286,
   "id": "ddbc7c33",
   "metadata": {},
   "outputs": [
    {
     "name": "stdout",
     "output_type": "stream",
     "text": [
      "Feature 1 working\n",
      "Feature 2 working\n",
      "Feature 3 working\n",
      "Feature 4 working\n",
      "Feature 5 working\n"
     ]
    }
   ],
   "source": [
    "class A:\n",
    "\n",
    "    def feature1(self):\n",
    "        print ('Feature 1 working')\n",
    "\n",
    "    def feature2(self):\n",
    "        print ('Feature 2 working')\n",
    "\n",
    "\n",
    "\n",
    "class B():\n",
    "\n",
    "    def feature3(self):\n",
    "        print ('Feature 3 working')\n",
    "\n",
    "    def feature4(self):\n",
    "        print ('Feature 4 working')\n",
    "\n",
    "\n",
    "class C(A, B):\n",
    "\n",
    "    def feature5(self):\n",
    "        print ('Feature 5 working')\n",
    "\n",
    "\n",
    "c1 = C()\n",
    "\n",
    "c1.feature1()\n",
    "c1.feature2()\n",
    "c1.feature3()\n",
    "c1.feature4()\n",
    "c1.feature5()"
   ]
  },
  {
   "cell_type": "markdown",
   "id": "9ce48845",
   "metadata": {},
   "source": [
    "# Linear Search"
   ]
  },
  {
   "cell_type": "code",
   "execution_count": 297,
   "id": "9725111a",
   "metadata": {},
   "outputs": [
    {
     "name": "stdout",
     "output_type": "stream",
     "text": [
      "Found at 2\n"
     ]
    }
   ],
   "source": [
    "pos = -1 #global variable\n",
    "\n",
    "\n",
    "def search(list, n):\n",
    "    i = 0\n",
    "\n",
    "    while i < len(list) :\n",
    "        if list[i] == n:\n",
    "            globals()['pos'] = i\n",
    "            return True\n",
    "        i = i + 1\n",
    "\n",
    "    return False\n",
    "\n",
    "list = [5, 8, 4, 9]\n",
    "n = 8\n",
    "\n",
    "if search(list, n) :\n",
    "    print(\"Found at\", pos+1)\n",
    "\n",
    "else:\n",
    "    print(\"Not Found\")"
   ]
  },
  {
   "cell_type": "markdown",
   "id": "cb34c758",
   "metadata": {},
   "source": [
    "# Binary Search"
   ]
  },
  {
   "cell_type": "markdown",
   "id": "7962c7aa",
   "metadata": {},
   "source": [
    "List has to be sorted for binary search. It is more efficient than linear search"
   ]
  },
  {
   "cell_type": "markdown",
   "id": "b6789933",
   "metadata": {},
   "source": [
    "For a list with index [ 0, 1, 2, 3, 4 ] Binary search has lower index 0, upper index 4. Mid index will be (lower + upper) / 2 = 2 here. Match if search element n == mid value. If its not a match, we have to change lower bound or upper bound. If n is smaller than mid, change upper bound and mid becomes new upper bound. And vice versa. Note: In python // is integer division."
   ]
  },
  {
   "cell_type": "code",
   "execution_count": 299,
   "id": "cf0f4447",
   "metadata": {},
   "outputs": [
    {
     "name": "stdout",
     "output_type": "stream",
     "text": [
      "Found at 2\n"
     ]
    }
   ],
   "source": [
    "pos = -1 #global variable\n",
    "\n",
    "\n",
    "def search(list, n):\n",
    "    \n",
    "    l = 0\n",
    "    u = len(list) - 1\n",
    "\n",
    "    while l < u :\n",
    "        mid = (l+u) // 2\n",
    "\n",
    "        if list[mid] == n:\n",
    "            globals()['pos'] = mid\n",
    "            return True\n",
    "\n",
    "        else:\n",
    "            if list[mid] < n:\n",
    "                l = mid\n",
    "            else:\n",
    "                u = mid - 1 # - 1 to skip mid value\n",
    "    return False\n",
    "\n",
    "list = [5, 8, 10, 20]\n",
    "n = 8\n",
    "\n",
    "if search(list, n) :\n",
    "    print(\"Found at\", pos+1)\n",
    "\n",
    "else:\n",
    "    print(\"Not Found\")"
   ]
  },
  {
   "cell_type": "markdown",
   "id": "76ba5ff4",
   "metadata": {},
   "source": [
    "# Bubble Sort"
   ]
  },
  {
   "cell_type": "markdown",
   "id": "c622569e",
   "metadata": {},
   "source": [
    "Say a list [5, 3, 8, 6, 7, 2]\n",
    "\n",
    "In each iteration,\n",
    "\n",
    "We take first two values and compare. We swap if former is greater than later.\n",
    "\n",
    "Say 5 and 3. 5 > 3. So we swap position. New list is [3, 5, 8, 6, 7, 2]\n",
    "\n",
    "In next iteration, We compare 5, 8. 5 is not > 8. No swap.\n",
    "\n",
    "After end of first iteration we get [3, 5, 6, 7, 2, 8]\n",
    "\n",
    "And then starts iteration 2.\n",
    "\n",
    "We would need 2 loops. Outer loop will take care of iteration. Inner loop will deal with swapping.\n"
   ]
  },
  {
   "cell_type": "markdown",
   "id": "af640887",
   "metadata": {},
   "source": [
    "range(start, stop, step)"
   ]
  },
  {
   "cell_type": "code",
   "execution_count": 300,
   "id": "8d279c3e",
   "metadata": {},
   "outputs": [
    {
     "name": "stdout",
     "output_type": "stream",
     "text": [
      "[3, 5, 6, 7, 2, 8]\n"
     ]
    }
   ],
   "source": [
    "def sort(lst):\n",
    "\n",
    "    for i in range(0, len(lst)):\n",
    "\n",
    "        for j in range(i):\n",
    "\n",
    "            if lst[j] > lst[j+1]:\n",
    "\n",
    "                temp = lst[j]\n",
    "                lst[j] = lst[j+1]\n",
    "                lst[j+1] = temp\n",
    "\n",
    "lst = [5, 3, 8, 6, 7, 2]\n",
    "sort(lst)\n",
    "\n",
    "print(lst)\n"
   ]
  },
  {
   "cell_type": "code",
   "execution_count": 302,
   "id": "2fe064fc",
   "metadata": {},
   "outputs": [
    {
     "name": "stdout",
     "output_type": "stream",
     "text": [
      "[3, 5, 6, 7, 2, 8]\n"
     ]
    }
   ],
   "source": [
    "def sort(lst):\n",
    "\n",
    "    for i in range(len(lst) - 1):\n",
    "        for j in range(len(lst) - 1):\n",
    "            if lst[i] > lst[i+1]:\n",
    "                lst[i], lst[i+1] = lst[i+1], lst[i]\n",
    "\n",
    "\n",
    "lst = [5, 3, 8, 6, 7, 2]\n",
    "sort(lst)\n",
    "\n",
    "print(lst)"
   ]
  }
 ],
 "metadata": {
  "kernelspec": {
   "display_name": "base",
   "language": "python",
   "name": "python3"
  },
  "language_info": {
   "codemirror_mode": {
    "name": "ipython",
    "version": 3
   },
   "file_extension": ".py",
   "mimetype": "text/x-python",
   "name": "python",
   "nbconvert_exporter": "python",
   "pygments_lexer": "ipython3",
   "version": "3.11.5"
  }
 },
 "nbformat": 4,
 "nbformat_minor": 5
}
