{
 "cells": [
  {
   "cell_type": "markdown",
   "id": "526f12bd",
   "metadata": {},
   "source": [
    "<div class=\"alert alert-block alert-success\">\n",
    "\n",
    "# Python\n",
    "\n",
    "- String\n",
    "- List"
   ]
  },
  {
   "cell_type": "code",
   "execution_count": 24,
   "id": "efbd18d2",
   "metadata": {},
   "outputs": [
    {
     "name": "stdout",
     "output_type": "stream",
     "text": [
      "This notebook is\n",
      "for string revision\n"
     ]
    }
   ],
   "source": [
    "print ('''\\\n",
    "This notebook is\n",
    "for string revision\\\n",
    "''')"
   ]
  },
  {
   "cell_type": "code",
   "execution_count": 25,
   "id": "856ad10d",
   "metadata": {},
   "outputs": [
    {
     "name": "stdout",
     "output_type": "stream",
     "text": [
      "['Java', 'Python', 'Java']\n"
     ]
    }
   ],
   "source": [
    "languages = [\"Python\", \"Java\"]\n",
    "languages = [\"Java\"] + languages #appending list\n",
    "print(languages)"
   ]
  },
  {
   "cell_type": "markdown",
   "id": "a984e202",
   "metadata": {},
   "source": [
    "The .join() method is used to concatenate (join) a sequence of strings, lists, or other iterable objects into a single string."
   ]
  },
  {
   "cell_type": "code",
   "execution_count": 26,
   "id": "c06b5990",
   "metadata": {},
   "outputs": [
    {
     "data": {
      "text/plain": [
       "'some data in a list'"
      ]
     },
     "execution_count": 26,
     "metadata": {},
     "output_type": "execute_result"
    }
   ],
   "source": [
    "#List elements can be joined to create a long string or sentence\n",
    "' '.join(['some','data','in','a','list'])"
   ]
  },
  {
   "cell_type": "code",
   "execution_count": 27,
   "id": "f5f5c01f",
   "metadata": {},
   "outputs": [
    {
     "name": "stdout",
     "output_type": "stream",
     "text": [
      "apple-banana-cherry\n"
     ]
    }
   ],
   "source": [
    "my_list = [\"apple\", \"banana\", \"cherry\"]\n",
    "result = '-'.join(my_list)\n",
    "print(result)"
   ]
  },
  {
   "cell_type": "markdown",
   "id": "c1970a9f",
   "metadata": {},
   "source": [
    "The .split() method is used to split a string into a list of substrings based on a specified delimiter."
   ]
  },
  {
   "cell_type": "code",
   "execution_count": 28,
   "id": "2b5d7e93",
   "metadata": {},
   "outputs": [
    {
     "data": {
      "text/plain": [
       "['Hi,', 'my', 'name', 'is', 'Sar.']"
      ]
     },
     "execution_count": 28,
     "metadata": {},
     "output_type": "execute_result"
    }
   ],
   "source": [
    "#We can split the different pieces of a string into a list using the .split()\n",
    "s = 'Hi, my name is Sar.'\n",
    "s.split()"
   ]
  },
  {
   "cell_type": "code",
   "execution_count": 29,
   "id": "79f9526e",
   "metadata": {},
   "outputs": [
    {
     "data": {
      "text/plain": [
       "['Hi', ' my name is Sar.']"
      ]
     },
     "execution_count": 29,
     "metadata": {},
     "output_type": "execute_result"
    }
   ],
   "source": [
    "s.split(',')"
   ]
  },
  {
   "cell_type": "code",
   "execution_count": 30,
   "id": "c02e11e3",
   "metadata": {},
   "outputs": [
    {
     "name": "stdout",
     "output_type": "stream",
     "text": [
      "This,is,a,string,with,extra,spaces\n"
     ]
    }
   ],
   "source": [
    "s = \"   This   is  a  string   with   extra   spaces   \"\n",
    "result = ','.join(s.split())\n",
    "print(result)"
   ]
  },
  {
   "cell_type": "code",
   "execution_count": 31,
   "id": "f5e0130f",
   "metadata": {},
   "outputs": [
    {
     "name": "stdout",
     "output_type": "stream",
     "text": [
      "Sunday\n",
      "Monday\n",
      "Tuesday\n",
      "Wednesday\n",
      "Thursday\n",
      "Friday\n",
      "Saturday\n"
     ]
    }
   ],
   "source": [
    "days = [\"Sunday\",\"Monday\",\"Tuesday\",\"Wednesday\",\"Thursday\",\"Friday\",\"Saturday\"]\n",
    "for d in days:\n",
    "    print(d)"
   ]
  },
  {
   "cell_type": "code",
   "execution_count": 32,
   "id": "59639b41",
   "metadata": {},
   "outputs": [
    {
     "name": "stdout",
     "output_type": "stream",
     "text": [
      "1 1\n",
      "1 2\n",
      "1 3\n",
      "1 4\n",
      "1 5\n",
      "1 6\n",
      "2 1\n",
      "2 2\n",
      "2 3\n",
      "2 4\n",
      "2 5\n",
      "2 6\n",
      "3 1\n",
      "3 2\n",
      "3 3\n",
      "3 4\n",
      "3 5\n",
      "3 6\n",
      "4 1\n",
      "4 2\n",
      "4 3\n",
      "4 4\n",
      "4 5\n",
      "4 6\n",
      "5 1\n",
      "5 2\n",
      "5 3\n",
      "5 4\n",
      "5 5\n",
      "5 6\n",
      "6 1\n",
      "6 2\n",
      "6 3\n",
      "6 4\n",
      "6 5\n",
      "6 6\n"
     ]
    }
   ],
   "source": [
    "for i in range(1,7):\n",
    "    for j in range(1,7):\n",
    "        print(i,j)"
   ]
  },
  {
   "cell_type": "markdown",
   "id": "8337bbf2",
   "metadata": {},
   "source": [
    "The map() function in Python is a built-in function that is used to apply a given function to every item of an iterable (such as a list, tuple, or string) and returns an iterable map object."
   ]
  },
  {
   "cell_type": "code",
   "execution_count": 33,
   "id": "5e5cfccc",
   "metadata": {},
   "outputs": [
    {
     "name": "stdout",
     "output_type": "stream",
     "text": [
      "[1, 4, 9, 16, 25]\n"
     ]
    }
   ],
   "source": [
    "def square(x):\n",
    "    return x * x\n",
    "\n",
    "numbers = [1, 2, 3, 4, 5]\n",
    "squared_numbers = map(square, numbers)\n",
    "\n",
    "# To get the result as a list, convert the map object to a list\n",
    "squared_numbers_list = list(squared_numbers)\n",
    "\n",
    "print(squared_numbers_list)\n"
   ]
  },
  {
   "cell_type": "code",
   "execution_count": 34,
   "id": "acae3b36",
   "metadata": {},
   "outputs": [
    {
     "name": "stdout",
     "output_type": "stream",
     "text": [
      "[1, 4, 9, 16, 25]\n"
     ]
    }
   ],
   "source": [
    "list1 = [1, 2, 3, 4, 5]\n",
    "\n",
    "sq = list(map(lambda x: x**2, list1))\n",
    "\n",
    "print(sq)"
   ]
  },
  {
   "cell_type": "code",
   "execution_count": 35,
   "id": "b53c99e1",
   "metadata": {},
   "outputs": [
    {
     "name": "stdout",
     "output_type": "stream",
     "text": [
      "[1, 4, 9, 16, 25]\n"
     ]
    }
   ],
   "source": [
    "list1 = [1, 2, 3, 4, 5]\n",
    "\n",
    "sq = list(map(lambda x: pow(x,2), list1))\n",
    "\n",
    "print(sq)"
   ]
  },
  {
   "cell_type": "markdown",
   "id": "b49e7bb5",
   "metadata": {},
   "source": [
    "### Take user input a python list of integer element and print the list. Use List Comprehension"
   ]
  },
  {
   "cell_type": "markdown",
   "id": "cdeddda1",
   "metadata": {},
   "source": [
    "List comprehension is a concise way to create lists in Python. It provides a more readable and compact syntax for creating lists compared to using traditional loops."
   ]
  },
  {
   "cell_type": "code",
   "execution_count": 36,
   "id": "c6aeff3d",
   "metadata": {},
   "outputs": [
    {
     "name": "stdout",
     "output_type": "stream",
     "text": [
      "[]\n"
     ]
    }
   ],
   "source": [
    "list1 = [int(x) for x in input().split()]\n",
    "print(list1)"
   ]
  },
  {
   "cell_type": "markdown",
   "id": "acd8a2e1",
   "metadata": {},
   "source": [
    "### Take user input a python list of integer element with comma delimiter and print the list"
   ]
  },
  {
   "cell_type": "code",
   "execution_count": 47,
   "id": "c93f1c88",
   "metadata": {},
   "outputs": [
    {
     "name": "stdout",
     "output_type": "stream",
     "text": [
      "[1, 2, 3]\n"
     ]
    }
   ],
   "source": [
    "list1 = [int(x) for x in input().split(',')]\n",
    "print(list1)"
   ]
  },
  {
   "cell_type": "markdown",
   "id": "eadbc946",
   "metadata": {},
   "source": [
    "### Nested List"
   ]
  },
  {
   "cell_type": "code",
   "execution_count": 68,
   "id": "d814589f",
   "metadata": {},
   "outputs": [
    {
     "name": "stdout",
     "output_type": "stream",
     "text": [
      "[['uranium', '239'], ['Hydrogen', '1'], ['Hydrogen', '2']]\n"
     ]
    }
   ],
   "source": [
    "N = int(input()) #number of input element\n",
    "lst = [] #blank list to store element\n",
    "\n",
    "for _ in range(N):\n",
    "    element = input().split()\n",
    "    lst.append(element)\n",
    "\n",
    "print(lst)"
   ]
  },
  {
   "cell_type": "code",
   "execution_count": 69,
   "id": "89abf626",
   "metadata": {},
   "outputs": [
    {
     "data": {
      "text/plain": [
       "['uranium', '239']"
      ]
     },
     "execution_count": 69,
     "metadata": {},
     "output_type": "execute_result"
    }
   ],
   "source": [
    "lst[0]"
   ]
  },
  {
   "cell_type": "code",
   "execution_count": 70,
   "id": "a3204fd7",
   "metadata": {},
   "outputs": [
    {
     "data": {
      "text/plain": [
       "['Hydrogen', '1']"
      ]
     },
     "execution_count": 70,
     "metadata": {},
     "output_type": "execute_result"
    }
   ],
   "source": [
    "lst[1]"
   ]
  },
  {
   "cell_type": "markdown",
   "id": "3ee7bc91",
   "metadata": {},
   "source": [
    "### Nested List 2 - Studend and its score"
   ]
  },
  {
   "cell_type": "code",
   "execution_count": 73,
   "id": "42a15f27",
   "metadata": {},
   "outputs": [
    {
     "name": "stdout",
     "output_type": "stream",
     "text": [
      "[['harry', 90.0], ['berry', 89.0]]\n",
      "89.0\n"
     ]
    }
   ],
   "source": [
    "if __name__ == '__main__':\n",
    "    student = []\n",
    "    for _ in range(int(input())):\n",
    "        name = input()\n",
    "        score = float(input())\n",
    "        student.append([name, score])\n",
    "        \n",
    "    print(student)\n",
    "    print(student[1][1])"
   ]
  },
  {
   "cell_type": "code",
   "execution_count": 75,
   "id": "987d619d",
   "metadata": {},
   "outputs": [
    {
     "name": "stdout",
     "output_type": "stream",
     "text": [
      "['harry', 90.0]\n",
      "['berry', 89.0]\n"
     ]
    }
   ],
   "source": [
    "for item in student:\n",
    "    print (item)"
   ]
  },
  {
   "cell_type": "code",
   "execution_count": 76,
   "id": "bcb234c5",
   "metadata": {},
   "outputs": [
    {
     "name": "stdout",
     "output_type": "stream",
     "text": [
      "harry\n",
      "berry\n"
     ]
    }
   ],
   "source": [
    "for item in student:\n",
    "    print (item[0])"
   ]
  },
  {
   "cell_type": "code",
   "execution_count": 77,
   "id": "94bfa37c",
   "metadata": {},
   "outputs": [
    {
     "name": "stdout",
     "output_type": "stream",
     "text": [
      "90.0\n",
      "89.0\n"
     ]
    }
   ],
   "source": [
    "for item in student:\n",
    "    print (item[1])"
   ]
  },
  {
   "cell_type": "markdown",
   "id": "af9da401",
   "metadata": {},
   "source": [
    "### Find name of highest and lowerst scorer in a student record\n",
    "\n"
   ]
  },
  {
   "cell_type": "markdown",
   "id": "cd758852",
   "metadata": {},
   "source": [
    "records = [[\" chi\" , 20.0], [\"beta\", 50.0], [\"alpha\", 60.0]]\n",
    "\n",
    "\n",
    "The ordered list of scores is [20.0, 50.0, 60.0], so the lowest score is 20.0. There is one students with that score: [\"chi\"]. There is [\"alpha\"] with highest score.\n",
    "So output is:\n",
    "alpha\n",
    "chi"
   ]
  },
  {
   "cell_type": "code",
   "execution_count": 90,
   "id": "d9efadd0",
   "metadata": {},
   "outputs": [
    {
     "name": "stdout",
     "output_type": "stream",
     "text": [
      "60.0\n",
      "20.0\n",
      "['alpha']\n",
      "['chi']\n"
     ]
    }
   ],
   "source": [
    "def high_low(records):\n",
    "    score_list = []\n",
    "    for n in records:\n",
    "        score_list.append(n[1]) #n[1] just store the score\n",
    "\n",
    "    score_list = set(score_list)\n",
    "    highest_score = max(score_list)\n",
    "    lowest_score = min(score_list)\n",
    "\n",
    "    \n",
    "    print(highest_score)\n",
    "    print(lowest_score)\n",
    "\n",
    "    highest_name = []\n",
    "    lowest_name = []\n",
    "\n",
    "    for n in records:\n",
    "        if n[1] == highest_score:\n",
    "            highest_name.append(n[0]) #n[0] will store just name\n",
    "        \n",
    "        if n[1] == lowest_score:\n",
    "            lowest_name.append(n[0]) #n[0] will store just name\n",
    "\n",
    "    print(highest_name)\n",
    "    print(lowest_name)\n",
    "\n",
    "\n",
    "if __name__ == '__main__':\n",
    "    records = []\n",
    "    for _ in range(int(input())):\n",
    "        name = input()\n",
    "        score = float(input())\n",
    "        records.append([name, score])\n",
    "\n",
    "    high_low(records)"
   ]
  },
  {
   "cell_type": "markdown",
   "id": "05d6fb75",
   "metadata": {},
   "source": [
    "### Print the positions of even numbers in a Python list"
   ]
  },
  {
   "cell_type": "code",
   "execution_count": null,
   "id": "babe0c2b",
   "metadata": {},
   "outputs": [
    {
     "name": "stdout",
     "output_type": "stream",
     "text": [
      "3 4 5 6 8\n",
      "[1, 3, 4]\n"
     ]
    }
   ],
   "source": [
    "\n",
    "\n",
    "list1 = [int(x) for x in input().split()]\n",
    "\n",
    "def checkEven(list1):\n",
    "    even_positions = []\n",
    "    for i in range(len(list1)):\n",
    "        if list1[i] % 2 == 0:\n",
    "            even_positions.append(i)\n",
    "    return even_positions\n",
    "\n",
    "result = checkEven(list1)\n",
    "print(result)\n"
   ]
  },
  {
   "cell_type": "markdown",
   "id": "00166f15",
   "metadata": {},
   "source": [
    "### Add iteratively two consecutive elements (not distinct elements) of a python list and print the list"
   ]
  },
  {
   "cell_type": "code",
   "execution_count": null,
   "id": "7d8ce7da",
   "metadata": {},
   "outputs": [
    {
     "name": "stdout",
     "output_type": "stream",
     "text": [
      "3 4 5 6 7 8\n",
      "[7, 9, 11, 13, 15]\n"
     ]
    }
   ],
   "source": [
    "\n",
    "list1 = [int(x) for x in input().split()]\n",
    "\n",
    "def addTwoItem(list1):\n",
    "    sumList = []\n",
    "    for i in range(len(list1)-1):\n",
    "        \n",
    "        sumList.append(list1[i]+list1[i+1])\n",
    "    return sumList\n",
    "\n",
    "result = addTwoItem(list1)\n",
    "print(result)"
   ]
  },
  {
   "cell_type": "markdown",
   "id": "49f8d44c",
   "metadata": {},
   "source": [
    "### end = ' ' ensures that the numbers are printed consecutively on the same line without any spaces."
   ]
  },
  {
   "cell_type": "code",
   "execution_count": null,
   "id": "46995289",
   "metadata": {},
   "outputs": [
    {
     "name": "stdout",
     "output_type": "stream",
     "text": [
      "1\n",
      "2\n",
      "3\n",
      "123"
     ]
    }
   ],
   "source": [
    "if __name__ == '__main__':\n",
    "    n = 3\n",
    "    \n",
    "    for i in range (1,n+1):\n",
    "        print(i)\n",
    "    for i in range (1,n+1):\n",
    "        print(i, end = '')"
   ]
  },
  {
   "cell_type": "markdown",
   "id": "f91b6656",
   "metadata": {},
   "source": [
    "### Find 2nd largest number in a list"
   ]
  },
  {
   "cell_type": "code",
   "execution_count": 79,
   "id": "da474e55",
   "metadata": {},
   "outputs": [
    {
     "name": "stdout",
     "output_type": "stream",
     "text": [
      "[1, 2, 5, 9]\n"
     ]
    }
   ],
   "source": [
    "lst = [5, 2, 9, 1, 5]\n",
    "\n",
    "sort_lst = sorted(set(lst))\n",
    "\n",
    "print(sort_lst)"
   ]
  },
  {
   "cell_type": "code",
   "execution_count": 83,
   "id": "ba29b1f4",
   "metadata": {},
   "outputs": [
    {
     "data": {
      "text/plain": [
       "9"
      ]
     },
     "execution_count": 83,
     "metadata": {},
     "output_type": "execute_result"
    }
   ],
   "source": [
    "#largest number\n",
    "sort_lst[-1]"
   ]
  },
  {
   "cell_type": "code",
   "execution_count": 84,
   "id": "114b96f4",
   "metadata": {},
   "outputs": [
    {
     "data": {
      "text/plain": [
       "5"
      ]
     },
     "execution_count": 84,
     "metadata": {},
     "output_type": "execute_result"
    }
   ],
   "source": [
    "#second largest number\n",
    "sort_lst[-2]"
   ]
  },
  {
   "cell_type": "markdown",
   "id": "04a8a1e4",
   "metadata": {},
   "source": [
    "## 1. Leetcode: Two Sum"
   ]
  },
  {
   "cell_type": "markdown",
   "id": "fd91c676",
   "metadata": {},
   "source": [
    "Given an array of integers nums and an integer target, return indices of the two numbers such that they add up to target.\n",
    "\n",
    "You may assume that each input would have exactly one solution, and you may not use the same element twice.\n",
    "\n",
    "You can return the answer in any order.\n",
    "\n",
    " \n",
    "\n",
    "Example 1:\n",
    "\n",
    "Input: nums = [2,7,11,15], target = 9\n",
    "Output: [0,1]\n",
    "Explanation: Because nums[0] + nums[1] == 9, we return [0, 1]."
   ]
  },
  {
   "cell_type": "markdown",
   "id": "61b6517e",
   "metadata": {},
   "source": [
    "### NOTE we will check addition of two distinct list elements, not two consecutive"
   ]
  },
  {
   "cell_type": "code",
   "execution_count": null,
   "id": "f18e4265",
   "metadata": {},
   "outputs": [
    {
     "name": "stdout",
     "output_type": "stream",
     "text": [
      "2, 7, 11, 15\n",
      "9\n",
      "[0, 1]\n"
     ]
    }
   ],
   "source": [
    "list1 = [int(x) for x in input().split(',')]\n",
    "Target = int(input())\n",
    "\n",
    "def TwoSum(list1, Target):\n",
    "    ListPos = []\n",
    "    \n",
    "    for i in range(len(list1)):\n",
    "        for j in range(i+1, len(list1)):\n",
    "            if list1[i] + list1[j] == Target:\n",
    "                ListPos.append(i)\n",
    "                ListPos.append(j)\n",
    "                return ListPos\n",
    "\n",
    "result = TwoSum(list1, Target)\n",
    "print(result)\n"
   ]
  },
  {
   "cell_type": "markdown",
   "id": "3d8e3a3f",
   "metadata": {},
   "source": [
    "### Take user input a python list of string character element and print the list. Use List Comprehension"
   ]
  },
  {
   "cell_type": "code",
   "execution_count": null,
   "id": "f915e032",
   "metadata": {},
   "outputs": [
    {
     "name": "stdout",
     "output_type": "stream",
     "text": [
      "goku vegeta trunks\n",
      "['goku', 'vegeta', 'trunks']\n"
     ]
    }
   ],
   "source": [
    "char_list = [c for c in input().split()]\n",
    "print(char_list)"
   ]
  },
  {
   "cell_type": "code",
   "execution_count": null,
   "id": "16f520bb",
   "metadata": {},
   "outputs": [
    {
     "name": "stdout",
     "output_type": "stream",
     "text": [
      "[4, 5, 6, 7, 8]\n"
     ]
    }
   ],
   "source": [
    "n = int(input())\n",
    "lst = [int(x) for x in input().split()][:n]\n",
    "print(lst)"
   ]
  },
  {
   "cell_type": "markdown",
   "id": "aa318f87",
   "metadata": {},
   "source": [
    "### Check the second character is a substring of first character. If yes then output the second character."
   ]
  },
  {
   "cell_type": "code",
   "execution_count": null,
   "id": "6e2cf41c",
   "metadata": {},
   "outputs": [
    {
     "name": "stdout",
     "output_type": "stream",
     "text": [
      "goku ku\n",
      "ku\n"
     ]
    }
   ],
   "source": [
    "char_list = [c for c in input().split()]\n",
    "if char_list[1] in char_list[0]:\n",
    "    print(char_list[1])\n",
    "else:\n",
    "    print(\"The second character is not a substring of the first character.\")"
   ]
  },
  {
   "cell_type": "markdown",
   "id": "04b29630",
   "metadata": {},
   "source": [
    "## 2. Leetcode: String Matching in an Array"
   ]
  },
  {
   "cell_type": "markdown",
   "id": "7f52145d",
   "metadata": {},
   "source": [
    "Given an array of string words, return all strings in words that is a substring of another word. You can return the answer in any order.\n",
    "\n",
    "A substring is a contiguous sequence of characters within a string\n",
    "\n",
    " \n",
    "\n",
    "Example 1:\n",
    "\n",
    "Input: words = [\"mass\",\"as\",\"hero\",\"superhero\"]\n",
    "\n",
    "Output: [\"as\",\"hero\"]\n",
    "\n",
    "Explanation: \"as\" is substring of \"mass\" and \"hero\" is substring of \"superhero\".\n",
    "[\"hero\",\"as\"] is also a valid answer."
   ]
  },
  {
   "cell_type": "markdown",
   "id": "8ad7c805",
   "metadata": {},
   "source": [
    "### We have to iterate through each word in the array and check if it is a substring of any other word in the array."
   ]
  },
  {
   "cell_type": "code",
   "execution_count": null,
   "id": "f292172b",
   "metadata": {},
   "outputs": [
    {
     "name": "stdout",
     "output_type": "stream",
     "text": [
      "leetcode et code\n",
      "{'et', 'code'}\n"
     ]
    }
   ],
   "source": [
    "char_list = [c for c in input().split()]\n",
    "result = []\n",
    "\n",
    "def chksubstr(char_list):\n",
    "    \n",
    "    for i in range (len(char_list)):\n",
    "        for j in range (len(char_list)):\n",
    "            if i != j and char_list[i] in char_list[j]:\n",
    "                result.append(char_list[i])\n",
    "                \n",
    "    return result\n",
    "\n",
    "result = chksubstr(char_list)\n",
    "print(set(result))"
   ]
  },
  {
   "cell_type": "markdown",
   "id": "1be0b42f",
   "metadata": {},
   "source": [
    "## List[] vs Tuple()"
   ]
  },
  {
   "cell_type": "code",
   "execution_count": null,
   "id": "a4851de0",
   "metadata": {},
   "outputs": [
    {
     "name": "stdout",
     "output_type": "stream",
     "text": [
      "[2, 3, 4, 5]\n",
      "[2, 9, 4, 5]\n"
     ]
    }
   ],
   "source": [
    "#Lists are mutable\n",
    "\n",
    "list1 = [2, 3, 4, 5]\n",
    "\n",
    "print(list1)\n",
    "\n",
    "list1[1] = 9\n",
    "\n",
    "print(list1)"
   ]
  },
  {
   "cell_type": "code",
   "execution_count": null,
   "id": "a98e4262",
   "metadata": {},
   "outputs": [
    {
     "name": "stdout",
     "output_type": "stream",
     "text": [
      "['alfa', 'beta', 'charlie', 'delta']\n",
      "['alfa', 'beta', 'charlie', 'delta', 'echo']\n"
     ]
    }
   ],
   "source": [
    "#Lists are appendable/ mutable\n",
    "\n",
    "list1 = ['alfa', 'beta', 'charlie', 'delta']\n",
    "\n",
    "print(list1)\n",
    "\n",
    "list1.append('echo')\n",
    "\n",
    "print(list1)"
   ]
  },
  {
   "cell_type": "code",
   "execution_count": null,
   "id": "abba5eee",
   "metadata": {},
   "outputs": [
    {
     "name": "stdout",
     "output_type": "stream",
     "text": [
      "('summer', 'spring', 'winter', 'fall')\n"
     ]
    },
    {
     "ename": "TypeError",
     "evalue": "'tuple' object does not support item assignment",
     "output_type": "error",
     "traceback": [
      "\u001b[0;31m---------------------------------------------------------------------------\u001b[0m",
      "\u001b[0;31mTypeError\u001b[0m                                 Traceback (most recent call last)",
      "Cell \u001b[0;32mIn[6], line 7\u001b[0m\n\u001b[1;32m      3\u001b[0m tuple1 \u001b[38;5;241m=\u001b[39m (\u001b[38;5;124m'\u001b[39m\u001b[38;5;124msummer\u001b[39m\u001b[38;5;124m'\u001b[39m, \u001b[38;5;124m'\u001b[39m\u001b[38;5;124mspring\u001b[39m\u001b[38;5;124m'\u001b[39m, \u001b[38;5;124m'\u001b[39m\u001b[38;5;124mwinter\u001b[39m\u001b[38;5;124m'\u001b[39m, \u001b[38;5;124m'\u001b[39m\u001b[38;5;124mfall\u001b[39m\u001b[38;5;124m'\u001b[39m)\n\u001b[1;32m      5\u001b[0m \u001b[38;5;28mprint\u001b[39m(tuple1)\n\u001b[0;32m----> 7\u001b[0m tuple1[\u001b[38;5;241m1\u001b[39m] \u001b[38;5;241m=\u001b[39m \u001b[38;5;124m'\u001b[39m\u001b[38;5;124mmonsoon\u001b[39m\u001b[38;5;124m'\u001b[39m\n\u001b[1;32m      9\u001b[0m \u001b[38;5;28mprint\u001b[39m(tuple1)\n",
      "\u001b[0;31mTypeError\u001b[0m: 'tuple' object does not support item assignment"
     ]
    }
   ],
   "source": [
    "# Tuples are immutable\n",
    "\n",
    "tuple1 = ('summer', 'spring', 'winter', 'fall')\n",
    "\n",
    "print(tuple1)\n",
    "\n",
    "tuple1[1] = 'monsoon'\n",
    "\n",
    "print(tuple1)"
   ]
  },
  {
   "cell_type": "code",
   "execution_count": null,
   "id": "bb697783",
   "metadata": {},
   "outputs": [
    {
     "name": "stdout",
     "output_type": "stream",
     "text": [
      "('a', 'b', 'c', 1, 2, 3)\n"
     ]
    }
   ],
   "source": [
    "# we can join tuple but cannot modify\n",
    " \n",
    "tuple1 = (\"a\", \"b\" , \"c\")\n",
    "tuple2 = (1, 2, 3)\n",
    "\n",
    "tuple3 = tuple1 + tuple2\n",
    "print(tuple3)"
   ]
  },
  {
   "cell_type": "markdown",
   "id": "7e2c0e5b",
   "metadata": {},
   "source": [
    "## Exception Handling"
   ]
  },
  {
   "cell_type": "code",
   "execution_count": null,
   "id": "f58cb50c",
   "metadata": {},
   "outputs": [
    {
     "name": "stdout",
     "output_type": "stream",
     "text": [
      "Not a valid Number\n"
     ]
    }
   ],
   "source": [
    "# Check age is 18 + or not\n",
    "\n",
    "\n",
    "try:\n",
    "    age = int(input(\"Enter your age: \"))\n",
    "    if age < 0:\n",
    "        print('Number is negative')\n",
    "    elif age >= 18:\n",
    "        print('Age is 18 or older')\n",
    "    else:\n",
    "        print('Age is less than 18')\n",
    "except ValueError:\n",
    "    print('Not a valid Number')\n"
   ]
  },
  {
   "cell_type": "markdown",
   "id": "38991d26",
   "metadata": {},
   "source": [
    "### Factorial - Recursion"
   ]
  },
  {
   "cell_type": "code",
   "execution_count": 23,
   "id": "637b67f3",
   "metadata": {},
   "outputs": [
    {
     "name": "stdout",
     "output_type": "stream",
     "text": [
      "6\n"
     ]
    }
   ],
   "source": [
    "def fac(x):\n",
    "    \n",
    "    if x == 0:\n",
    "        return 1\n",
    "    \n",
    "    return x * fac(x-1)\n",
    "\n",
    "print(fac(3))"
   ]
  },
  {
   "cell_type": "markdown",
   "id": "6dba4ba4",
   "metadata": {},
   "source": [
    "### Fibonacci Number - Recursion"
   ]
  },
  {
   "cell_type": "markdown",
   "id": "c2a02d2b",
   "metadata": {},
   "source": [
    "F(0) = 0, F(1) = 1, F(2) = F(0) + F(1)"
   ]
  },
  {
   "cell_type": "code",
   "execution_count": null,
   "id": "16c1fe83",
   "metadata": {},
   "outputs": [
    {
     "name": "stdout",
     "output_type": "stream",
     "text": [
      "1\n",
      "1\n",
      "2\n",
      "3\n",
      "5\n",
      "8\n",
      "13\n",
      "21\n",
      "34\n",
      "55\n"
     ]
    }
   ],
   "source": [
    "def fib(n):\n",
    "    if n == 1:\n",
    "        value = 1\n",
    "    elif n == 2:\n",
    "        value = 1\n",
    "    elif n > 2:\n",
    "        value = fib(n-2) + fib(n-1)\n",
    "\n",
    "    return value\n",
    "\n",
    "for n in range (1,11):\n",
    "    print(fib(n))"
   ]
  },
  {
   "cell_type": "markdown",
   "id": "12b6178c",
   "metadata": {},
   "source": [
    "### Dictionary"
   ]
  },
  {
   "cell_type": "code",
   "execution_count": 14,
   "id": "8cf49b7a",
   "metadata": {},
   "outputs": [
    {
     "name": "stdout",
     "output_type": "stream",
     "text": [
      "{'name': 'John', 'age': 25, 'courses': ['Math', 'CS']}\n"
     ]
    }
   ],
   "source": [
    "# define dictionary\n",
    "\n",
    "student = {'name': 'John',\n",
    "           'age': 25,\n",
    "           'courses': ['Math', 'CS']\n",
    "           }\n",
    "\n",
    "print(student)"
   ]
  },
  {
   "cell_type": "code",
   "execution_count": 16,
   "id": "a68b87df",
   "metadata": {},
   "outputs": [
    {
     "name": "stdout",
     "output_type": "stream",
     "text": [
      "John\n"
     ]
    }
   ],
   "source": [
    "#printing with key\n",
    "\n",
    "print(student['name'])"
   ]
  },
  {
   "cell_type": "code",
   "execution_count": 17,
   "id": "8bc46f16",
   "metadata": {},
   "outputs": [
    {
     "name": "stdout",
     "output_type": "stream",
     "text": [
      "John\n"
     ]
    }
   ],
   "source": [
    "# get()\n",
    "\n",
    "print(student.get('name'))"
   ]
  },
  {
   "cell_type": "code",
   "execution_count": 18,
   "id": "e0ed0260",
   "metadata": {},
   "outputs": [
    {
     "name": "stdout",
     "output_type": "stream",
     "text": [
      "None\n"
     ]
    }
   ],
   "source": [
    "#phone key is not present\n",
    "print(student.get('phone'))"
   ]
  },
  {
   "cell_type": "code",
   "execution_count": 19,
   "id": "16bbfe41",
   "metadata": {},
   "outputs": [
    {
     "name": "stdout",
     "output_type": "stream",
     "text": [
      "Not Found\n"
     ]
    }
   ],
   "source": [
    "#adding a default value if key is not present\n",
    "print(student.get('phone', 'Not Found'))"
   ]
  },
  {
   "cell_type": "code",
   "execution_count": 20,
   "id": "b5eff799",
   "metadata": {},
   "outputs": [
    {
     "name": "stdout",
     "output_type": "stream",
     "text": [
      "{'name': 'John Wick', 'age': 25, 'courses': ['Math', 'CS'], 'phone': '555-555-5555'}\n"
     ]
    }
   ],
   "source": [
    "# Update and add a new key-value to a dictionary\n",
    "#update()\n",
    "\n",
    "student.update({'name': 'John Wick', 'phone': '555-555-5555'})\n",
    "print(student)"
   ]
  },
  {
   "cell_type": "code",
   "execution_count": 38,
   "id": "9d6c913d",
   "metadata": {},
   "outputs": [
    {
     "name": "stdout",
     "output_type": "stream",
     "text": [
      "dict_keys(['name', 'age', 'courses', 'phone'])\n"
     ]
    }
   ],
   "source": [
    "#keys\n",
    "print(student.keys())"
   ]
  },
  {
   "cell_type": "code",
   "execution_count": 39,
   "id": "56bd5de7",
   "metadata": {},
   "outputs": [
    {
     "name": "stdout",
     "output_type": "stream",
     "text": [
      "dict_values(['John Wick', 25, ['Math', 'CS'], '555-555-5555'])\n"
     ]
    }
   ],
   "source": [
    "#values\n",
    "print(student.values())"
   ]
  },
  {
   "cell_type": "code",
   "execution_count": 40,
   "id": "166e31f3",
   "metadata": {},
   "outputs": [
    {
     "name": "stdout",
     "output_type": "stream",
     "text": [
      "dict_items([('name', 'John Wick'), ('age', 25), ('courses', ['Math', 'CS']), ('phone', '555-555-5555')])\n"
     ]
    }
   ],
   "source": [
    "#keys and values\n",
    "print(student.items())"
   ]
  },
  {
   "cell_type": "code",
   "execution_count": 41,
   "id": "deb13d6f",
   "metadata": {},
   "outputs": [
    {
     "name": "stdout",
     "output_type": "stream",
     "text": [
      "name\n",
      "age\n",
      "courses\n",
      "phone\n"
     ]
    }
   ],
   "source": [
    "for key in student:\n",
    "    print(key)"
   ]
  },
  {
   "cell_type": "code",
   "execution_count": 43,
   "id": "095c7890",
   "metadata": {},
   "outputs": [
    {
     "name": "stdout",
     "output_type": "stream",
     "text": [
      "name John Wick\n",
      "age 25\n",
      "courses ['Math', 'CS']\n",
      "phone 555-555-5555\n"
     ]
    }
   ],
   "source": [
    "for key, value in student.items():\n",
    "    print(key, value)"
   ]
  },
  {
   "cell_type": "markdown",
   "id": "348cf06d",
   "metadata": {},
   "source": [
    "### Hackerrank Basic Data Type - Lists"
   ]
  },
  {
   "cell_type": "markdown",
   "id": "1e49b9ea",
   "metadata": {},
   "source": [
    "Consider a list (list = []). You can perform the following commands:\n",
    "\n",
    "1. insert i e: Insert integer  at position .\n",
    "2. print: Print the list.\n",
    "3. remove e: Delete the first occurrence of integer .\n",
    "4. append e: Insert integer  at the end of the list.\n",
    "5. sort: Sort the list.\n",
    "6. pop: Pop the last element from the list.\n",
    "7. reverse: Reverse the list.\n",
    "Initialize your list and read in the value of  followed by  lines of commands where each command will be of the  types listed above. Iterate through each command in order and perform the corresponding operation on your list.\n",
    "\n",
    "Example usage:\n",
    "\n",
    "N = 4\n",
    "\n",
    "append 1\n",
    "\n",
    "append 2\n",
    "\n",
    "insert 3 1\n",
    "\n",
    "print"
   ]
  },
  {
   "cell_type": "code",
   "execution_count": 53,
   "id": "a1d1d875",
   "metadata": {},
   "outputs": [
    {
     "name": "stdout",
     "output_type": "stream",
     "text": [
      "[1, 2, 99]\n"
     ]
    }
   ],
   "source": [
    "if __name__ == '__main__':\n",
    "    N = int(input()) #number of input\n",
    "    lst = [] #initialize a list\n",
    "    \n",
    "    for _ in range(N):\n",
    "        command = input().split()\n",
    "        \n",
    "        #defining operations\n",
    "        if command[0] == 'insert':\n",
    "            lst.insert(int(command[1]), int(command[2]))\n",
    "        if command[0] == 'print':\n",
    "            print(lst)\n",
    "        if command[0] == 'remove':\n",
    "            lst.remove(int(command[1]))\n",
    "        if command[0] == 'append':\n",
    "            lst.append(int(command[1]))\n",
    "        if command[0] == 'sort':\n",
    "            lst.sort()\n",
    "        if command[0] == 'pop':\n",
    "            lst.pop()\n",
    "        if command[0] == 'reverse':\n",
    "            lst.reverse()"
   ]
  },
  {
   "cell_type": "markdown",
   "id": "345a6345",
   "metadata": {},
   "source": [
    "### Boolean"
   ]
  },
  {
   "cell_type": "code",
   "execution_count": 54,
   "id": "0ae3cfe8",
   "metadata": {},
   "outputs": [
    {
     "data": {
      "text/plain": [
       "False"
      ]
     },
     "execution_count": 54,
     "metadata": {},
     "output_type": "execute_result"
    }
   ],
   "source": [
    "a = 3\n",
    "b = 5\n",
    "a == b"
   ]
  },
  {
   "cell_type": "code",
   "execution_count": 55,
   "id": "a11eb9f5",
   "metadata": {},
   "outputs": [
    {
     "data": {
      "text/plain": [
       "bool"
      ]
     },
     "execution_count": 55,
     "metadata": {},
     "output_type": "execute_result"
    }
   ],
   "source": [
    "type(True)"
   ]
  },
  {
   "cell_type": "code",
   "execution_count": 58,
   "id": "9f100634",
   "metadata": {},
   "outputs": [
    {
     "data": {
      "text/plain": [
       "False"
      ]
     },
     "execution_count": 58,
     "metadata": {},
     "output_type": "execute_result"
    }
   ],
   "source": [
    "#Empty string and 0 is converted to False\n",
    "bool(0)\n"
   ]
  },
  {
   "cell_type": "code",
   "execution_count": 59,
   "id": "42247ef3",
   "metadata": {},
   "outputs": [
    {
     "data": {
      "text/plain": [
       "False"
      ]
     },
     "execution_count": 59,
     "metadata": {},
     "output_type": "execute_result"
    }
   ],
   "source": [
    "bool(\"\")"
   ]
  }
 ],
 "metadata": {
  "kernelspec": {
   "display_name": "base",
   "language": "python",
   "name": "python3"
  },
  "language_info": {
   "codemirror_mode": {
    "name": "ipython",
    "version": 3
   },
   "file_extension": ".py",
   "mimetype": "text/x-python",
   "name": "python",
   "nbconvert_exporter": "python",
   "pygments_lexer": "ipython3",
   "version": "3.11.5"
  }
 },
 "nbformat": 4,
 "nbformat_minor": 5
}
