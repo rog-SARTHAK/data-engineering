{
 "cells": [
  {
   "cell_type": "markdown",
   "id": "526f12bd",
   "metadata": {},
   "source": [
    "<div class=\"alert alert-block alert-success\">\n",
    "\n",
    "# Python\n",
    "\n",
    "- String\n",
    "- List"
   ]
  },
  {
   "cell_type": "code",
   "execution_count": 5,
   "id": "efbd18d2",
   "metadata": {},
   "outputs": [
    {
     "name": "stdout",
     "output_type": "stream",
     "text": [
      "This notebook is\n",
      "for string revision\n"
     ]
    }
   ],
   "source": [
    "print ('''\\\n",
    "This notebook is\n",
    "for string revision\\\n",
    "''')"
   ]
  },
  {
   "cell_type": "code",
   "execution_count": 6,
   "id": "856ad10d",
   "metadata": {},
   "outputs": [
    {
     "name": "stdout",
     "output_type": "stream",
     "text": [
      "['Java', 'Python', 'Java']\n"
     ]
    }
   ],
   "source": [
    "languages = [\"Python\", \"Java\"]\n",
    "languages = [\"Java\"] + languages #appending list\n",
    "print(languages)"
   ]
  },
  {
   "cell_type": "markdown",
   "id": "a984e202",
   "metadata": {},
   "source": [
    "The .join() method is used to concatenate (join) a sequence of strings, lists, or other iterable objects into a single string."
   ]
  },
  {
   "cell_type": "code",
   "execution_count": 8,
   "id": "c06b5990",
   "metadata": {},
   "outputs": [
    {
     "data": {
      "text/plain": [
       "'some data in a list'"
      ]
     },
     "execution_count": 8,
     "metadata": {},
     "output_type": "execute_result"
    }
   ],
   "source": [
    "#List elements can be joined to create a long string or sentence\n",
    "' '.join(['some','data','in','a','list'])"
   ]
  },
  {
   "cell_type": "code",
   "execution_count": 12,
   "id": "f5f5c01f",
   "metadata": {},
   "outputs": [
    {
     "name": "stdout",
     "output_type": "stream",
     "text": [
      "apple-banana-cherry\n"
     ]
    }
   ],
   "source": [
    "my_list = [\"apple\", \"banana\", \"cherry\"]\n",
    "result = '-'.join(my_list)\n",
    "print(result)"
   ]
  },
  {
   "cell_type": "markdown",
   "id": "c1970a9f",
   "metadata": {},
   "source": [
    "The .split() method is used to split a string into a list of substrings based on a specified delimiter."
   ]
  },
  {
   "cell_type": "code",
   "execution_count": 9,
   "id": "2b5d7e93",
   "metadata": {},
   "outputs": [
    {
     "data": {
      "text/plain": [
       "['Hi,', 'my', 'name', 'is', 'Sar.']"
      ]
     },
     "execution_count": 9,
     "metadata": {},
     "output_type": "execute_result"
    }
   ],
   "source": [
    "#We can split the different pieces of a string into a list using the .split()\n",
    "s = 'Hi, my name is Sar.'\n",
    "s.split()"
   ]
  },
  {
   "cell_type": "code",
   "execution_count": 10,
   "id": "79f9526e",
   "metadata": {},
   "outputs": [
    {
     "data": {
      "text/plain": [
       "['Hi', ' my name is Sar.']"
      ]
     },
     "execution_count": 10,
     "metadata": {},
     "output_type": "execute_result"
    }
   ],
   "source": [
    "s.split(',')"
   ]
  },
  {
   "cell_type": "code",
   "execution_count": 11,
   "id": "c02e11e3",
   "metadata": {},
   "outputs": [
    {
     "name": "stdout",
     "output_type": "stream",
     "text": [
      "This,is,a,string,with,extra,spaces\n"
     ]
    }
   ],
   "source": [
    "s = \"   This   is  a  string   with   extra   spaces   \"\n",
    "result = ','.join(s.split())\n",
    "print(result)"
   ]
  },
  {
   "cell_type": "code",
   "execution_count": 13,
   "id": "f5e0130f",
   "metadata": {},
   "outputs": [
    {
     "name": "stdout",
     "output_type": "stream",
     "text": [
      "Sunday\n",
      "Monday\n",
      "Tuesday\n",
      "Wednesday\n",
      "Thursday\n",
      "Friday\n",
      "Saturday\n"
     ]
    }
   ],
   "source": [
    "days = [\"Sunday\",\"Monday\",\"Tuesday\",\"Wednesday\",\"Thursday\",\"Friday\",\"Saturday\"]\n",
    "for d in days:\n",
    "    print(d)"
   ]
  },
  {
   "cell_type": "code",
   "execution_count": 14,
   "id": "59639b41",
   "metadata": {},
   "outputs": [
    {
     "name": "stdout",
     "output_type": "stream",
     "text": [
      "1 1\n",
      "1 2\n",
      "1 3\n",
      "1 4\n",
      "1 5\n",
      "1 6\n",
      "2 1\n",
      "2 2\n",
      "2 3\n",
      "2 4\n",
      "2 5\n",
      "2 6\n",
      "3 1\n",
      "3 2\n",
      "3 3\n",
      "3 4\n",
      "3 5\n",
      "3 6\n",
      "4 1\n",
      "4 2\n",
      "4 3\n",
      "4 4\n",
      "4 5\n",
      "4 6\n",
      "5 1\n",
      "5 2\n",
      "5 3\n",
      "5 4\n",
      "5 5\n",
      "5 6\n",
      "6 1\n",
      "6 2\n",
      "6 3\n",
      "6 4\n",
      "6 5\n",
      "6 6\n"
     ]
    }
   ],
   "source": [
    "for i in range(1,7):\n",
    "    for j in range(1,7):\n",
    "        print(i,j)"
   ]
  },
  {
   "cell_type": "markdown",
   "id": "8337bbf2",
   "metadata": {},
   "source": [
    "The map() function in Python is a built-in function that is used to apply a given function to every item of an iterable (such as a list, tuple, or string) and returns an iterable map object."
   ]
  },
  {
   "cell_type": "code",
   "execution_count": 18,
   "id": "5e5cfccc",
   "metadata": {},
   "outputs": [
    {
     "name": "stdout",
     "output_type": "stream",
     "text": [
      "[1, 4, 9, 16, 25]\n"
     ]
    }
   ],
   "source": [
    "def square(x):\n",
    "    return x * x\n",
    "\n",
    "numbers = [1, 2, 3, 4, 5]\n",
    "squared_numbers = map(square, numbers)\n",
    "\n",
    "# To get the result as a list, convert the map object to a list\n",
    "squared_numbers_list = list(squared_numbers)\n",
    "\n",
    "print(squared_numbers_list)\n"
   ]
  },
  {
   "cell_type": "code",
   "execution_count": 17,
   "id": "acae3b36",
   "metadata": {},
   "outputs": [
    {
     "name": "stdout",
     "output_type": "stream",
     "text": [
      "[1, 4, 9, 16, 25]\n"
     ]
    }
   ],
   "source": [
    "list1 = [1, 2, 3, 4, 5]\n",
    "\n",
    "sq = list(map(lambda x: x**2, list1))\n",
    "\n",
    "print(sq)"
   ]
  },
  {
   "cell_type": "code",
   "execution_count": 20,
   "id": "b53c99e1",
   "metadata": {},
   "outputs": [
    {
     "name": "stdout",
     "output_type": "stream",
     "text": [
      "[1, 4, 9, 16, 25]\n"
     ]
    }
   ],
   "source": [
    "list1 = [1, 2, 3, 4, 5]\n",
    "\n",
    "sq = list(map(lambda x: pow(x,2), list1))\n",
    "\n",
    "print(sq)"
   ]
  },
  {
   "cell_type": "markdown",
   "id": "b49e7bb5",
   "metadata": {},
   "source": [
    "### Take user input a python list of integer element and print the list"
   ]
  },
  {
   "cell_type": "code",
   "execution_count": 5,
   "id": "c6aeff3d",
   "metadata": {},
   "outputs": [
    {
     "name": "stdout",
     "output_type": "stream",
     "text": [
      "4 5 1\n",
      "[4, 5, 1]\n"
     ]
    }
   ],
   "source": [
    "list1 = [int(x) for x in input().split()]\n",
    "print(list1)"
   ]
  },
  {
   "cell_type": "markdown",
   "id": "acd8a2e1",
   "metadata": {},
   "source": [
    "### Take user input a python list of integer element with comma delimiter and print the list"
   ]
  },
  {
   "cell_type": "code",
   "execution_count": 15,
   "id": "c93f1c88",
   "metadata": {},
   "outputs": [
    {
     "name": "stdout",
     "output_type": "stream",
     "text": [
      "4, 5, 1\n",
      "[4, 5, 1]\n"
     ]
    }
   ],
   "source": [
    "list1 = [int(x) for x in input().split(',')]\n",
    "print(list1)"
   ]
  },
  {
   "cell_type": "markdown",
   "id": "05d6fb75",
   "metadata": {},
   "source": [
    "### Print the positions of even numbers in a Python list"
   ]
  },
  {
   "cell_type": "code",
   "execution_count": 7,
   "id": "babe0c2b",
   "metadata": {},
   "outputs": [
    {
     "name": "stdout",
     "output_type": "stream",
     "text": [
      "3 4 5 6 8\n",
      "[1, 3, 4]\n"
     ]
    }
   ],
   "source": [
    "\n",
    "\n",
    "list1 = [int(x) for x in input().split()]\n",
    "\n",
    "def checkEven(list1):\n",
    "    even_positions = []\n",
    "    for i in range(len(list1)):\n",
    "        if list1[i] % 2 == 0:\n",
    "            even_positions.append(i)\n",
    "    return even_positions\n",
    "\n",
    "result = checkEven(list1)\n",
    "print(result)\n"
   ]
  },
  {
   "cell_type": "markdown",
   "id": "00166f15",
   "metadata": {},
   "source": [
    "### Add iteratively two consecutive elements (not distinct elements) of a python list and print the list"
   ]
  },
  {
   "cell_type": "code",
   "execution_count": 11,
   "id": "7d8ce7da",
   "metadata": {},
   "outputs": [
    {
     "name": "stdout",
     "output_type": "stream",
     "text": [
      "3 4 5 6 7 8\n",
      "[7, 9, 11, 13, 15]\n"
     ]
    }
   ],
   "source": [
    "\n",
    "list1 = [int(x) for x in input().split()]\n",
    "\n",
    "def addTwoItem(list1):\n",
    "    sumList = []\n",
    "    for i in range(len(list1)-1):\n",
    "        \n",
    "        sumList.append(list1[i]+list1[i+1])\n",
    "    return sumList\n",
    "\n",
    "result = addTwoItem(list1)\n",
    "print(result)"
   ]
  },
  {
   "cell_type": "markdown",
   "id": "04a8a1e4",
   "metadata": {},
   "source": [
    "## Leetcode: Two Sum"
   ]
  },
  {
   "cell_type": "markdown",
   "id": "fd91c676",
   "metadata": {},
   "source": [
    "Given an array of integers nums and an integer target, return indices of the two numbers such that they add up to target.\n",
    "\n",
    "You may assume that each input would have exactly one solution, and you may not use the same element twice.\n",
    "\n",
    "You can return the answer in any order.\n",
    "\n",
    " \n",
    "\n",
    "Example 1:\n",
    "\n",
    "Input: nums = [2,7,11,15], target = 9\n",
    "Output: [0,1]\n",
    "Explanation: Because nums[0] + nums[1] == 9, we return [0, 1]."
   ]
  },
  {
   "cell_type": "markdown",
   "id": "61b6517e",
   "metadata": {},
   "source": [
    "### NOTE we will check addition of two distinct list elements, not two consecutive"
   ]
  },
  {
   "cell_type": "code",
   "execution_count": 16,
   "id": "f18e4265",
   "metadata": {},
   "outputs": [
    {
     "name": "stdout",
     "output_type": "stream",
     "text": [
      "2, 7, 11, 15\n",
      "9\n",
      "[0, 1]\n"
     ]
    }
   ],
   "source": [
    "list1 = [int(x) for x in input().split(',')]\n",
    "Target = int(input())\n",
    "\n",
    "def TwoSum(list1, Target):\n",
    "    ListPos = []\n",
    "    \n",
    "    for i in range(len(list1)):\n",
    "        for j in range(i+1, len(list1)):\n",
    "            if list1[i] + list1[j] == Target:\n",
    "                ListPos.append(i)\n",
    "                ListPos.append(j)\n",
    "                return ListPos\n",
    "\n",
    "result = TwoSum(list1, Target)\n",
    "print(result)\n"
   ]
  },
  {
   "cell_type": "code",
   "execution_count": null,
   "id": "f915e032",
   "metadata": {},
   "outputs": [],
   "source": []
  },
  {
   "cell_type": "code",
   "execution_count": null,
   "id": "533e1088",
   "metadata": {},
   "outputs": [],
   "source": []
  }
 ],
 "metadata": {
  "kernelspec": {
   "display_name": "Python 3 (ipykernel)",
   "language": "python",
   "name": "python3"
  },
  "language_info": {
   "codemirror_mode": {
    "name": "ipython",
    "version": 3
   },
   "file_extension": ".py",
   "mimetype": "text/x-python",
   "name": "python",
   "nbconvert_exporter": "python",
   "pygments_lexer": "ipython3",
   "version": "3.11.4"
  }
 },
 "nbformat": 4,
 "nbformat_minor": 5
}
