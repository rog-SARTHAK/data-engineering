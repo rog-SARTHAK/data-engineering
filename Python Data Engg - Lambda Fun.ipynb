{
 "cells": [
  {
   "cell_type": "markdown",
   "id": "a71b1e71",
   "metadata": {},
   "source": [
    "**Lambda Function**"
   ]
  },
  {
   "cell_type": "markdown",
   "id": "5d04cf2e",
   "metadata": {},
   "source": [
    "- It's an anonymous function defined without a name and without using a def keyword.\n",
    "- A lambda function can take any number of arguments but can only have one expression.\n",
    "- lambda arguments : expression"
   ]
  },
  {
   "cell_type": "markdown",
   "id": "e5b88133",
   "metadata": {},
   "source": [
    "*Pros*\n",
    "- Suitable for simple logical operations\n",
    "- Used when we only want one expression in return\n",
    "- Lambda function is used as a parameter to different functions such as map, filter etc."
   ]
  },
  {
   "cell_type": "markdown",
   "id": "7eb98fe3",
   "metadata": {},
   "source": [
    "*Cons*\n",
    "- Lambda function can only evaluate one expression\n",
    "- We can't write a doc-string to explain all inputs, operations and outputs as we would in a normal def function.\n",
    "- Not used when we have to declare a function with multiple lines of code."
   ]
  },
  {
   "cell_type": "code",
   "execution_count": 4,
   "id": "2a0e4f30",
   "metadata": {},
   "outputs": [
    {
     "name": "stdout",
     "output_type": "stream",
     "text": [
      "5\n"
     ]
    }
   ],
   "source": [
    "#Normal add function\n",
    "def add(a,b):\n",
    "    return a+b\n",
    "\n",
    "print(add(2,3)) #call function"
   ]
  },
  {
   "cell_type": "code",
   "execution_count": 3,
   "id": "7dd0b7f1",
   "metadata": {},
   "outputs": [
    {
     "name": "stdout",
     "output_type": "stream",
     "text": [
      "5\n"
     ]
    }
   ],
   "source": [
    "#addition using lambda function\n",
    "add = lambda a,b: a+b\n",
    "print(add(2,3)) #call function"
   ]
  },
  {
   "cell_type": "code",
   "execution_count": 11,
   "id": "5057bcfb",
   "metadata": {},
   "outputs": [
    {
     "name": "stdout",
     "output_type": "stream",
     "text": [
      "5\n"
     ]
    }
   ],
   "source": [
    "add = lambda a,b=2: a+b\n",
    "print(add(3))"
   ]
  },
  {
   "cell_type": "code",
   "execution_count": 6,
   "id": "4539fc91",
   "metadata": {},
   "outputs": [
    {
     "name": "stdout",
     "output_type": "stream",
     "text": [
      "8\n"
     ]
    }
   ],
   "source": [
    "cube = lambda a: a**3\n",
    "print(cube(2))"
   ]
  },
  {
   "cell_type": "code",
   "execution_count": 10,
   "id": "110fd0f6",
   "metadata": {},
   "outputs": [
    {
     "name": "stdout",
     "output_type": "stream",
     "text": [
      "12\n"
     ]
    }
   ],
   "source": [
    "product = lambda x, y, z: x*y*z\n",
    "print(product(z=3, x=2, y=2))"
   ]
  },
  {
   "cell_type": "code",
   "execution_count": 8,
   "id": "740cbb0b",
   "metadata": {},
   "outputs": [
    {
     "data": {
      "text/plain": [
       "6"
      ]
     },
     "execution_count": 8,
     "metadata": {},
     "output_type": "execute_result"
    }
   ],
   "source": [
    "#Immediately invoked function expression\n",
    "(lambda a, b: a*b)(2, 3)"
   ]
  },
  {
   "cell_type": "code",
   "execution_count": 12,
   "id": "feaeb52c",
   "metadata": {},
   "outputs": [
    {
     "name": "stdout",
     "output_type": "stream",
     "text": [
      "112\n"
     ]
    }
   ],
   "source": [
    "#to allow passing as many arguments\n",
    "addition = lambda * args : sum(args)\n",
    "print(addition(20, 2, 40, 50))"
   ]
  },
  {
   "cell_type": "code",
   "execution_count": 13,
   "id": "6ad2ae02",
   "metadata": {},
   "outputs": [
    {
     "data": {
      "text/plain": [
       "420"
      ]
     },
     "execution_count": 13,
     "metadata": {},
     "output_type": "execute_result"
    }
   ],
   "source": [
    "higher_ord_fun = lambda x, fun : x + fun(x)\n",
    "higher_ord_fun(20, lambda x: x*x)"
   ]
  },
  {
   "cell_type": "code",
   "execution_count": 14,
   "id": "939e0c72",
   "metadata": {},
   "outputs": [
    {
     "data": {
      "text/plain": [
       "'even'"
      ]
     },
     "execution_count": 14,
     "metadata": {},
     "output_type": "execute_result"
    }
   ],
   "source": [
    "(lambda x: (x % 2 and 'odd' or 'even'))(150)"
   ]
  },
  {
   "cell_type": "code",
   "execution_count": 15,
   "id": "60215258",
   "metadata": {},
   "outputs": [
    {
     "name": "stdout",
     "output_type": "stream",
     "text": [
      "True\n"
     ]
    }
   ],
   "source": [
    "#Looking for a substring in a string\n",
    "\n",
    "sub_string = lambda string : string in \"Python is more fun than Java\"\n",
    "print(sub_string('Java'))"
   ]
  },
  {
   "cell_type": "code",
   "execution_count": 3,
   "id": "f0652fe9",
   "metadata": {},
   "outputs": [
    {
     "name": "stdout",
     "output_type": "stream",
     "text": [
      "[40, 56, 33, 70]\n"
     ]
    }
   ],
   "source": [
    "#Filter from list the integers greater than 30\n",
    "\n",
    "num = [10, 40, 56, 27, 33, 15, 70]\n",
    "\n",
    "greater = list(filter(lambda num : num>30, num))\n",
    "\n",
    "print(greater)"
   ]
  },
  {
   "cell_type": "code",
   "execution_count": 4,
   "id": "3b3fd8b9",
   "metadata": {},
   "outputs": [
    {
     "name": "stdout",
     "output_type": "stream",
     "text": [
      "[40, 56]\n"
     ]
    }
   ],
   "source": [
    "#Filter from list the integers divisible by 4\n",
    "\n",
    "list1 = [10, 40, 56, 27, 33, 15, 70]\n",
    "\n",
    "divide = list(filter(lambda x: (x%4 == 0), list1))\n",
    "\n",
    "print(divide)"
   ]
  },
  {
   "cell_type": "markdown",
   "id": "d0d08a0e",
   "metadata": {},
   "source": [
    "The map() function in Python is a built-in function that is used to apply a given function to every item of an iterable (such as a list, tuple, or string) and returns an iterable map object."
   ]
  },
  {
   "cell_type": "code",
   "execution_count": 5,
   "id": "3fe9fdc0",
   "metadata": {},
   "outputs": [
    {
     "name": "stdout",
     "output_type": "stream",
     "text": [
      "[1, 4, 9, 16, 25]\n"
     ]
    }
   ],
   "source": [
    "# map with lambda\n",
    "\n",
    "list1 = [1, 2, 3, 4, 5]\n",
    "\n",
    "sq = list(map(lambda x: x**2, list1))\n",
    "\n",
    "print(sq)"
   ]
  },
  {
   "cell_type": "code",
   "execution_count": 6,
   "id": "fb92075c",
   "metadata": {},
   "outputs": [
    {
     "name": "stdout",
     "output_type": "stream",
     "text": [
      "[1, 4, 9, 16, 25]\n"
     ]
    }
   ],
   "source": [
    "list1 = [1, 2, 3, 4, 5]\n",
    "\n",
    "sq = list(map(lambda x: pow(x,2), list1))\n",
    "\n",
    "print(sq)"
   ]
  },
  {
   "cell_type": "markdown",
   "id": "e8fae763",
   "metadata": {},
   "source": [
    "reduce() is a built-in function from the functools module used to apply a specified function cumulatively to the items of an iterable (e.g., a list or tuple) from left to right, so as to reduce the iterable to a single accumulated result. The result is returned after applying the function to all elements in the iterable.\n",
    "\n",
    "functools.reduce(function, iterable, initializer=None)\n"
   ]
  },
  {
   "cell_type": "code",
   "execution_count": 7,
   "id": "c57e59f7",
   "metadata": {},
   "outputs": [
    {
     "name": "stdout",
     "output_type": "stream",
     "text": [
      "120\n"
     ]
    }
   ],
   "source": [
    "from functools import reduce\n",
    "\n",
    "numbers = [1, 2, 3, 4, 5]\n",
    "\n",
    "# Define a function to multiply two numbers\n",
    "def multiply(x, y):\n",
    "    return x * y\n",
    "\n",
    "# Use reduce to calculate the product of all elements in the list\n",
    "product = reduce(multiply, numbers)\n",
    "\n",
    "print(product)  # Output: 120 (1 * 2 * 3 * 4 * 5)"
   ]
  },
  {
   "cell_type": "code",
   "execution_count": 8,
   "id": "3fe924a4",
   "metadata": {},
   "outputs": [
    {
     "name": "stdout",
     "output_type": "stream",
     "text": [
      "15\n"
     ]
    }
   ],
   "source": [
    "from functools import reduce\n",
    "\n",
    "list1 = [1, 2, 3, 4, 5]\n",
    "sum = reduce((lambda x, y: x+y), list1)\n",
    "print(sum)"
   ]
  },
  {
   "cell_type": "code",
   "execution_count": 10,
   "id": "3a549a00",
   "metadata": {},
   "outputs": [
    {
     "data": {
      "text/plain": [
       "19"
      ]
     },
     "execution_count": 10,
     "metadata": {},
     "output_type": "execute_result"
    }
   ],
   "source": [
    "def quadratic(a, b, c):\n",
    "\n",
    "    return lambda x: a*x**2 + b*x + c\n",
    "\n",
    "f = quadratic(2, 3, 5)\n",
    "f(2)"
   ]
  },
  {
   "cell_type": "code",
   "execution_count": null,
   "id": "ac9e9b61",
   "metadata": {},
   "outputs": [],
   "source": []
  }
 ],
 "metadata": {
  "kernelspec": {
   "display_name": "Python 3 (ipykernel)",
   "language": "python",
   "name": "python3"
  },
  "language_info": {
   "codemirror_mode": {
    "name": "ipython",
    "version": 3
   },
   "file_extension": ".py",
   "mimetype": "text/x-python",
   "name": "python",
   "nbconvert_exporter": "python",
   "pygments_lexer": "ipython3",
   "version": "3.11.4"
  }
 },
 "nbformat": 4,
 "nbformat_minor": 5
}
