{
  "cells": [
    {
      "cell_type": "markdown",
      "source": [
        "# Stream Data Pipeline Exercise using Apache Kafka\n",
        "This Colab is used to learn Kafka to create an example project.\n",
        "\n",
        "### Goal: Create a Streaming Data Pipeline using Kafka\n",
        "\n",
        "### Steps:\n",
        "\n",
        "* **Step 1**: Create a Kafka Producer and Consumer to send and consume any sample data.\n",
        "  * Please note that creating this pipeline in the environment of Google Colab is not ideal, but we do this as an illustrative purpose based on the architecture we covered during the lecture.\n",
        "* **Step 2**: Fetch data from yfinance (i.e., Yahoo Finance) for one day and send the data from Producer and conume via Consumer.\n",
        "* **Step 3**: After consuming the data in Kafka Consumer, find the rolling average for analysis.\n",
        "* **Step 4**: Plot the data after finding the rolling average.\n",
        "\n"
      ],
      "metadata": {
        "id": "0CZstGrkBsq1"
      },
      "id": "0CZstGrkBsq1"
    },
    {
      "cell_type": "markdown",
      "metadata": {
        "id": "03bd7eeb"
      },
      "source": [
        "## Kafka Producer\n",
        "KafkaProducer is a high-level, asynchronous message producer."
      ],
      "id": "03bd7eeb"
    },
    {
      "cell_type": "code",
      "execution_count": null,
      "metadata": {
        "colab": {
          "base_uri": "https://localhost:8080/"
        },
        "id": "U5Q8Rt6-qQib",
        "outputId": "9876de7d-6ace-4466-cf11-b5fd06cfbc49"
      },
      "outputs": [
        {
          "output_type": "stream",
          "name": "stdout",
          "text": [
            "Collecting kafka-python\n",
            "  Downloading kafka_python-2.0.2-py2.py3-none-any.whl (246 kB)\n",
            "\u001b[2K     \u001b[90m━━━━━━━━━━━━━━━━━━━━━━━━━━━━━━━━━━━━━━━\u001b[0m \u001b[32m246.5/246.5 kB\u001b[0m \u001b[31m2.9 MB/s\u001b[0m eta \u001b[36m0:00:00\u001b[0m\n",
            "\u001b[?25hInstalling collected packages: kafka-python\n",
            "Successfully installed kafka-python-2.0.2\n"
          ]
        }
      ],
      "source": [
        "# Python client for the Apache Kafka distributed stream processing system.\n",
        "!pip3 install kafka-python"
      ],
      "id": "U5Q8Rt6-qQib"
    },
    {
      "cell_type": "code",
      "execution_count": null,
      "metadata": {
        "colab": {
          "base_uri": "https://localhost:8080/"
        },
        "id": "oAZZIMS2qmKD",
        "outputId": "e6880c84-7216-4f66-a23e-43c25867a001"
      },
      "outputs": [
        {
          "output_type": "stream",
          "name": "stdout",
          "text": [
            "Collecting avro\n",
            "  Downloading avro-1.11.3.tar.gz (90 kB)\n",
            "\u001b[2K     \u001b[90m━━━━━━━━━━━━━━━━━━━━━━━━━━━━━━━━━━━━━━━━\u001b[0m \u001b[32m90.6/90.6 kB\u001b[0m \u001b[31m2.1 MB/s\u001b[0m eta \u001b[36m0:00:00\u001b[0m\n",
            "\u001b[?25h  Installing build dependencies ... \u001b[?25l\u001b[?25hdone\n",
            "  Getting requirements to build wheel ... \u001b[?25l\u001b[?25hdone\n",
            "  Preparing metadata (pyproject.toml) ... \u001b[?25l\u001b[?25hdone\n",
            "Building wheels for collected packages: avro\n",
            "  Building wheel for avro (pyproject.toml) ... \u001b[?25l\u001b[?25hdone\n",
            "  Created wheel for avro: filename=avro-1.11.3-py2.py3-none-any.whl size=123912 sha256=51e8e6e8b63b9a8d570aee1ccf505cd13a59307cfe1f6c0d574e0d183a7efdf1\n",
            "  Stored in directory: /root/.cache/pip/wheels/1d/f6/41/0e0399396af07060e64d4e32c8bd259b48b98a4a114df31294\n",
            "Successfully built avro\n",
            "Installing collected packages: avro\n",
            "Successfully installed avro-1.11.3\n"
          ]
        }
      ],
      "source": [
        "# Avro is an open source project that provides data serialization\n",
        "# and data exchange services for Apache Hadoop. These services can be used together or independently.\n",
        "# Avro facilitates the exchange of big data between programs written in any language.\n",
        "# https://cwiki.apache.org/confluence/display/AVRO/Index\n",
        "!pip install avro"
      ],
      "id": "oAZZIMS2qmKD"
    },
    {
      "cell_type": "code",
      "execution_count": null,
      "metadata": {
        "id": "334c7b27"
      },
      "outputs": [],
      "source": [
        "import time\n",
        "import json\n",
        "import kafka\n",
        "from kafka import KafkaProducer\n",
        "from kafka.errors import KafkaError"
      ],
      "id": "334c7b27"
    },
    {
      "cell_type": "code",
      "execution_count": null,
      "metadata": {
        "id": "036a62f6"
      },
      "outputs": [],
      "source": [
        "import io\n",
        "import avro.schema\n",
        "from avro.io import DatumWriter"
      ],
      "id": "036a62f6"
    },
    {
      "cell_type": "code",
      "execution_count": null,
      "metadata": {
        "colab": {
          "base_uri": "https://localhost:8080/"
        },
        "id": "7IAmVl57r4Ip",
        "outputId": "26c280f2-df03-4c2d-b321-74bc854baac8"
      },
      "outputs": [
        {
          "output_type": "stream",
          "name": "stdout",
          "text": [
            "Mounted at /content/drive/\n"
          ]
        }
      ],
      "source": [
        "# the code below mounts your google drive to /content/drive folder\n",
        "# you might need to provide authorizations using your google account\n",
        "from google.colab import drive\n",
        "drive.mount('/content/drive/')"
      ],
      "id": "7IAmVl57r4Ip"
    },
    {
      "cell_type": "markdown",
      "source": [
        "Download the stock schema file from [here](https://drive.google.com/uc?export=download&id=19QGksQA7wFa3SZHAz1h4b3zzXFfLRHvg)."
      ],
      "metadata": {
        "id": "rRCBrosTFga-"
      },
      "id": "rRCBrosTFga-"
    },
    {
      "cell_type": "code",
      "execution_count": null,
      "metadata": {
        "colab": {
          "base_uri": "https://localhost:8080/",
          "height": 54
        },
        "id": "b48825fa",
        "outputId": "41fe1c58-6612-446d-d752-c8674dcfb47e"
      },
      "outputs": [
        {
          "output_type": "execute_result",
          "data": {
            "text/plain": [
              "'\\n{\\n\\t\"namespace\": \"stock_schema.avro\",\\n\\t\"type\": \"record\",\\n\\t\"name\": \"Stock\",\\n\\t\"fields\": [\\n\\t\\t{\"name\": \"name\", \"type\": \"string\"},\\n\\t\\t{\"name\": \"time\",  \"type\": \"string\"},\\n\\t\\t{\"name\": \"price\", \"type\": \"float\"}\\n\\t]\\n}\\n'"
            ],
            "application/vnd.google.colaboratory.intrinsic+json": {
              "type": "string"
            }
          },
          "metadata": {},
          "execution_count": 6
        }
      ],
      "source": [
        "# With Schema\n",
        "SCHEMA_PATH = \"/content/drive/MyDrive/Colab Notebooks/MIS584 FA2023/Assignment3/stock_schema.avsc\"\n",
        "SCHEMA = avro.schema.parse(open(SCHEMA_PATH).read())\n",
        "\n",
        "'''\n",
        "{\n",
        "\t\"namespace\": \"stock_schema.avro\",\n",
        "\t\"type\": \"record\",\n",
        "\t\"name\": \"Stock\",\n",
        "\t\"fields\": [\n",
        "\t\t{\"name\": \"name\", \"type\": \"string\"},\n",
        "\t\t{\"name\": \"time\",  \"type\": \"string\"},\n",
        "\t\t{\"name\": \"price\", \"type\": \"float\"}\n",
        "\t]\n",
        "}\n",
        "'''"
      ],
      "id": "b48825fa"
    },
    {
      "cell_type": "markdown",
      "source": [
        "**cURL** stands for Client URL, a lightweight command line tool for making network requests from the client side. It's suitable for many use cases, like making HTTP requests and testing APIs.\n",
        "\n",
        "**xzf**, XTRACT ZE FILES!, is a utility for file extraction."
      ],
      "metadata": {
        "id": "r6tcbF33cw9u"
      },
      "id": "r6tcbF33cw9u"
    },
    {
      "cell_type": "code",
      "execution_count": null,
      "metadata": {
        "id": "55qXXVGCt3F2"
      },
      "outputs": [],
      "source": [
        "# Download Apache Kafka and unzip into your Google Colab session.\n",
        "!curl -sSOL https://archive.apache.org/dist/kafka/3.1.0/kafka_2.13-3.1.0.tgz\n",
        "!tar -xzf kafka_2.13-3.1.0.tgz"
      ],
      "id": "55qXXVGCt3F2"
    },
    {
      "cell_type": "code",
      "execution_count": null,
      "metadata": {
        "colab": {
          "base_uri": "https://localhost:8080/"
        },
        "id": "DEupFNgct75U",
        "outputId": "157e6f94-eb5b-428f-b278-89fe13ad6e0a"
      },
      "outputs": [
        {
          "output_type": "stream",
          "name": "stdout",
          "text": [
            "Waiting for 10 secs until kafka and zookeeper services are up and running\n"
          ]
        }
      ],
      "source": [
        "# start zookeeper server & kafka server set $KAFKA_HOME variable path in bashrc (i.e., a configuration file for the Bash shell).\n",
        "!./kafka_2.13-3.1.0/bin/zookeeper-server-start.sh -daemon ./kafka_2.13-3.1.0/config/zookeeper.properties #--override delete.topic.enable=true\n",
        "!./kafka_2.13-3.1.0/bin/kafka-server-start.sh -daemon ./kafka_2.13-3.1.0/config/server.properties\n",
        "!echo \"Waiting for 10 secs until kafka and zookeeper services are up and running\"\n",
        "!sleep 10"
      ],
      "id": "DEupFNgct75U"
    },
    {
      "cell_type": "markdown",
      "source": [
        "The command-line interface (CLI) unquestionably acts as an impressive tool for both developers and system administrators due to its ability to identify and manage specific processes.\n",
        "\n",
        "The ```ps``` command is a powerful tool that provides **information about the running processes**. Moreover, this command, along with other helper commands such as ```grep```, can **identify and earmark the Python processes in particular.**\n",
        "\n",
        "First, ```ps -ef``` retrieves a list of all running processes in detail. The ```|``` **redirects the output** of the ```ps``` command **as the input to the next command.** The ```grep``` command searches through the input for lines that are related to kafka."
      ],
      "metadata": {
        "id": "3vpr6V7rA3uP"
      },
      "id": "3vpr6V7rA3uP"
    },
    {
      "cell_type": "code",
      "execution_count": null,
      "metadata": {
        "colab": {
          "base_uri": "https://localhost:8080/"
        },
        "id": "xAjLGP5ht_tz",
        "outputId": "bc2c214f-a16f-45b5-e4a4-d1da07686337"
      },
      "outputs": [
        {
          "output_type": "stream",
          "name": "stdout",
          "text": [
            "root        1406       1 16 11:43 ?        00:00:02 java -Xmx512M -Xms512M -server -XX:+UseG1GC -XX:MaxGCPauseMillis=20 -XX:InitiatingHeapOccupancyPercent=35 -XX:+ExplicitGCInvokesConcurrent -XX:MaxInlineLevel=15 -Djava.awt.headless=true -Xlog:gc*:file=/content/kafka_2.13-3.1.0/bin/../logs/zookeeper-gc.log:time,tags:filecount=10,filesize=100M -Dcom.sun.management.jmxremote -Dcom.sun.management.jmxremote.authenticate=false -Dcom.sun.management.jmxremote.ssl=false -Dkafka.logs.dir=/content/kafka_2.13-3.1.0/bin/../logs -Dlog4j.configuration=file:./kafka_2.13-3.1.0/bin/../config/log4j.properties -cp /content/kafka_2.13-3.1.0/bin/../libs/activation-1.1.1.jar:/content/kafka_2.13-3.1.0/bin/../libs/aopalliance-repackaged-2.6.1.jar:/content/kafka_2.13-3.1.0/bin/../libs/argparse4j-0.7.0.jar:/content/kafka_2.13-3.1.0/bin/../libs/audience-annotations-0.5.0.jar:/content/kafka_2.13-3.1.0/bin/../libs/commons-cli-1.4.jar:/content/kafka_2.13-3.1.0/bin/../libs/commons-lang3-3.8.1.jar:/content/kafka_2.13-3.1.0/bin/../libs/connect-api-3.1.0.jar:/content/kafka_2.13-3.1.0/bin/../libs/connect-basic-auth-extension-3.1.0.jar:/content/kafka_2.13-3.1.0/bin/../libs/connect-file-3.1.0.jar:/content/kafka_2.13-3.1.0/bin/../libs/connect-json-3.1.0.jar:/content/kafka_2.13-3.1.0/bin/../libs/connect-mirror-3.1.0.jar:/content/kafka_2.13-3.1.0/bin/../libs/connect-mirror-client-3.1.0.jar:/content/kafka_2.13-3.1.0/bin/../libs/connect-runtime-3.1.0.jar:/content/kafka_2.13-3.1.0/bin/../libs/connect-transforms-3.1.0.jar:/content/kafka_2.13-3.1.0/bin/../libs/hk2-api-2.6.1.jar:/content/kafka_2.13-3.1.0/bin/../libs/hk2-locator-2.6.1.jar:/content/kafka_2.13-3.1.0/bin/../libs/hk2-utils-2.6.1.jar:/content/kafka_2.13-3.1.0/bin/../libs/jackson-annotations-2.12.3.jar:/content/kafka_2.13-3.1.0/bin/../libs/jackson-core-2.12.3.jar:/content/kafka_2.13-3.1.0/bin/../libs/jackson-databind-2.12.3.jar:/content/kafka_2.13-3.1.0/bin/../libs/jackson-dataformat-csv-2.12.3.jar:/content/kafka_2.13-3.1.0/bin/../libs/jackson-datatype-jdk8-2.12.3.jar:/content/kafka_2.13-3.1.0/bin/../libs/jackson-jaxrs-base-2.12.3.jar:/content/kafka_2.13-3.1.0/bin/../libs/jackson-jaxrs-json-provider-2.12.3.jar:/content/kafka_2.13-3.1.0/bin/../libs/jackson-module-jaxb-annotations-2.12.3.jar:/content/kafka_2.13-3.1.0/bin/../libs/jackson-module-scala_2.13-2.12.3.jar:/content/kafka_2.13-3.1.0/bin/../libs/jakarta.activation-api-1.2.1.jar:/content/kafka_2.13-3.1.0/bin/../libs/jakarta.annotation-api-1.3.5.jar:/content/kafka_2.13-3.1.0/bin/../libs/jakarta.inject-2.6.1.jar:/content/kafka_2.13-3.1.0/bin/../libs/jakarta.validation-api-2.0.2.jar:/content/kafka_2.13-3.1.0/bin/../libs/jakarta.ws.rs-api-2.1.6.jar:/content/kafka_2.13-3.1.0/bin/../libs/jakarta.xml.bind-api-2.3.2.jar:/content/kafka_2.13-3.1.0/bin/../libs/javassist-3.27.0-GA.jar:/content/kafka_2.13-3.1.0/bin/../libs/javax.servlet-api-3.1.0.jar:/content/kafka_2.13-3.1.0/bin/../libs/javax.ws.rs-api-2.1.1.jar:/content/kafka_2.13-3.1.0/bin/../libs/jaxb-api-2.3.0.jar:/content/kafka_2.13-3.1.0/bin/../libs/jersey-client-2.34.jar:/content/kafka_2.13-3.1.0/bin/../libs/jersey-common-2.34.jar:/content/kafka_2.13-3.1.0/bin/../libs/jersey-container-servlet-2.34.jar:/content/kafka_2.13-3.1.0/bin/../libs/jersey-container-servlet-core-2.34.jar:/content/kafka_2.13-3.1.0/bin/../libs/jersey-hk2-2.34.jar:/content/kafka_2.13-3.1.0/bin/../libs/jersey-server-2.34.jar:/content/kafka_2.13-3.1.0/bin/../libs/jetty-client-9.4.43.v20210629.jar:/content/kafka_2.13-3.1.0/bin/../libs/jetty-continuation-9.4.43.v20210629.jar:/content/kafka_2.13-3.1.0/bin/../libs/jetty-http-9.4.43.v20210629.jar:/content/kafka_2.13-3.1.0/bin/../libs/jetty-io-9.4.43.v20210629.jar:/content/kafka_2.13-3.1.0/bin/../libs/jetty-security-9.4.43.v20210629.jar:/content/kafka_2.13-3.1.0/bin/../libs/jetty-server-9.4.43.v20210629.jar:/content/kafka_2.13-3.1.0/bin/../libs/jetty-servlet-9.4.43.v20210629.jar:/content/kafka_2.13-3.1.0/bin/../libs/jetty-servlets-9.4.43.v20210629.jar:/content/kafka_2.13-3.1.0/bin/../libs/jetty-util-9.4.43.v20210629.jar:/content/kafka_2.13-3.1.0/bin/../libs/jetty-util-ajax-9.4.43.v20210629.jar:/content/kafka_2.13-3.1.0/bin/../libs/jline-3.12.1.jar:/content/kafka_2.13-3.1.0/bin/../libs/jopt-simple-5.0.4.jar:/content/kafka_2.13-3.1.0/bin/../libs/jose4j-0.7.8.jar:/content/kafka_2.13-3.1.0/bin/../libs/kafka_2.13-3.1.0.jar:/content/kafka_2.13-3.1.0/bin/../libs/kafka-clients-3.1.0.jar:/content/kafka_2.13-3.1.0/bin/../libs/kafka-log4j-appender-3.1.0.jar:/content/kafka_2.13-3.1.0/bin/../libs/kafka-metadata-3.1.0.jar:/content/kafka_2.13-3.1.0/bin/../libs/kafka-raft-3.1.0.jar:/content/kafka_2.13-3.1.0/bin/../libs/kafka-server-common-3.1.0.jar:/content/kafka_2.13-3.1.0/bin/../libs/kafka-shell-3.1.0.jar:/content/kafka_2.13-3.1.0/bin/../libs/kafka-storage-3.1.0.jar:/content/kafka_2.13-3.1.0/bin/../libs/kafka-storage-api-3.1.0.jar:/content/kafka_2.13-3.1.0/bin/../libs/kafka-streams-3.1.0.jar:/content/kafka_2.13-3.1.0/bin/../libs/kafka-streams-examples-3.1.0.jar:/content/kafka_2.13-3.1.0/bin/../libs/kafka-streams-scala_2.13-3.1.0.jar:/content/kafka_2.13-3.1.0/bin/../libs/kafka-streams-test-utils-3.1.0.jar:/content/kafka_2.13-3.1.0/bin/../libs/kafka-tools-3.1.0.jar:/content/kafka_2.13-3.1.0/bin/../libs/log4j-1.2.17.jar:/content/kafka_2.13-3.1.0/bin/../libs/lz4-java-1.8.0.jar:/content/kafka_2.13-3.1.0/bin/../libs/maven-artifact-3.8.1.jar:/content/kafka_2.13-3.1.0/bin/../libs/metrics-core-2.2.0.jar:/content/kafka_2.13-3.1.0/bin/../libs/metrics-core-4.1.12.1.jar:/content/kafka_2.13-3.1.0/bin/../libs/netty-buffer-4.1.68.Final.jar:/content/kafka_2.13-3.1.0/bin/../libs/netty-codec-4.1.68.Final.jar:/content/kafka_2.13-3.1.0/bin/../libs/netty-common-4.1.68.Final.jar:/content/kafka_2.13-3.1.0/bin/../libs/netty-handler-4.1.68.Final.jar:/content/kafka_2.13-3.1.0/bin/../libs/netty-resolver-4.1.68.Final.jar:/content/kafka_2.13-3.1.0/bin/../libs/netty-transport-4.1.68.Final.jar:/content/kafka_2.13-3.1.0/bin/../libs/netty-transport-native-epoll-4.1.68.Final.jar:/content/kafka_2.13-3.1.0/bin/../libs/netty-transport-native-unix-common-4.1.68.Final.jar:/content/kafka_2.13-3.1.0/bin/../libs/osgi-resource-locator-1.0.3.jar:/content/kafka_2.13-3.1.0/bin/../libs/paranamer-2.8.jar:/content/kafka_2.13-3.1.0/bin/../libs/plexus-utils-3.2.1.jar:/content/kafka_2.13-3.1.0/bin/../libs/reflections-0.9.12.jar:/content/kafka_2.13-3.1.0/bin/../libs/rocksdbjni-6.22.1.1.jar:/content/kafka_2.13-3.1.0/bin/../libs/scala-collection-compat_2.13-2.4.4.jar:/content/kafka_2.13-3.1.0/bin/../libs/scala-java8-compat_2.13-1.0.0.jar:/content/kafka_2.13-3.1.0/bin/../libs/scala-library-2.13.6.jar:/content/kafka_2.13-3.1.0/bin/../libs/scala-logging_2.13-3.9.3.jar:/content/kafka_2.13-3.1.0/bin/../libs/scala-reflect-2.13.6.jar:/content/kafka_2.13-3.1.0/bin/../libs/slf4j-api-1.7.30.jar:/content/kafka_2.13-3.1.0/bin/../libs/slf4j-log4j12-1.7.30.jar:/content/kafka_2.13-3.1.0/bin/../libs/snappy-java-1.1.8.4.jar:/content/kafka_2.13-3.1.0/bin/../libs/trogdor-3.1.0.jar:/content/kafka_2.13-3.1.0/bin/../libs/zookeeper-3.6.3.jar:/content/kafka_2.13-3.1.0/bin/../libs/zookeeper-jute-3.6.3.jar:/content/kafka_2.13-3.1.0/bin/../libs/zstd-jni-1.5.0-4.jar org.apache.zookeeper.server.quorum.QuorumPeerMain ./kafka_2.13-3.1.0/config/zookeeper.properties\n",
            "root        1751       1 51 11:43 ?        00:00:07 java -Xmx1G -Xms1G -server -XX:+UseG1GC -XX:MaxGCPauseMillis=20 -XX:InitiatingHeapOccupancyPercent=35 -XX:+ExplicitGCInvokesConcurrent -XX:MaxInlineLevel=15 -Djava.awt.headless=true -Xlog:gc*:file=/content/kafka_2.13-3.1.0/bin/../logs/kafkaServer-gc.log:time,tags:filecount=10,filesize=100M -Dcom.sun.management.jmxremote -Dcom.sun.management.jmxremote.authenticate=false -Dcom.sun.management.jmxremote.ssl=false -Dkafka.logs.dir=/content/kafka_2.13-3.1.0/bin/../logs -Dlog4j.configuration=file:./kafka_2.13-3.1.0/bin/../config/log4j.properties -cp /content/kafka_2.13-3.1.0/bin/../libs/activation-1.1.1.jar:/content/kafka_2.13-3.1.0/bin/../libs/aopalliance-repackaged-2.6.1.jar:/content/kafka_2.13-3.1.0/bin/../libs/argparse4j-0.7.0.jar:/content/kafka_2.13-3.1.0/bin/../libs/audience-annotations-0.5.0.jar:/content/kafka_2.13-3.1.0/bin/../libs/commons-cli-1.4.jar:/content/kafka_2.13-3.1.0/bin/../libs/commons-lang3-3.8.1.jar:/content/kafka_2.13-3.1.0/bin/../libs/connect-api-3.1.0.jar:/content/kafka_2.13-3.1.0/bin/../libs/connect-basic-auth-extension-3.1.0.jar:/content/kafka_2.13-3.1.0/bin/../libs/connect-file-3.1.0.jar:/content/kafka_2.13-3.1.0/bin/../libs/connect-json-3.1.0.jar:/content/kafka_2.13-3.1.0/bin/../libs/connect-mirror-3.1.0.jar:/content/kafka_2.13-3.1.0/bin/../libs/connect-mirror-client-3.1.0.jar:/content/kafka_2.13-3.1.0/bin/../libs/connect-runtime-3.1.0.jar:/content/kafka_2.13-3.1.0/bin/../libs/connect-transforms-3.1.0.jar:/content/kafka_2.13-3.1.0/bin/../libs/hk2-api-2.6.1.jar:/content/kafka_2.13-3.1.0/bin/../libs/hk2-locator-2.6.1.jar:/content/kafka_2.13-3.1.0/bin/../libs/hk2-utils-2.6.1.jar:/content/kafka_2.13-3.1.0/bin/../libs/jackson-annotations-2.12.3.jar:/content/kafka_2.13-3.1.0/bin/../libs/jackson-core-2.12.3.jar:/content/kafka_2.13-3.1.0/bin/../libs/jackson-databind-2.12.3.jar:/content/kafka_2.13-3.1.0/bin/../libs/jackson-dataformat-csv-2.12.3.jar:/content/kafka_2.13-3.1.0/bin/../libs/jackson-datatype-jdk8-2.12.3.jar:/content/kafka_2.13-3.1.0/bin/../libs/jackson-jaxrs-base-2.12.3.jar:/content/kafka_2.13-3.1.0/bin/../libs/jackson-jaxrs-json-provider-2.12.3.jar:/content/kafka_2.13-3.1.0/bin/../libs/jackson-module-jaxb-annotations-2.12.3.jar:/content/kafka_2.13-3.1.0/bin/../libs/jackson-module-scala_2.13-2.12.3.jar:/content/kafka_2.13-3.1.0/bin/../libs/jakarta.activation-api-1.2.1.jar:/content/kafka_2.13-3.1.0/bin/../libs/jakarta.annotation-api-1.3.5.jar:/content/kafka_2.13-3.1.0/bin/../libs/jakarta.inject-2.6.1.jar:/content/kafka_2.13-3.1.0/bin/../libs/jakarta.validation-api-2.0.2.jar:/content/kafka_2.13-3.1.0/bin/../libs/jakarta.ws.rs-api-2.1.6.jar:/content/kafka_2.13-3.1.0/bin/../libs/jakarta.xml.bind-api-2.3.2.jar:/content/kafka_2.13-3.1.0/bin/../libs/javassist-3.27.0-GA.jar:/content/kafka_2.13-3.1.0/bin/../libs/javax.servlet-api-3.1.0.jar:/content/kafka_2.13-3.1.0/bin/../libs/javax.ws.rs-api-2.1.1.jar:/content/kafka_2.13-3.1.0/bin/../libs/jaxb-api-2.3.0.jar:/content/kafka_2.13-3.1.0/bin/../libs/jersey-client-2.34.jar:/content/kafka_2.13-3.1.0/bin/../libs/jersey-common-2.34.jar:/content/kafka_2.13-3.1.0/bin/../libs/jersey-container-servlet-2.34.jar:/content/kafka_2.13-3.1.0/bin/../libs/jersey-container-servlet-core-2.34.jar:/content/kafka_2.13-3.1.0/bin/../libs/jersey-hk2-2.34.jar:/content/kafka_2.13-3.1.0/bin/../libs/jersey-server-2.34.jar:/content/kafka_2.13-3.1.0/bin/../libs/jetty-client-9.4.43.v20210629.jar:/content/kafka_2.13-3.1.0/bin/../libs/jetty-continuation-9.4.43.v20210629.jar:/content/kafka_2.13-3.1.0/bin/../libs/jetty-http-9.4.43.v20210629.jar:/content/kafka_2.13-3.1.0/bin/../libs/jetty-io-9.4.43.v20210629.jar:/content/kafka_2.13-3.1.0/bin/../libs/jetty-security-9.4.43.v20210629.jar:/content/kafka_2.13-3.1.0/bin/../libs/jetty-server-9.4.43.v20210629.jar:/content/kafka_2.13-3.1.0/bin/../libs/jetty-servlet-9.4.43.v20210629.jar:/content/kafka_2.13-3.1.0/bin/../libs/jetty-servlets-9.4.43.v20210629.jar:/content/kafka_2.13-3.1.0/bin/../libs/jetty-util-9.4.43.v20210629.jar:/content/kafka_2.13-3.1.0/bin/../libs/jetty-util-ajax-9.4.43.v20210629.jar:/content/kafka_2.13-3.1.0/bin/../libs/jline-3.12.1.jar:/content/kafka_2.13-3.1.0/bin/../libs/jopt-simple-5.0.4.jar:/content/kafka_2.13-3.1.0/bin/../libs/jose4j-0.7.8.jar:/content/kafka_2.13-3.1.0/bin/../libs/kafka_2.13-3.1.0.jar:/content/kafka_2.13-3.1.0/bin/../libs/kafka-clients-3.1.0.jar:/content/kafka_2.13-3.1.0/bin/../libs/kafka-log4j-appender-3.1.0.jar:/content/kafka_2.13-3.1.0/bin/../libs/kafka-metadata-3.1.0.jar:/content/kafka_2.13-3.1.0/bin/../libs/kafka-raft-3.1.0.jar:/content/kafka_2.13-3.1.0/bin/../libs/kafka-server-common-3.1.0.jar:/content/kafka_2.13-3.1.0/bin/../libs/kafka-shell-3.1.0.jar:/content/kafka_2.13-3.1.0/bin/../libs/kafka-storage-3.1.0.jar:/content/kafka_2.13-3.1.0/bin/../libs/kafka-storage-api-3.1.0.jar:/content/kafka_2.13-3.1.0/bin/../libs/kafka-streams-3.1.0.jar:/content/kafka_2.13-3.1.0/bin/../libs/kafka-streams-examples-3.1.0.jar:/content/kafka_2.13-3.1.0/bin/../libs/kafka-streams-scala_2.13-3.1.0.jar:/content/kafka_2.13-3.1.0/bin/../libs/kafka-streams-test-utils-3.1.0.jar:/content/kafka_2.13-3.1.0/bin/../libs/kafka-tools-3.1.0.jar:/content/kafka_2.13-3.1.0/bin/../libs/log4j-1.2.17.jar:/content/kafka_2.13-3.1.0/bin/../libs/lz4-java-1.8.0.jar:/content/kafka_2.13-3.1.0/bin/../libs/maven-artifact-3.8.1.jar:/content/kafka_2.13-3.1.0/bin/../libs/metrics-core-2.2.0.jar:/content/kafka_2.13-3.1.0/bin/../libs/metrics-core-4.1.12.1.jar:/content/kafka_2.13-3.1.0/bin/../libs/netty-buffer-4.1.68.Final.jar:/content/kafka_2.13-3.1.0/bin/../libs/netty-codec-4.1.68.Final.jar:/content/kafka_2.13-3.1.0/bin/../libs/netty-common-4.1.68.Final.jar:/content/kafka_2.13-3.1.0/bin/../libs/netty-handler-4.1.68.Final.jar:/content/kafka_2.13-3.1.0/bin/../libs/netty-resolver-4.1.68.Final.jar:/content/kafka_2.13-3.1.0/bin/../libs/netty-transport-4.1.68.Final.jar:/content/kafka_2.13-3.1.0/bin/../libs/netty-transport-native-epoll-4.1.68.Final.jar:/content/kafka_2.13-3.1.0/bin/../libs/netty-transport-native-unix-common-4.1.68.Final.jar:/content/kafka_2.13-3.1.0/bin/../libs/osgi-resource-locator-1.0.3.jar:/content/kafka_2.13-3.1.0/bin/../libs/paranamer-2.8.jar:/content/kafka_2.13-3.1.0/bin/../libs/plexus-utils-3.2.1.jar:/content/kafka_2.13-3.1.0/bin/../libs/reflections-0.9.12.jar:/content/kafka_2.13-3.1.0/bin/../libs/rocksdbjni-6.22.1.1.jar:/content/kafka_2.13-3.1.0/bin/../libs/scala-collection-compat_2.13-2.4.4.jar:/content/kafka_2.13-3.1.0/bin/../libs/scala-java8-compat_2.13-1.0.0.jar:/content/kafka_2.13-3.1.0/bin/../libs/scala-library-2.13.6.jar:/content/kafka_2.13-3.1.0/bin/../libs/scala-logging_2.13-3.9.3.jar:/content/kafka_2.13-3.1.0/bin/../libs/scala-reflect-2.13.6.jar:/content/kafka_2.13-3.1.0/bin/../libs/slf4j-api-1.7.30.jar:/content/kafka_2.13-3.1.0/bin/../libs/slf4j-log4j12-1.7.30.jar:/content/kafka_2.13-3.1.0/bin/../libs/snappy-java-1.1.8.4.jar:/content/kafka_2.13-3.1.0/bin/../libs/trogdor-3.1.0.jar:/content/kafka_2.13-3.1.0/bin/../libs/zookeeper-3.6.3.jar:/content/kafka_2.13-3.1.0/bin/../libs/zookeeper-jute-3.6.3.jar:/content/kafka_2.13-3.1.0/bin/../libs/zstd-jni-1.5.0-4.jar kafka.Kafka ./kafka_2.13-3.1.0/config/server.properties\n",
            "root        1896     271  0 11:44 ?        00:00:00 /bin/bash -c ps -ef | grep kafka\n",
            "root        1898    1896  0 11:44 ?        00:00:00 grep kafka\n"
          ]
        }
      ],
      "source": [
        "# see if kafka properties are shown in the results.\n",
        "!ps -ef | grep kafka"
      ],
      "id": "xAjLGP5ht_tz"
    },
    {
      "cell_type": "code",
      "execution_count": null,
      "metadata": {
        "id": "bcf65580"
      },
      "outputs": [],
      "source": [
        "# create topics\n",
        "# define producer\n",
        "topic = 'tesla'\n",
        "bootstrap_server = \"localhost:9092\"\n",
        "producer = kafka.KafkaProducer(\n",
        "    bootstrap_servers=[bootstrap_server]\n",
        ")"
      ],
      "id": "bcf65580"
    },
    {
      "cell_type": "markdown",
      "metadata": {
        "id": "8b34aff3"
      },
      "source": [
        "### Get Stock Live Data from Yahoo Finance"
      ],
      "id": "8b34aff3"
    },
    {
      "cell_type": "code",
      "execution_count": null,
      "metadata": {
        "colab": {
          "base_uri": "https://localhost:8080/"
        },
        "id": "7e7c4f8d",
        "outputId": "fc5813c2-ff2e-4b4c-f9be-925442a82295"
      },
      "outputs": [
        {
          "output_type": "stream",
          "name": "stdout",
          "text": [
            "Requirement already satisfied: yfinance in /usr/local/lib/python3.10/dist-packages (0.2.31)\n",
            "Requirement already satisfied: pandas>=1.3.0 in /usr/local/lib/python3.10/dist-packages (from yfinance) (1.5.3)\n",
            "Requirement already satisfied: numpy>=1.16.5 in /usr/local/lib/python3.10/dist-packages (from yfinance) (1.23.5)\n",
            "Requirement already satisfied: requests>=2.31 in /usr/local/lib/python3.10/dist-packages (from yfinance) (2.31.0)\n",
            "Requirement already satisfied: multitasking>=0.0.7 in /usr/local/lib/python3.10/dist-packages (from yfinance) (0.0.11)\n",
            "Requirement already satisfied: lxml>=4.9.1 in /usr/local/lib/python3.10/dist-packages (from yfinance) (4.9.3)\n",
            "Requirement already satisfied: appdirs>=1.4.4 in /usr/local/lib/python3.10/dist-packages (from yfinance) (1.4.4)\n",
            "Requirement already satisfied: pytz>=2022.5 in /usr/local/lib/python3.10/dist-packages (from yfinance) (2023.3.post1)\n",
            "Requirement already satisfied: frozendict>=2.3.4 in /usr/local/lib/python3.10/dist-packages (from yfinance) (2.3.8)\n",
            "Requirement already satisfied: peewee>=3.16.2 in /usr/local/lib/python3.10/dist-packages (from yfinance) (3.16.3)\n",
            "Requirement already satisfied: beautifulsoup4>=4.11.1 in /usr/local/lib/python3.10/dist-packages (from yfinance) (4.11.2)\n",
            "Requirement already satisfied: html5lib>=1.1 in /usr/local/lib/python3.10/dist-packages (from yfinance) (1.1)\n",
            "Requirement already satisfied: soupsieve>1.2 in /usr/local/lib/python3.10/dist-packages (from beautifulsoup4>=4.11.1->yfinance) (2.5)\n",
            "Requirement already satisfied: six>=1.9 in /usr/local/lib/python3.10/dist-packages (from html5lib>=1.1->yfinance) (1.16.0)\n",
            "Requirement already satisfied: webencodings in /usr/local/lib/python3.10/dist-packages (from html5lib>=1.1->yfinance) (0.5.1)\n",
            "Requirement already satisfied: python-dateutil>=2.8.1 in /usr/local/lib/python3.10/dist-packages (from pandas>=1.3.0->yfinance) (2.8.2)\n",
            "Requirement already satisfied: charset-normalizer<4,>=2 in /usr/local/lib/python3.10/dist-packages (from requests>=2.31->yfinance) (3.3.0)\n",
            "Requirement already satisfied: idna<4,>=2.5 in /usr/local/lib/python3.10/dist-packages (from requests>=2.31->yfinance) (3.4)\n",
            "Requirement already satisfied: urllib3<3,>=1.21.1 in /usr/local/lib/python3.10/dist-packages (from requests>=2.31->yfinance) (2.0.6)\n",
            "Requirement already satisfied: certifi>=2017.4.17 in /usr/local/lib/python3.10/dist-packages (from requests>=2.31->yfinance) (2023.7.22)\n"
          ]
        }
      ],
      "source": [
        "!pip install yfinance"
      ],
      "id": "7e7c4f8d"
    },
    {
      "cell_type": "code",
      "execution_count": null,
      "metadata": {
        "id": "26c3b339"
      },
      "outputs": [],
      "source": [
        "import yfinance as yf\n",
        "import datetime"
      ],
      "id": "26c3b339"
    },
    {
      "cell_type": "code",
      "execution_count": null,
      "metadata": {
        "colab": {
          "base_uri": "https://localhost:8080/"
        },
        "id": "a8334e75",
        "outputId": "7ad3299b-eb28-4186-e25a-35f1e41ff597"
      },
      "outputs": [
        {
          "output_type": "stream",
          "name": "stdout",
          "text": [
            "\r[*********************100%%**********************]  1 of 1 completed\n"
          ]
        }
      ],
      "source": [
        "# Getting wierd graphs since there a gap between days\n",
        "# df = yf.download(tickers='UBER', period='5d', interval='5m') // Modify period and interval based on you preference.\n",
        "\n",
        "ticker = 'TSLA'\n",
        "df = yf.download(tickers=ticker, period='1d', interval='5m')"
      ],
      "id": "a8334e75"
    },
    {
      "cell_type": "code",
      "execution_count": null,
      "metadata": {
        "colab": {
          "base_uri": "https://localhost:8080/",
          "height": 237
        },
        "id": "BaunpU2rw0GX",
        "outputId": "59e39756-8fdb-4eeb-9ab3-14648e65c2bf"
      },
      "outputs": [
        {
          "output_type": "execute_result",
          "data": {
            "text/plain": [
              "                                 Open        High         Low       Close  \\\n",
              "Datetime                                                                    \n",
              "2023-10-09 09:30:00-04:00  255.309998  256.619995  253.750000  254.320007   \n",
              "2023-10-09 09:35:00-04:00  254.300003  254.449905  253.470001  254.034805   \n",
              "2023-10-09 09:40:00-04:00  254.005005  255.550003  253.699997  255.160004   \n",
              "2023-10-09 09:45:00-04:00  255.110001  256.079987  254.300003  255.990005   \n",
              "2023-10-09 09:50:00-04:00  256.030914  256.299988  255.160004  255.869904   \n",
              "\n",
              "                            Adj Close   Volume  \n",
              "Datetime                                        \n",
              "2023-10-09 09:30:00-04:00  254.320007  5642471  \n",
              "2023-10-09 09:35:00-04:00  254.034805  2735857  \n",
              "2023-10-09 09:40:00-04:00  255.160004  2742137  \n",
              "2023-10-09 09:45:00-04:00  255.990005  2462230  \n",
              "2023-10-09 09:50:00-04:00  255.869904  2372790  "
            ],
            "text/html": [
              "\n",
              "  <div id=\"df-cb60f570-0ddb-422e-9ef7-969e7ba40031\" class=\"colab-df-container\">\n",
              "    <div>\n",
              "<style scoped>\n",
              "    .dataframe tbody tr th:only-of-type {\n",
              "        vertical-align: middle;\n",
              "    }\n",
              "\n",
              "    .dataframe tbody tr th {\n",
              "        vertical-align: top;\n",
              "    }\n",
              "\n",
              "    .dataframe thead th {\n",
              "        text-align: right;\n",
              "    }\n",
              "</style>\n",
              "<table border=\"1\" class=\"dataframe\">\n",
              "  <thead>\n",
              "    <tr style=\"text-align: right;\">\n",
              "      <th></th>\n",
              "      <th>Open</th>\n",
              "      <th>High</th>\n",
              "      <th>Low</th>\n",
              "      <th>Close</th>\n",
              "      <th>Adj Close</th>\n",
              "      <th>Volume</th>\n",
              "    </tr>\n",
              "    <tr>\n",
              "      <th>Datetime</th>\n",
              "      <th></th>\n",
              "      <th></th>\n",
              "      <th></th>\n",
              "      <th></th>\n",
              "      <th></th>\n",
              "      <th></th>\n",
              "    </tr>\n",
              "  </thead>\n",
              "  <tbody>\n",
              "    <tr>\n",
              "      <th>2023-10-09 09:30:00-04:00</th>\n",
              "      <td>255.309998</td>\n",
              "      <td>256.619995</td>\n",
              "      <td>253.750000</td>\n",
              "      <td>254.320007</td>\n",
              "      <td>254.320007</td>\n",
              "      <td>5642471</td>\n",
              "    </tr>\n",
              "    <tr>\n",
              "      <th>2023-10-09 09:35:00-04:00</th>\n",
              "      <td>254.300003</td>\n",
              "      <td>254.449905</td>\n",
              "      <td>253.470001</td>\n",
              "      <td>254.034805</td>\n",
              "      <td>254.034805</td>\n",
              "      <td>2735857</td>\n",
              "    </tr>\n",
              "    <tr>\n",
              "      <th>2023-10-09 09:40:00-04:00</th>\n",
              "      <td>254.005005</td>\n",
              "      <td>255.550003</td>\n",
              "      <td>253.699997</td>\n",
              "      <td>255.160004</td>\n",
              "      <td>255.160004</td>\n",
              "      <td>2742137</td>\n",
              "    </tr>\n",
              "    <tr>\n",
              "      <th>2023-10-09 09:45:00-04:00</th>\n",
              "      <td>255.110001</td>\n",
              "      <td>256.079987</td>\n",
              "      <td>254.300003</td>\n",
              "      <td>255.990005</td>\n",
              "      <td>255.990005</td>\n",
              "      <td>2462230</td>\n",
              "    </tr>\n",
              "    <tr>\n",
              "      <th>2023-10-09 09:50:00-04:00</th>\n",
              "      <td>256.030914</td>\n",
              "      <td>256.299988</td>\n",
              "      <td>255.160004</td>\n",
              "      <td>255.869904</td>\n",
              "      <td>255.869904</td>\n",
              "      <td>2372790</td>\n",
              "    </tr>\n",
              "  </tbody>\n",
              "</table>\n",
              "</div>\n",
              "    <div class=\"colab-df-buttons\">\n",
              "\n",
              "  <div class=\"colab-df-container\">\n",
              "    <button class=\"colab-df-convert\" onclick=\"convertToInteractive('df-cb60f570-0ddb-422e-9ef7-969e7ba40031')\"\n",
              "            title=\"Convert this dataframe to an interactive table.\"\n",
              "            style=\"display:none;\">\n",
              "\n",
              "  <svg xmlns=\"http://www.w3.org/2000/svg\" height=\"24px\" viewBox=\"0 -960 960 960\">\n",
              "    <path d=\"M120-120v-720h720v720H120Zm60-500h600v-160H180v160Zm220 220h160v-160H400v160Zm0 220h160v-160H400v160ZM180-400h160v-160H180v160Zm440 0h160v-160H620v160ZM180-180h160v-160H180v160Zm440 0h160v-160H620v160Z\"/>\n",
              "  </svg>\n",
              "    </button>\n",
              "\n",
              "  <style>\n",
              "    .colab-df-container {\n",
              "      display:flex;\n",
              "      gap: 12px;\n",
              "    }\n",
              "\n",
              "    .colab-df-convert {\n",
              "      background-color: #E8F0FE;\n",
              "      border: none;\n",
              "      border-radius: 50%;\n",
              "      cursor: pointer;\n",
              "      display: none;\n",
              "      fill: #1967D2;\n",
              "      height: 32px;\n",
              "      padding: 0 0 0 0;\n",
              "      width: 32px;\n",
              "    }\n",
              "\n",
              "    .colab-df-convert:hover {\n",
              "      background-color: #E2EBFA;\n",
              "      box-shadow: 0px 1px 2px rgba(60, 64, 67, 0.3), 0px 1px 3px 1px rgba(60, 64, 67, 0.15);\n",
              "      fill: #174EA6;\n",
              "    }\n",
              "\n",
              "    .colab-df-buttons div {\n",
              "      margin-bottom: 4px;\n",
              "    }\n",
              "\n",
              "    [theme=dark] .colab-df-convert {\n",
              "      background-color: #3B4455;\n",
              "      fill: #D2E3FC;\n",
              "    }\n",
              "\n",
              "    [theme=dark] .colab-df-convert:hover {\n",
              "      background-color: #434B5C;\n",
              "      box-shadow: 0px 1px 3px 1px rgba(0, 0, 0, 0.15);\n",
              "      filter: drop-shadow(0px 1px 2px rgba(0, 0, 0, 0.3));\n",
              "      fill: #FFFFFF;\n",
              "    }\n",
              "  </style>\n",
              "\n",
              "    <script>\n",
              "      const buttonEl =\n",
              "        document.querySelector('#df-cb60f570-0ddb-422e-9ef7-969e7ba40031 button.colab-df-convert');\n",
              "      buttonEl.style.display =\n",
              "        google.colab.kernel.accessAllowed ? 'block' : 'none';\n",
              "\n",
              "      async function convertToInteractive(key) {\n",
              "        const element = document.querySelector('#df-cb60f570-0ddb-422e-9ef7-969e7ba40031');\n",
              "        const dataTable =\n",
              "          await google.colab.kernel.invokeFunction('convertToInteractive',\n",
              "                                                    [key], {});\n",
              "        if (!dataTable) return;\n",
              "\n",
              "        const docLinkHtml = 'Like what you see? Visit the ' +\n",
              "          '<a target=\"_blank\" href=https://colab.research.google.com/notebooks/data_table.ipynb>data table notebook</a>'\n",
              "          + ' to learn more about interactive tables.';\n",
              "        element.innerHTML = '';\n",
              "        dataTable['output_type'] = 'display_data';\n",
              "        await google.colab.output.renderOutput(dataTable, element);\n",
              "        const docLink = document.createElement('div');\n",
              "        docLink.innerHTML = docLinkHtml;\n",
              "        element.appendChild(docLink);\n",
              "      }\n",
              "    </script>\n",
              "  </div>\n",
              "\n",
              "\n",
              "<div id=\"df-80a0909a-108d-41b3-9a2a-edf15d4387a9\">\n",
              "  <button class=\"colab-df-quickchart\" onclick=\"quickchart('df-80a0909a-108d-41b3-9a2a-edf15d4387a9')\"\n",
              "            title=\"Suggest charts.\"\n",
              "            style=\"display:none;\">\n",
              "\n",
              "<svg xmlns=\"http://www.w3.org/2000/svg\" height=\"24px\"viewBox=\"0 0 24 24\"\n",
              "     width=\"24px\">\n",
              "    <g>\n",
              "        <path d=\"M19 3H5c-1.1 0-2 .9-2 2v14c0 1.1.9 2 2 2h14c1.1 0 2-.9 2-2V5c0-1.1-.9-2-2-2zM9 17H7v-7h2v7zm4 0h-2V7h2v10zm4 0h-2v-4h2v4z\"/>\n",
              "    </g>\n",
              "</svg>\n",
              "  </button>\n",
              "\n",
              "<style>\n",
              "  .colab-df-quickchart {\n",
              "      --bg-color: #E8F0FE;\n",
              "      --fill-color: #1967D2;\n",
              "      --hover-bg-color: #E2EBFA;\n",
              "      --hover-fill-color: #174EA6;\n",
              "      --disabled-fill-color: #AAA;\n",
              "      --disabled-bg-color: #DDD;\n",
              "  }\n",
              "\n",
              "  [theme=dark] .colab-df-quickchart {\n",
              "      --bg-color: #3B4455;\n",
              "      --fill-color: #D2E3FC;\n",
              "      --hover-bg-color: #434B5C;\n",
              "      --hover-fill-color: #FFFFFF;\n",
              "      --disabled-bg-color: #3B4455;\n",
              "      --disabled-fill-color: #666;\n",
              "  }\n",
              "\n",
              "  .colab-df-quickchart {\n",
              "    background-color: var(--bg-color);\n",
              "    border: none;\n",
              "    border-radius: 50%;\n",
              "    cursor: pointer;\n",
              "    display: none;\n",
              "    fill: var(--fill-color);\n",
              "    height: 32px;\n",
              "    padding: 0;\n",
              "    width: 32px;\n",
              "  }\n",
              "\n",
              "  .colab-df-quickchart:hover {\n",
              "    background-color: var(--hover-bg-color);\n",
              "    box-shadow: 0 1px 2px rgba(60, 64, 67, 0.3), 0 1px 3px 1px rgba(60, 64, 67, 0.15);\n",
              "    fill: var(--button-hover-fill-color);\n",
              "  }\n",
              "\n",
              "  .colab-df-quickchart-complete:disabled,\n",
              "  .colab-df-quickchart-complete:disabled:hover {\n",
              "    background-color: var(--disabled-bg-color);\n",
              "    fill: var(--disabled-fill-color);\n",
              "    box-shadow: none;\n",
              "  }\n",
              "\n",
              "  .colab-df-spinner {\n",
              "    border: 2px solid var(--fill-color);\n",
              "    border-color: transparent;\n",
              "    border-bottom-color: var(--fill-color);\n",
              "    animation:\n",
              "      spin 1s steps(1) infinite;\n",
              "  }\n",
              "\n",
              "  @keyframes spin {\n",
              "    0% {\n",
              "      border-color: transparent;\n",
              "      border-bottom-color: var(--fill-color);\n",
              "      border-left-color: var(--fill-color);\n",
              "    }\n",
              "    20% {\n",
              "      border-color: transparent;\n",
              "      border-left-color: var(--fill-color);\n",
              "      border-top-color: var(--fill-color);\n",
              "    }\n",
              "    30% {\n",
              "      border-color: transparent;\n",
              "      border-left-color: var(--fill-color);\n",
              "      border-top-color: var(--fill-color);\n",
              "      border-right-color: var(--fill-color);\n",
              "    }\n",
              "    40% {\n",
              "      border-color: transparent;\n",
              "      border-right-color: var(--fill-color);\n",
              "      border-top-color: var(--fill-color);\n",
              "    }\n",
              "    60% {\n",
              "      border-color: transparent;\n",
              "      border-right-color: var(--fill-color);\n",
              "    }\n",
              "    80% {\n",
              "      border-color: transparent;\n",
              "      border-right-color: var(--fill-color);\n",
              "      border-bottom-color: var(--fill-color);\n",
              "    }\n",
              "    90% {\n",
              "      border-color: transparent;\n",
              "      border-bottom-color: var(--fill-color);\n",
              "    }\n",
              "  }\n",
              "</style>\n",
              "\n",
              "  <script>\n",
              "    async function quickchart(key) {\n",
              "      const quickchartButtonEl =\n",
              "        document.querySelector('#' + key + ' button');\n",
              "      quickchartButtonEl.disabled = true;  // To prevent multiple clicks.\n",
              "      quickchartButtonEl.classList.add('colab-df-spinner');\n",
              "      try {\n",
              "        const charts = await google.colab.kernel.invokeFunction(\n",
              "            'suggestCharts', [key], {});\n",
              "      } catch (error) {\n",
              "        console.error('Error during call to suggestCharts:', error);\n",
              "      }\n",
              "      quickchartButtonEl.classList.remove('colab-df-spinner');\n",
              "      quickchartButtonEl.classList.add('colab-df-quickchart-complete');\n",
              "    }\n",
              "    (() => {\n",
              "      let quickchartButtonEl =\n",
              "        document.querySelector('#df-80a0909a-108d-41b3-9a2a-edf15d4387a9 button');\n",
              "      quickchartButtonEl.style.display =\n",
              "        google.colab.kernel.accessAllowed ? 'block' : 'none';\n",
              "    })();\n",
              "  </script>\n",
              "</div>\n",
              "\n",
              "    </div>\n",
              "  </div>\n"
            ]
          },
          "metadata": {},
          "execution_count": 14
        }
      ],
      "source": [
        "df.head(5)"
      ],
      "id": "BaunpU2rw0GX"
    },
    {
      "cell_type": "code",
      "execution_count": null,
      "metadata": {
        "id": "de120328"
      },
      "outputs": [],
      "source": [
        "stock_dict = df[\"High\"].to_dict().items()"
      ],
      "id": "de120328"
    },
    {
      "cell_type": "code",
      "execution_count": null,
      "metadata": {
        "colab": {
          "base_uri": "https://localhost:8080/"
        },
        "id": "_gx99D2qxAR8",
        "outputId": "216fb63f-611e-4813-908f-d3b123fc73af"
      },
      "outputs": [
        {
          "output_type": "stream",
          "name": "stdout",
          "text": [
            "2023-10-09 09:30:00-04:00\n",
            "256.6199951171875\n",
            "2023-10-09 09:35:00-04:00\n",
            "254.4499053955078\n",
            "2023-10-09 09:40:00-04:00\n",
            "255.5500030517578\n",
            "2023-10-09 09:45:00-04:00\n",
            "256.0799865722656\n",
            "2023-10-09 09:50:00-04:00\n",
            "256.29998779296875\n",
            "2023-10-09 09:55:00-04:00\n",
            "256.4700012207031\n",
            "2023-10-09 10:00:00-04:00\n",
            "256.32000732421875\n",
            "2023-10-09 10:05:00-04:00\n",
            "255.1199951171875\n",
            "2023-10-09 10:10:00-04:00\n",
            "255.08999633789062\n",
            "2023-10-09 10:15:00-04:00\n",
            "255.47999572753906\n",
            "2023-10-09 10:20:00-04:00\n",
            "255.72000122070312\n",
            "2023-10-09 10:25:00-04:00\n",
            "255.55850219726562\n",
            "2023-10-09 10:30:00-04:00\n",
            "255.24000549316406\n",
            "2023-10-09 10:35:00-04:00\n",
            "254.639892578125\n",
            "2023-10-09 10:40:00-04:00\n",
            "254.42999267578125\n",
            "2023-10-09 10:45:00-04:00\n",
            "254.5399932861328\n",
            "2023-10-09 10:50:00-04:00\n",
            "253.5800018310547\n",
            "2023-10-09 10:55:00-04:00\n",
            "253.80999755859375\n",
            "2023-10-09 11:00:00-04:00\n",
            "253.25999450683594\n",
            "2023-10-09 11:05:00-04:00\n",
            "252.59500122070312\n",
            "2023-10-09 11:10:00-04:00\n",
            "252.7198944091797\n",
            "2023-10-09 11:15:00-04:00\n",
            "252.9499969482422\n",
            "2023-10-09 11:20:00-04:00\n",
            "253.36000061035156\n",
            "2023-10-09 11:25:00-04:00\n",
            "253.88999938964844\n",
            "2023-10-09 11:30:00-04:00\n",
            "254.05999755859375\n",
            "2023-10-09 11:35:00-04:00\n",
            "253.94419860839844\n",
            "2023-10-09 11:40:00-04:00\n",
            "253.8800048828125\n",
            "2023-10-09 11:45:00-04:00\n",
            "254.02699279785156\n",
            "2023-10-09 11:50:00-04:00\n",
            "254.1300048828125\n",
            "2023-10-09 11:55:00-04:00\n",
            "253.85000610351562\n",
            "2023-10-09 12:00:00-04:00\n",
            "254.1999969482422\n",
            "2023-10-09 12:05:00-04:00\n",
            "254.5399932861328\n",
            "2023-10-09 12:10:00-04:00\n",
            "254.5299072265625\n",
            "2023-10-09 12:15:00-04:00\n",
            "255.4600067138672\n",
            "2023-10-09 12:20:00-04:00\n",
            "255.67999267578125\n",
            "2023-10-09 12:25:00-04:00\n",
            "255.58999633789062\n",
            "2023-10-09 12:30:00-04:00\n",
            "255.61000061035156\n",
            "2023-10-09 12:35:00-04:00\n",
            "255.43699645996094\n",
            "2023-10-09 12:40:00-04:00\n",
            "255.32000732421875\n",
            "2023-10-09 12:45:00-04:00\n",
            "254.72000122070312\n",
            "2023-10-09 12:50:00-04:00\n",
            "254.77169799804688\n",
            "2023-10-09 12:55:00-04:00\n",
            "254.9499969482422\n",
            "2023-10-09 13:00:00-04:00\n",
            "255.24000549316406\n",
            "2023-10-09 13:05:00-04:00\n",
            "255.41000366210938\n",
            "2023-10-09 13:10:00-04:00\n",
            "255.42999267578125\n",
            "2023-10-09 13:15:00-04:00\n",
            "255.6363983154297\n",
            "2023-10-09 13:20:00-04:00\n",
            "255.44000244140625\n",
            "2023-10-09 13:25:00-04:00\n",
            "255.8800048828125\n",
            "2023-10-09 13:30:00-04:00\n",
            "256.55999755859375\n",
            "2023-10-09 13:35:00-04:00\n",
            "256.8699951171875\n",
            "2023-10-09 13:40:00-04:00\n",
            "257.5592956542969\n",
            "2023-10-09 13:45:00-04:00\n",
            "257.6700134277344\n",
            "2023-10-09 13:50:00-04:00\n",
            "257.94000244140625\n",
            "2023-10-09 13:55:00-04:00\n",
            "258.69000244140625\n",
            "2023-10-09 14:00:00-04:00\n",
            "258.8500061035156\n",
            "2023-10-09 14:05:00-04:00\n",
            "259.010009765625\n",
            "2023-10-09 14:10:00-04:00\n",
            "258.79998779296875\n",
            "2023-10-09 14:15:00-04:00\n",
            "258.7799987792969\n",
            "2023-10-09 14:20:00-04:00\n",
            "259.42999267578125\n",
            "2023-10-09 14:25:00-04:00\n",
            "260.1299133300781\n",
            "2023-10-09 14:30:00-04:00\n",
            "260.2200012207031\n",
            "2023-10-09 14:35:00-04:00\n",
            "260.25\n",
            "2023-10-09 14:40:00-04:00\n",
            "260.5400085449219\n",
            "2023-10-09 14:45:00-04:00\n",
            "260.19000244140625\n",
            "2023-10-09 14:50:00-04:00\n",
            "260.27349853515625\n",
            "2023-10-09 14:55:00-04:00\n",
            "260.6700134277344\n",
            "2023-10-09 15:00:00-04:00\n",
            "260.45001220703125\n",
            "2023-10-09 15:05:00-04:00\n",
            "260.9700012207031\n",
            "2023-10-09 15:10:00-04:00\n",
            "261.0400085449219\n",
            "2023-10-09 15:15:00-04:00\n",
            "260.44989013671875\n",
            "2023-10-09 15:20:00-04:00\n",
            "260.635009765625\n",
            "2023-10-09 15:25:00-04:00\n",
            "260.8500061035156\n",
            "2023-10-09 15:30:00-04:00\n",
            "261.3599853515625\n",
            "2023-10-09 15:35:00-04:00\n",
            "261.07000732421875\n",
            "2023-10-09 15:40:00-04:00\n",
            "260.739990234375\n",
            "2023-10-09 15:45:00-04:00\n",
            "260.3999938964844\n",
            "2023-10-09 15:50:00-04:00\n",
            "260.3599853515625\n",
            "2023-10-09 15:55:00-04:00\n",
            "259.7699890136719\n"
          ]
        }
      ],
      "source": [
        "for keys,values in stock_dict:\n",
        "    print(keys)\n",
        "    print(values)"
      ],
      "id": "_gx99D2qxAR8"
    },
    {
      "cell_type": "markdown",
      "source": [
        "### KafkaProducer API\n",
        "\n",
        "In order to send messages asynchronously to a topic, KafkaProducer class provides send method. So, the signature of ```send()``` is:\n",
        "\n",
        "```python\n",
        "producer.send(new ProducerRecord<byte[],byte[]>(topic,\n",
        "partition, key1, value1) , callback);\n",
        "```"
      ],
      "metadata": {
        "id": "RKGNNbWuDYsU"
      },
      "id": "RKGNNbWuDYsU"
    },
    {
      "cell_type": "code",
      "execution_count": null,
      "metadata": {
        "colab": {
          "base_uri": "https://localhost:8080/"
        },
        "id": "2ae2bd22",
        "outputId": "e6ced2fb-ec3c-40a9-bbd0-f8c75b661391"
      },
      "outputs": [
        {
          "output_type": "stream",
          "name": "stdout",
          "text": [
            "{'name': 'TSLA', 'time': '2023-10-09 09:30:00', 'price': 256.6199951171875} b'\\x08TSLA&2023-10-09 09:30:00\\\\O\\x80C'\n",
            "{'name': 'TSLA', 'time': '2023-10-09 09:35:00', 'price': 254.4499053955078} b'\\x08TSLA&2023-10-09 09:35:00-s~C'\n",
            "{'name': 'TSLA', 'time': '2023-10-09 09:40:00', 'price': 255.5500030517578} b'\\x08TSLA&2023-10-09 09:40:00\\xcd\\x8c\\x7fC'\n",
            "{'name': 'TSLA', 'time': '2023-10-09 09:45:00', 'price': 256.0799865722656} b'\\x08TSLA&2023-10-09 09:45:00=\\n\\x80C'\n",
            "{'name': 'TSLA', 'time': '2023-10-09 09:50:00', 'price': 256.29998779296875} b'\\x08TSLA&2023-10-09 09:50:00f&\\x80C'\n",
            "{'name': 'TSLA', 'time': '2023-10-09 09:55:00', 'price': 256.4700012207031} b'\\x08TSLA&2023-10-09 09:55:00)<\\x80C'\n",
            "{'name': 'TSLA', 'time': '2023-10-09 10:00:00', 'price': 256.32000732421875} b'\\x08TSLA&2023-10-09 10:00:00\\xf6(\\x80C'\n",
            "{'name': 'TSLA', 'time': '2023-10-09 10:05:00', 'price': 255.1199951171875} b'\\x08TSLA&2023-10-09 10:05:00\\xb8\\x1e\\x7fC'\n",
            "{'name': 'TSLA', 'time': '2023-10-09 10:10:00', 'price': 255.08999633789062} b'\\x08TSLA&2023-10-09 10:10:00\\n\\x17\\x7fC'\n",
            "{'name': 'TSLA', 'time': '2023-10-09 10:15:00', 'price': 255.47999572753906} b'\\x08TSLA&2023-10-09 10:15:00\\xe1z\\x7fC'\n",
            "{'name': 'TSLA', 'time': '2023-10-09 10:20:00', 'price': 255.72000122070312} b'\\x08TSLA&2023-10-09 10:20:00R\\xb8\\x7fC'\n",
            "{'name': 'TSLA', 'time': '2023-10-09 10:25:00', 'price': 255.55850219726562} b'\\x08TSLA&2023-10-09 10:25:00\\xfa\\x8e\\x7fC'\n",
            "{'name': 'TSLA', 'time': '2023-10-09 10:30:00', 'price': 255.24000549316406} b'\\x08TSLA&2023-10-09 10:30:00q=\\x7fC'\n",
            "{'name': 'TSLA', 'time': '2023-10-09 10:35:00', 'price': 254.639892578125} b'\\x08TSLA&2023-10-09 10:35:00\\xd0\\xa3~C'\n",
            "{'name': 'TSLA', 'time': '2023-10-09 10:40:00', 'price': 254.42999267578125} b'\\x08TSLA&2023-10-09 10:40:00\\x14n~C'\n",
            "{'name': 'TSLA', 'time': '2023-10-09 10:45:00', 'price': 254.5399932861328} b'\\x08TSLA&2023-10-09 10:45:00=\\x8a~C'\n",
            "{'name': 'TSLA', 'time': '2023-10-09 10:50:00', 'price': 253.5800018310547} b'\\x08TSLA&2023-10-09 10:50:00{\\x94}C'\n",
            "{'name': 'TSLA', 'time': '2023-10-09 10:55:00', 'price': 253.80999755859375} b'\\x08TSLA&2023-10-09 10:55:00\\\\\\xcf}C'\n",
            "{'name': 'TSLA', 'time': '2023-10-09 11:00:00', 'price': 253.25999450683594} b'\\x08TSLA&2023-10-09 11:00:00\\x8fB}C'\n",
            "{'name': 'TSLA', 'time': '2023-10-09 11:05:00', 'price': 252.59500122070312} b'\\x08TSLA&2023-10-09 11:05:00R\\x98|C'\n",
            "{'name': 'TSLA', 'time': '2023-10-09 11:10:00', 'price': 252.7198944091797} b'\\x08TSLA&2023-10-09 11:10:00K\\xb8|C'\n",
            "{'name': 'TSLA', 'time': '2023-10-09 11:15:00', 'price': 252.9499969482422} b'\\x08TSLA&2023-10-09 11:15:003\\xf3|C'\n",
            "{'name': 'TSLA', 'time': '2023-10-09 11:20:00', 'price': 253.36000061035156} b'\\x08TSLA&2023-10-09 11:20:00)\\\\}C'\n",
            "{'name': 'TSLA', 'time': '2023-10-09 11:25:00', 'price': 253.88999938964844} b'\\x08TSLA&2023-10-09 11:25:00\\xd7\\xe3}C'\n",
            "{'name': 'TSLA', 'time': '2023-10-09 11:30:00', 'price': 254.05999755859375} b'\\x08TSLA&2023-10-09 11:30:00\\\\\\x0f~C'\n",
            "{'name': 'TSLA', 'time': '2023-10-09 11:35:00', 'price': 253.94419860839844} b'\\x08TSLA&2023-10-09 11:35:00\\xb7\\xf1}C'\n",
            "{'name': 'TSLA', 'time': '2023-10-09 11:40:00', 'price': 253.8800048828125} b'\\x08TSLA&2023-10-09 11:40:00H\\xe1}C'\n",
            "{'name': 'TSLA', 'time': '2023-10-09 11:45:00', 'price': 254.02699279785156} b'\\x08TSLA&2023-10-09 11:45:00\\xe9\\x06~C'\n",
            "{'name': 'TSLA', 'time': '2023-10-09 11:50:00', 'price': 254.1300048828125} b'\\x08TSLA&2023-10-09 11:50:00H!~C'\n",
            "{'name': 'TSLA', 'time': '2023-10-09 11:55:00', 'price': 253.85000610351562} b'\\x08TSLA&2023-10-09 11:55:00\\x9a\\xd9}C'\n",
            "{'name': 'TSLA', 'time': '2023-10-09 12:00:00', 'price': 254.1999969482422} b'\\x08TSLA&2023-10-09 12:00:0033~C'\n",
            "{'name': 'TSLA', 'time': '2023-10-09 12:05:00', 'price': 254.5399932861328} b'\\x08TSLA&2023-10-09 12:05:00=\\x8a~C'\n",
            "{'name': 'TSLA', 'time': '2023-10-09 12:10:00', 'price': 254.5299072265625} b'\\x08TSLA&2023-10-09 12:10:00\\xa8\\x87~C'\n",
            "{'name': 'TSLA', 'time': '2023-10-09 12:15:00', 'price': 255.4600067138672} b'\\x08TSLA&2023-10-09 12:15:00\\xc3u\\x7fC'\n",
            "{'name': 'TSLA', 'time': '2023-10-09 12:20:00', 'price': 255.67999267578125} b'\\x08TSLA&2023-10-09 12:20:00\\x14\\xae\\x7fC'\n",
            "{'name': 'TSLA', 'time': '2023-10-09 12:25:00', 'price': 255.58999633789062} b'\\x08TSLA&2023-10-09 12:25:00\\n\\x97\\x7fC'\n",
            "{'name': 'TSLA', 'time': '2023-10-09 12:30:00', 'price': 255.61000061035156} b'\\x08TSLA&2023-10-09 12:30:00)\\x9c\\x7fC'\n",
            "{'name': 'TSLA', 'time': '2023-10-09 12:35:00', 'price': 255.43699645996094} b'\\x08TSLA&2023-10-09 12:35:00\\xdfo\\x7fC'\n",
            "{'name': 'TSLA', 'time': '2023-10-09 12:40:00', 'price': 255.32000732421875} b'\\x08TSLA&2023-10-09 12:40:00\\xecQ\\x7fC'\n",
            "{'name': 'TSLA', 'time': '2023-10-09 12:45:00', 'price': 254.72000122070312} b'\\x08TSLA&2023-10-09 12:45:00R\\xb8~C'\n",
            "{'name': 'TSLA', 'time': '2023-10-09 12:50:00', 'price': 254.77169799804688} b'\\x08TSLA&2023-10-09 12:50:00\\x8e\\xc5~C'\n",
            "{'name': 'TSLA', 'time': '2023-10-09 12:55:00', 'price': 254.9499969482422} b'\\x08TSLA&2023-10-09 12:55:003\\xf3~C'\n",
            "{'name': 'TSLA', 'time': '2023-10-09 13:00:00', 'price': 255.24000549316406} b'\\x08TSLA&2023-10-09 13:00:00q=\\x7fC'\n",
            "{'name': 'TSLA', 'time': '2023-10-09 13:05:00', 'price': 255.41000366210938} b'\\x08TSLA&2023-10-09 13:05:00\\xf6h\\x7fC'\n",
            "{'name': 'TSLA', 'time': '2023-10-09 13:10:00', 'price': 255.42999267578125} b'\\x08TSLA&2023-10-09 13:10:00\\x14n\\x7fC'\n",
            "{'name': 'TSLA', 'time': '2023-10-09 13:15:00', 'price': 255.6363983154297} b'\\x08TSLA&2023-10-09 13:15:00\\xeb\\xa2\\x7fC'\n",
            "{'name': 'TSLA', 'time': '2023-10-09 13:20:00', 'price': 255.44000244140625} b'\\x08TSLA&2023-10-09 13:20:00\\xa4p\\x7fC'\n",
            "{'name': 'TSLA', 'time': '2023-10-09 13:25:00', 'price': 255.8800048828125} b'\\x08TSLA&2023-10-09 13:25:00H\\xe1\\x7fC'\n",
            "{'name': 'TSLA', 'time': '2023-10-09 13:30:00', 'price': 256.55999755859375} b'\\x08TSLA&2023-10-09 13:30:00\\xaeG\\x80C'\n",
            "{'name': 'TSLA', 'time': '2023-10-09 13:35:00', 'price': 256.8699951171875} b'\\x08TSLA&2023-10-09 13:35:00\\\\o\\x80C'\n",
            "{'name': 'TSLA', 'time': '2023-10-09 13:40:00', 'price': 257.5592956542969} b'\\x08TSLA&2023-10-09 13:40:00\\x97\\xc7\\x80C'\n",
            "{'name': 'TSLA', 'time': '2023-10-09 13:45:00', 'price': 257.6700134277344} b'\\x08TSLA&2023-10-09 13:45:00\\xc3\\xd5\\x80C'\n",
            "{'name': 'TSLA', 'time': '2023-10-09 13:50:00', 'price': 257.94000244140625} b'\\x08TSLA&2023-10-09 13:50:00R\\xf8\\x80C'\n",
            "{'name': 'TSLA', 'time': '2023-10-09 13:55:00', 'price': 258.69000244140625} b'\\x08TSLA&2023-10-09 13:55:00RX\\x81C'\n",
            "{'name': 'TSLA', 'time': '2023-10-09 14:00:00', 'price': 258.8500061035156} b'\\x08TSLA&2023-10-09 14:00:00\\xcdl\\x81C'\n",
            "{'name': 'TSLA', 'time': '2023-10-09 14:05:00', 'price': 259.010009765625} b'\\x08TSLA&2023-10-09 14:05:00H\\x81\\x81C'\n",
            "{'name': 'TSLA', 'time': '2023-10-09 14:10:00', 'price': 258.79998779296875} b'\\x08TSLA&2023-10-09 14:10:00ff\\x81C'\n",
            "{'name': 'TSLA', 'time': '2023-10-09 14:15:00', 'price': 258.7799987792969} b'\\x08TSLA&2023-10-09 14:15:00\\xd7c\\x81C'\n",
            "{'name': 'TSLA', 'time': '2023-10-09 14:20:00', 'price': 259.42999267578125} b'\\x08TSLA&2023-10-09 14:20:00\\n\\xb7\\x81C'\n",
            "{'name': 'TSLA', 'time': '2023-10-09 14:25:00', 'price': 260.1299133300781} b'\\x08TSLA&2023-10-09 14:25:00\\xa1\\x10\\x82C'\n",
            "{'name': 'TSLA', 'time': '2023-10-09 14:30:00', 'price': 260.2200012207031} b'\\x08TSLA&2023-10-09 14:30:00)\\x1c\\x82C'\n",
            "{'name': 'TSLA', 'time': '2023-10-09 14:35:00', 'price': 260.25} b'\\x08TSLA&2023-10-09 14:35:00\\x00 \\x82C'\n",
            "{'name': 'TSLA', 'time': '2023-10-09 14:40:00', 'price': 260.5400085449219} b'\\x08TSLA&2023-10-09 14:40:00\\x1fE\\x82C'\n",
            "{'name': 'TSLA', 'time': '2023-10-09 14:45:00', 'price': 260.19000244140625} b'\\x08TSLA&2023-10-09 14:45:00R\\x18\\x82C'\n",
            "{'name': 'TSLA', 'time': '2023-10-09 14:50:00', 'price': 260.27349853515625} b'\\x08TSLA&2023-10-09 14:50:00\\x02#\\x82C'\n",
            "{'name': 'TSLA', 'time': '2023-10-09 14:55:00', 'price': 260.6700134277344} b'\\x08TSLA&2023-10-09 14:55:00\\xc3U\\x82C'\n",
            "{'name': 'TSLA', 'time': '2023-10-09 15:00:00', 'price': 260.45001220703125} b'\\x08TSLA&2023-10-09 15:00:00\\x9a9\\x82C'\n",
            "{'name': 'TSLA', 'time': '2023-10-09 15:05:00', 'price': 260.9700012207031} b'\\x08TSLA&2023-10-09 15:05:00)|\\x82C'\n",
            "{'name': 'TSLA', 'time': '2023-10-09 15:10:00', 'price': 261.0400085449219} b'\\x08TSLA&2023-10-09 15:10:00\\x1f\\x85\\x82C'\n",
            "{'name': 'TSLA', 'time': '2023-10-09 15:15:00', 'price': 260.44989013671875} b'\\x08TSLA&2023-10-09 15:15:00\\x969\\x82C'\n",
            "{'name': 'TSLA', 'time': '2023-10-09 15:20:00', 'price': 260.635009765625} b'\\x08TSLA&2023-10-09 15:20:00HQ\\x82C'\n",
            "{'name': 'TSLA', 'time': '2023-10-09 15:25:00', 'price': 260.8500061035156} b'\\x08TSLA&2023-10-09 15:25:00\\xcdl\\x82C'\n",
            "{'name': 'TSLA', 'time': '2023-10-09 15:30:00', 'price': 261.3599853515625} b'\\x08TSLA&2023-10-09 15:30:00\\x14\\xae\\x82C'\n",
            "{'name': 'TSLA', 'time': '2023-10-09 15:35:00', 'price': 261.07000732421875} b'\\x08TSLA&2023-10-09 15:35:00\\xf6\\x88\\x82C'\n",
            "{'name': 'TSLA', 'time': '2023-10-09 15:40:00', 'price': 260.739990234375} b'\\x08TSLA&2023-10-09 15:40:00\\xb8^\\x82C'\n",
            "{'name': 'TSLA', 'time': '2023-10-09 15:45:00', 'price': 260.3999938964844} b'\\x08TSLA&2023-10-09 15:45:0033\\x82C'\n",
            "{'name': 'TSLA', 'time': '2023-10-09 15:50:00', 'price': 260.3599853515625} b'\\x08TSLA&2023-10-09 15:50:00\\x14.\\x82C'\n",
            "{'name': 'TSLA', 'time': '2023-10-09 15:55:00', 'price': 259.7699890136719} b'\\x08TSLA&2023-10-09 15:55:00\\x8f\\xe2\\x81C'\n",
            "<---------------->\n"
          ]
        }
      ],
      "source": [
        "# With Schema\n",
        "try:\n",
        "    for d in stock_dict:\n",
        "\n",
        "        bytes_writer = io.BytesIO() # Python BytesIO: Just like what we do with variables,\n",
        "                                    # data can be kept as bytes in an in-memory buffer when we use the io module’s Byte IO operations.\n",
        "        encoder = avro.io.BinaryEncoder(bytes_writer)\n",
        "\n",
        "        writer = DatumWriter(SCHEMA)\n",
        "        data = {\n",
        "            \"name\": ticker,\n",
        "            \"time\": d[0].strftime('%Y-%m-%d %H:%M:%S'),\n",
        "            \"price\": d[1]\n",
        "        }\n",
        "        writer.write(data, encoder)\n",
        "\n",
        "        raw_bytes = bytes_writer.getvalue()\n",
        "        print(data, raw_bytes)\n",
        "\n",
        "        # producer\n",
        "        producer.send(topic, raw_bytes)\n",
        "        # print(producer.send(topic, raw_bytes).get(timeout=10).topic)\n",
        "        # print(producer.send(topic, raw_bytes).get(timeout=10).partition)\n",
        "        # print(producer.send(topic, raw_bytes).get(timeout=10).offset)\n",
        "\n",
        "        # time.sleep(1)\n",
        "        time.sleep(0)\n",
        "except Exception as e:\n",
        "    print(\"We recevied a error:::\")\n",
        "    print(e)\n",
        "finally:\n",
        "    print(\"<---------------->\")"
      ],
      "id": "2ae2bd22"
    },
    {
      "cell_type": "markdown",
      "source": [
        "The data produced by a producer is asynchronous. Therefore, two additional functions, i.e., ```flush()``` and ```close()``` are required to ensure the producer is shut down after the message is sent to Kafka. The ```flush()``` will force all the data that was in ```send()``` to be produced and ```close()``` stops the producer."
      ],
      "metadata": {
        "id": "XyvaV1sBHJxZ"
      },
      "id": "XyvaV1sBHJxZ"
    },
    {
      "cell_type": "code",
      "execution_count": null,
      "metadata": {
        "id": "6204f911"
      },
      "outputs": [],
      "source": [
        "# producer.flush()\n",
        "# producer.close()"
      ],
      "id": "6204f911"
    },
    {
      "cell_type": "code",
      "execution_count": null,
      "metadata": {
        "id": "z709D8OUqLrm"
      },
      "outputs": [],
      "source": [
        "## In many cases, we define the functions like below to \"write to kafka\" for specific topics using producer.\n",
        "def error_callback(exc):\n",
        "    raise Exception('Error while sendig data to kafka: {0}'.format(str(exc)))\n",
        "\n",
        "def write_to_kafka(topic_name, items):\n",
        "  global count\n",
        "  count=0\n",
        "  producer = KafkaProducer(bootstrap_servers=['127.0.0.1:9092'])\n",
        "  for message in items:\n",
        "\n",
        "        bytes_writer = io.BytesIO()\n",
        "        encoder = avro.io.BinaryEncoder(bytes_writer)\n",
        "\n",
        "        writer = DatumWriter(SCHEMA)\n",
        "        data = {\n",
        "            \"name\": ticker,\n",
        "            \"time\": message[0].strftime('%Y-%m-%d %H:%M:%S'),\n",
        "            \"price\": message[1]\n",
        "        }\n",
        "        writer.write(data, encoder)\n",
        "\n",
        "        raw_bytes = bytes_writer.getvalue()\n",
        "        print(data, raw_bytes)\n",
        "        # producer.send(topic_name)\n",
        "        producer.send(topic_name, raw_bytes)\n",
        "        # producer.send(topic_name, key=key.encode('utf-8'), value=message.encode('utf-8')).add_errback(error_callback)\n",
        "        count+=1\n",
        "  producer.flush()\n",
        "  print(\"Wrote {0} messages into topic: {1}\".format(count, topic_name))\n",
        "\n",
        "\n",
        "  # for message, key in items:\n",
        "  #   producer.send(topic_name, key=key.encode('utf-8'), value=message.encode('utf-8')).add_errback(error_callback)\n",
        "  #   count+=1\n",
        "  # producer.flush()\n",
        "  # print(\"Wrote {0} messages into topic: {1}\".format(count, topic_name))"
      ],
      "id": "z709D8OUqLrm"
    },
    {
      "cell_type": "code",
      "execution_count": null,
      "metadata": {
        "colab": {
          "base_uri": "https://localhost:8080/"
        },
        "id": "sjLzTTdjrEu8",
        "outputId": "af2c2b08-e3ce-4f15-f61e-0f6c691f9eed"
      },
      "outputs": [
        {
          "output_type": "stream",
          "name": "stdout",
          "text": [
            "{'name': 'TSLA', 'time': '2023-10-09 09:30:00', 'price': 256.6199951171875} b'\\x08TSLA&2023-10-09 09:30:00\\\\O\\x80C'\n",
            "{'name': 'TSLA', 'time': '2023-10-09 09:35:00', 'price': 254.4499053955078} b'\\x08TSLA&2023-10-09 09:35:00-s~C'\n",
            "{'name': 'TSLA', 'time': '2023-10-09 09:40:00', 'price': 255.5500030517578} b'\\x08TSLA&2023-10-09 09:40:00\\xcd\\x8c\\x7fC'\n",
            "{'name': 'TSLA', 'time': '2023-10-09 09:45:00', 'price': 256.0799865722656} b'\\x08TSLA&2023-10-09 09:45:00=\\n\\x80C'\n",
            "{'name': 'TSLA', 'time': '2023-10-09 09:50:00', 'price': 256.29998779296875} b'\\x08TSLA&2023-10-09 09:50:00f&\\x80C'\n",
            "{'name': 'TSLA', 'time': '2023-10-09 09:55:00', 'price': 256.4700012207031} b'\\x08TSLA&2023-10-09 09:55:00)<\\x80C'\n",
            "{'name': 'TSLA', 'time': '2023-10-09 10:00:00', 'price': 256.32000732421875} b'\\x08TSLA&2023-10-09 10:00:00\\xf6(\\x80C'\n",
            "{'name': 'TSLA', 'time': '2023-10-09 10:05:00', 'price': 255.1199951171875} b'\\x08TSLA&2023-10-09 10:05:00\\xb8\\x1e\\x7fC'\n",
            "{'name': 'TSLA', 'time': '2023-10-09 10:10:00', 'price': 255.08999633789062} b'\\x08TSLA&2023-10-09 10:10:00\\n\\x17\\x7fC'\n",
            "{'name': 'TSLA', 'time': '2023-10-09 10:15:00', 'price': 255.47999572753906} b'\\x08TSLA&2023-10-09 10:15:00\\xe1z\\x7fC'\n",
            "{'name': 'TSLA', 'time': '2023-10-09 10:20:00', 'price': 255.72000122070312} b'\\x08TSLA&2023-10-09 10:20:00R\\xb8\\x7fC'\n",
            "{'name': 'TSLA', 'time': '2023-10-09 10:25:00', 'price': 255.55850219726562} b'\\x08TSLA&2023-10-09 10:25:00\\xfa\\x8e\\x7fC'\n",
            "{'name': 'TSLA', 'time': '2023-10-09 10:30:00', 'price': 255.24000549316406} b'\\x08TSLA&2023-10-09 10:30:00q=\\x7fC'\n",
            "{'name': 'TSLA', 'time': '2023-10-09 10:35:00', 'price': 254.639892578125} b'\\x08TSLA&2023-10-09 10:35:00\\xd0\\xa3~C'\n",
            "{'name': 'TSLA', 'time': '2023-10-09 10:40:00', 'price': 254.42999267578125} b'\\x08TSLA&2023-10-09 10:40:00\\x14n~C'\n",
            "{'name': 'TSLA', 'time': '2023-10-09 10:45:00', 'price': 254.5399932861328} b'\\x08TSLA&2023-10-09 10:45:00=\\x8a~C'\n",
            "{'name': 'TSLA', 'time': '2023-10-09 10:50:00', 'price': 253.5800018310547} b'\\x08TSLA&2023-10-09 10:50:00{\\x94}C'\n",
            "{'name': 'TSLA', 'time': '2023-10-09 10:55:00', 'price': 253.80999755859375} b'\\x08TSLA&2023-10-09 10:55:00\\\\\\xcf}C'\n",
            "{'name': 'TSLA', 'time': '2023-10-09 11:00:00', 'price': 253.25999450683594} b'\\x08TSLA&2023-10-09 11:00:00\\x8fB}C'\n",
            "{'name': 'TSLA', 'time': '2023-10-09 11:05:00', 'price': 252.59500122070312} b'\\x08TSLA&2023-10-09 11:05:00R\\x98|C'\n",
            "{'name': 'TSLA', 'time': '2023-10-09 11:10:00', 'price': 252.7198944091797} b'\\x08TSLA&2023-10-09 11:10:00K\\xb8|C'\n",
            "{'name': 'TSLA', 'time': '2023-10-09 11:15:00', 'price': 252.9499969482422} b'\\x08TSLA&2023-10-09 11:15:003\\xf3|C'\n",
            "{'name': 'TSLA', 'time': '2023-10-09 11:20:00', 'price': 253.36000061035156} b'\\x08TSLA&2023-10-09 11:20:00)\\\\}C'\n",
            "{'name': 'TSLA', 'time': '2023-10-09 11:25:00', 'price': 253.88999938964844} b'\\x08TSLA&2023-10-09 11:25:00\\xd7\\xe3}C'\n",
            "{'name': 'TSLA', 'time': '2023-10-09 11:30:00', 'price': 254.05999755859375} b'\\x08TSLA&2023-10-09 11:30:00\\\\\\x0f~C'\n",
            "{'name': 'TSLA', 'time': '2023-10-09 11:35:00', 'price': 253.94419860839844} b'\\x08TSLA&2023-10-09 11:35:00\\xb7\\xf1}C'\n",
            "{'name': 'TSLA', 'time': '2023-10-09 11:40:00', 'price': 253.8800048828125} b'\\x08TSLA&2023-10-09 11:40:00H\\xe1}C'\n",
            "{'name': 'TSLA', 'time': '2023-10-09 11:45:00', 'price': 254.02699279785156} b'\\x08TSLA&2023-10-09 11:45:00\\xe9\\x06~C'\n",
            "{'name': 'TSLA', 'time': '2023-10-09 11:50:00', 'price': 254.1300048828125} b'\\x08TSLA&2023-10-09 11:50:00H!~C'\n",
            "{'name': 'TSLA', 'time': '2023-10-09 11:55:00', 'price': 253.85000610351562} b'\\x08TSLA&2023-10-09 11:55:00\\x9a\\xd9}C'\n",
            "{'name': 'TSLA', 'time': '2023-10-09 12:00:00', 'price': 254.1999969482422} b'\\x08TSLA&2023-10-09 12:00:0033~C'\n",
            "{'name': 'TSLA', 'time': '2023-10-09 12:05:00', 'price': 254.5399932861328} b'\\x08TSLA&2023-10-09 12:05:00=\\x8a~C'\n",
            "{'name': 'TSLA', 'time': '2023-10-09 12:10:00', 'price': 254.5299072265625} b'\\x08TSLA&2023-10-09 12:10:00\\xa8\\x87~C'\n",
            "{'name': 'TSLA', 'time': '2023-10-09 12:15:00', 'price': 255.4600067138672} b'\\x08TSLA&2023-10-09 12:15:00\\xc3u\\x7fC'\n",
            "{'name': 'TSLA', 'time': '2023-10-09 12:20:00', 'price': 255.67999267578125} b'\\x08TSLA&2023-10-09 12:20:00\\x14\\xae\\x7fC'\n",
            "{'name': 'TSLA', 'time': '2023-10-09 12:25:00', 'price': 255.58999633789062} b'\\x08TSLA&2023-10-09 12:25:00\\n\\x97\\x7fC'\n",
            "{'name': 'TSLA', 'time': '2023-10-09 12:30:00', 'price': 255.61000061035156} b'\\x08TSLA&2023-10-09 12:30:00)\\x9c\\x7fC'\n",
            "{'name': 'TSLA', 'time': '2023-10-09 12:35:00', 'price': 255.43699645996094} b'\\x08TSLA&2023-10-09 12:35:00\\xdfo\\x7fC'\n",
            "{'name': 'TSLA', 'time': '2023-10-09 12:40:00', 'price': 255.32000732421875} b'\\x08TSLA&2023-10-09 12:40:00\\xecQ\\x7fC'\n",
            "{'name': 'TSLA', 'time': '2023-10-09 12:45:00', 'price': 254.72000122070312} b'\\x08TSLA&2023-10-09 12:45:00R\\xb8~C'\n",
            "{'name': 'TSLA', 'time': '2023-10-09 12:50:00', 'price': 254.77169799804688} b'\\x08TSLA&2023-10-09 12:50:00\\x8e\\xc5~C'\n",
            "{'name': 'TSLA', 'time': '2023-10-09 12:55:00', 'price': 254.9499969482422} b'\\x08TSLA&2023-10-09 12:55:003\\xf3~C'\n",
            "{'name': 'TSLA', 'time': '2023-10-09 13:00:00', 'price': 255.24000549316406} b'\\x08TSLA&2023-10-09 13:00:00q=\\x7fC'\n",
            "{'name': 'TSLA', 'time': '2023-10-09 13:05:00', 'price': 255.41000366210938} b'\\x08TSLA&2023-10-09 13:05:00\\xf6h\\x7fC'\n",
            "{'name': 'TSLA', 'time': '2023-10-09 13:10:00', 'price': 255.42999267578125} b'\\x08TSLA&2023-10-09 13:10:00\\x14n\\x7fC'\n",
            "{'name': 'TSLA', 'time': '2023-10-09 13:15:00', 'price': 255.6363983154297} b'\\x08TSLA&2023-10-09 13:15:00\\xeb\\xa2\\x7fC'\n",
            "{'name': 'TSLA', 'time': '2023-10-09 13:20:00', 'price': 255.44000244140625} b'\\x08TSLA&2023-10-09 13:20:00\\xa4p\\x7fC'\n",
            "{'name': 'TSLA', 'time': '2023-10-09 13:25:00', 'price': 255.8800048828125} b'\\x08TSLA&2023-10-09 13:25:00H\\xe1\\x7fC'\n",
            "{'name': 'TSLA', 'time': '2023-10-09 13:30:00', 'price': 256.55999755859375} b'\\x08TSLA&2023-10-09 13:30:00\\xaeG\\x80C'\n",
            "{'name': 'TSLA', 'time': '2023-10-09 13:35:00', 'price': 256.8699951171875} b'\\x08TSLA&2023-10-09 13:35:00\\\\o\\x80C'\n",
            "{'name': 'TSLA', 'time': '2023-10-09 13:40:00', 'price': 257.5592956542969} b'\\x08TSLA&2023-10-09 13:40:00\\x97\\xc7\\x80C'\n",
            "{'name': 'TSLA', 'time': '2023-10-09 13:45:00', 'price': 257.6700134277344} b'\\x08TSLA&2023-10-09 13:45:00\\xc3\\xd5\\x80C'\n",
            "{'name': 'TSLA', 'time': '2023-10-09 13:50:00', 'price': 257.94000244140625} b'\\x08TSLA&2023-10-09 13:50:00R\\xf8\\x80C'\n",
            "{'name': 'TSLA', 'time': '2023-10-09 13:55:00', 'price': 258.69000244140625} b'\\x08TSLA&2023-10-09 13:55:00RX\\x81C'\n",
            "{'name': 'TSLA', 'time': '2023-10-09 14:00:00', 'price': 258.8500061035156} b'\\x08TSLA&2023-10-09 14:00:00\\xcdl\\x81C'\n",
            "{'name': 'TSLA', 'time': '2023-10-09 14:05:00', 'price': 259.010009765625} b'\\x08TSLA&2023-10-09 14:05:00H\\x81\\x81C'\n",
            "{'name': 'TSLA', 'time': '2023-10-09 14:10:00', 'price': 258.79998779296875} b'\\x08TSLA&2023-10-09 14:10:00ff\\x81C'\n",
            "{'name': 'TSLA', 'time': '2023-10-09 14:15:00', 'price': 258.7799987792969} b'\\x08TSLA&2023-10-09 14:15:00\\xd7c\\x81C'\n",
            "{'name': 'TSLA', 'time': '2023-10-09 14:20:00', 'price': 259.42999267578125} b'\\x08TSLA&2023-10-09 14:20:00\\n\\xb7\\x81C'\n",
            "{'name': 'TSLA', 'time': '2023-10-09 14:25:00', 'price': 260.1299133300781} b'\\x08TSLA&2023-10-09 14:25:00\\xa1\\x10\\x82C'\n",
            "{'name': 'TSLA', 'time': '2023-10-09 14:30:00', 'price': 260.2200012207031} b'\\x08TSLA&2023-10-09 14:30:00)\\x1c\\x82C'\n",
            "{'name': 'TSLA', 'time': '2023-10-09 14:35:00', 'price': 260.25} b'\\x08TSLA&2023-10-09 14:35:00\\x00 \\x82C'\n",
            "{'name': 'TSLA', 'time': '2023-10-09 14:40:00', 'price': 260.5400085449219} b'\\x08TSLA&2023-10-09 14:40:00\\x1fE\\x82C'\n",
            "{'name': 'TSLA', 'time': '2023-10-09 14:45:00', 'price': 260.19000244140625} b'\\x08TSLA&2023-10-09 14:45:00R\\x18\\x82C'\n",
            "{'name': 'TSLA', 'time': '2023-10-09 14:50:00', 'price': 260.27349853515625} b'\\x08TSLA&2023-10-09 14:50:00\\x02#\\x82C'\n",
            "{'name': 'TSLA', 'time': '2023-10-09 14:55:00', 'price': 260.6700134277344} b'\\x08TSLA&2023-10-09 14:55:00\\xc3U\\x82C'\n",
            "{'name': 'TSLA', 'time': '2023-10-09 15:00:00', 'price': 260.45001220703125} b'\\x08TSLA&2023-10-09 15:00:00\\x9a9\\x82C'\n",
            "{'name': 'TSLA', 'time': '2023-10-09 15:05:00', 'price': 260.9700012207031} b'\\x08TSLA&2023-10-09 15:05:00)|\\x82C'\n",
            "{'name': 'TSLA', 'time': '2023-10-09 15:10:00', 'price': 261.0400085449219} b'\\x08TSLA&2023-10-09 15:10:00\\x1f\\x85\\x82C'\n",
            "{'name': 'TSLA', 'time': '2023-10-09 15:15:00', 'price': 260.44989013671875} b'\\x08TSLA&2023-10-09 15:15:00\\x969\\x82C'\n",
            "{'name': 'TSLA', 'time': '2023-10-09 15:20:00', 'price': 260.635009765625} b'\\x08TSLA&2023-10-09 15:20:00HQ\\x82C'\n",
            "{'name': 'TSLA', 'time': '2023-10-09 15:25:00', 'price': 260.8500061035156} b'\\x08TSLA&2023-10-09 15:25:00\\xcdl\\x82C'\n",
            "{'name': 'TSLA', 'time': '2023-10-09 15:30:00', 'price': 261.3599853515625} b'\\x08TSLA&2023-10-09 15:30:00\\x14\\xae\\x82C'\n",
            "{'name': 'TSLA', 'time': '2023-10-09 15:35:00', 'price': 261.07000732421875} b'\\x08TSLA&2023-10-09 15:35:00\\xf6\\x88\\x82C'\n",
            "{'name': 'TSLA', 'time': '2023-10-09 15:40:00', 'price': 260.739990234375} b'\\x08TSLA&2023-10-09 15:40:00\\xb8^\\x82C'\n",
            "{'name': 'TSLA', 'time': '2023-10-09 15:45:00', 'price': 260.3999938964844} b'\\x08TSLA&2023-10-09 15:45:0033\\x82C'\n",
            "{'name': 'TSLA', 'time': '2023-10-09 15:50:00', 'price': 260.3599853515625} b'\\x08TSLA&2023-10-09 15:50:00\\x14.\\x82C'\n",
            "{'name': 'TSLA', 'time': '2023-10-09 15:55:00', 'price': 259.7699890136719} b'\\x08TSLA&2023-10-09 15:55:00\\x8f\\xe2\\x81C'\n",
            "Wrote 78 messages into topic: tesla\n"
          ]
        }
      ],
      "source": [
        "write_to_kafka(topic, stock_dict)"
      ],
      "id": "sjLzTTdjrEu8"
    },
    {
      "cell_type": "markdown",
      "metadata": {
        "id": "CG3JXoohsLvm"
      },
      "source": [
        "# Kafka Consumer"
      ],
      "id": "CG3JXoohsLvm"
    },
    {
      "cell_type": "code",
      "execution_count": null,
      "metadata": {
        "id": "DfVovmxKrhgC"
      },
      "outputs": [],
      "source": [
        "# ! /content/kafka_2.13-3.1.0/bin/kafka-console-consumer.sh \\\n",
        "# --bootstrap-server localhost:9092 \\\n",
        "# --topic tesla \\\n",
        "# --from-beginning --max-messages 3"
      ],
      "id": "DfVovmxKrhgC"
    },
    {
      "cell_type": "code",
      "execution_count": null,
      "metadata": {
        "id": "XIC7NRhhr4Cc"
      },
      "outputs": [],
      "source": [
        "# define consumer\n",
        "bootstrap_server = \"localhost:9092\"\n",
        "group_id = \"my_stock\"\n",
        "consumer = kafka.KafkaConsumer(\n",
        "    bootstrap_servers=[bootstrap_server],\n",
        "    group_id = group_id\n",
        ")"
      ],
      "id": "XIC7NRhhr4Cc"
    },
    {
      "cell_type": "code",
      "execution_count": null,
      "metadata": {
        "colab": {
          "base_uri": "https://localhost:8080/"
        },
        "id": "GWyDG3l_r6Wu",
        "outputId": "4ce13cac-dcfe-4e4d-e071-ab12b21ba9a7"
      },
      "outputs": [
        {
          "output_type": "execute_result",
          "data": {
            "text/plain": [
              "{'tesla'}"
            ]
          },
          "metadata": {},
          "execution_count": 36
        }
      ],
      "source": [
        "# subsribe to a specified topic\n",
        "topic = 'tesla'\n",
        "consumer.subscribe(topics=[topic])\n",
        "consumer.subscription()"
      ],
      "id": "GWyDG3l_r6Wu"
    },
    {
      "cell_type": "code",
      "execution_count": null,
      "metadata": {
        "id": "bLD3TG7KsDOz",
        "colab": {
          "base_uri": "https://localhost:8080/"
        },
        "outputId": "f405568d-1667-4002-e12f-d5e7a260a6fb"
      },
      "outputs": [
        {
          "output_type": "stream",
          "name": "stdout",
          "text": [
            "Collecting streamlit\n",
            "  Downloading streamlit-1.27.2-py2.py3-none-any.whl (7.6 MB)\n",
            "\u001b[2K     \u001b[90m━━━━━━━━━━━━━━━━━━━━━━━━━━━━━━━━━━━━━━━━\u001b[0m \u001b[32m7.6/7.6 MB\u001b[0m \u001b[31m15.8 MB/s\u001b[0m eta \u001b[36m0:00:00\u001b[0m\n",
            "\u001b[?25hRequirement already satisfied: altair<6,>=4.0 in /usr/local/lib/python3.10/dist-packages (from streamlit) (4.2.2)\n",
            "Requirement already satisfied: blinker<2,>=1.0.0 in /usr/lib/python3/dist-packages (from streamlit) (1.4)\n",
            "Requirement already satisfied: cachetools<6,>=4.0 in /usr/local/lib/python3.10/dist-packages (from streamlit) (5.3.1)\n",
            "Requirement already satisfied: click<9,>=7.0 in /usr/local/lib/python3.10/dist-packages (from streamlit) (8.1.7)\n",
            "Requirement already satisfied: importlib-metadata<7,>=1.4 in /usr/local/lib/python3.10/dist-packages (from streamlit) (6.8.0)\n",
            "Requirement already satisfied: numpy<2,>=1.19.3 in /usr/local/lib/python3.10/dist-packages (from streamlit) (1.23.5)\n",
            "Requirement already satisfied: packaging<24,>=16.8 in /usr/local/lib/python3.10/dist-packages (from streamlit) (23.2)\n",
            "Requirement already satisfied: pandas<3,>=1.3.0 in /usr/local/lib/python3.10/dist-packages (from streamlit) (1.5.3)\n",
            "Requirement already satisfied: pillow<11,>=7.1.0 in /usr/local/lib/python3.10/dist-packages (from streamlit) (9.4.0)\n",
            "Requirement already satisfied: protobuf<5,>=3.20 in /usr/local/lib/python3.10/dist-packages (from streamlit) (3.20.3)\n",
            "Requirement already satisfied: pyarrow>=6.0 in /usr/local/lib/python3.10/dist-packages (from streamlit) (9.0.0)\n",
            "Requirement already satisfied: python-dateutil<3,>=2.7.3 in /usr/local/lib/python3.10/dist-packages (from streamlit) (2.8.2)\n",
            "Requirement already satisfied: requests<3,>=2.27 in /usr/local/lib/python3.10/dist-packages (from streamlit) (2.31.0)\n",
            "Requirement already satisfied: rich<14,>=10.14.0 in /usr/local/lib/python3.10/dist-packages (from streamlit) (13.6.0)\n",
            "Requirement already satisfied: tenacity<9,>=8.1.0 in /usr/local/lib/python3.10/dist-packages (from streamlit) (8.2.3)\n",
            "Requirement already satisfied: toml<2,>=0.10.1 in /usr/local/lib/python3.10/dist-packages (from streamlit) (0.10.2)\n",
            "Requirement already satisfied: typing-extensions<5,>=4.3.0 in /usr/local/lib/python3.10/dist-packages (from streamlit) (4.5.0)\n",
            "Requirement already satisfied: tzlocal<6,>=1.1 in /usr/local/lib/python3.10/dist-packages (from streamlit) (5.1)\n",
            "Collecting validators<1,>=0.2 (from streamlit)\n",
            "  Downloading validators-0.22.0-py3-none-any.whl (26 kB)\n",
            "Collecting gitpython!=3.1.19,<4,>=3.0.7 (from streamlit)\n",
            "  Downloading GitPython-3.1.37-py3-none-any.whl (190 kB)\n",
            "\u001b[2K     \u001b[90m━━━━━━━━━━━━━━━━━━━━━━━━━━━━━━━━━━━━━━\u001b[0m \u001b[32m190.0/190.0 kB\u001b[0m \u001b[31m17.4 MB/s\u001b[0m eta \u001b[36m0:00:00\u001b[0m\n",
            "\u001b[?25hCollecting pydeck<1,>=0.8.0b4 (from streamlit)\n",
            "  Downloading pydeck-0.8.1b0-py2.py3-none-any.whl (4.8 MB)\n",
            "\u001b[2K     \u001b[90m━━━━━━━━━━━━━━━━━━━━━━━━━━━━━━━━━━━━━━━━\u001b[0m \u001b[32m4.8/4.8 MB\u001b[0m \u001b[31m42.6 MB/s\u001b[0m eta \u001b[36m0:00:00\u001b[0m\n",
            "\u001b[?25hRequirement already satisfied: tornado<7,>=6.0.3 in /usr/local/lib/python3.10/dist-packages (from streamlit) (6.3.2)\n",
            "Collecting watchdog>=2.1.5 (from streamlit)\n",
            "  Downloading watchdog-3.0.0-py3-none-manylinux2014_x86_64.whl (82 kB)\n",
            "\u001b[2K     \u001b[90m━━━━━━━━━━━━━━━━━━━━━━━━━━━━━━━━━━━━━━━━\u001b[0m \u001b[32m82.1/82.1 kB\u001b[0m \u001b[31m11.4 MB/s\u001b[0m eta \u001b[36m0:00:00\u001b[0m\n",
            "\u001b[?25hRequirement already satisfied: entrypoints in /usr/local/lib/python3.10/dist-packages (from altair<6,>=4.0->streamlit) (0.4)\n",
            "Requirement already satisfied: jinja2 in /usr/local/lib/python3.10/dist-packages (from altair<6,>=4.0->streamlit) (3.1.2)\n",
            "Requirement already satisfied: jsonschema>=3.0 in /usr/local/lib/python3.10/dist-packages (from altair<6,>=4.0->streamlit) (4.19.1)\n",
            "Requirement already satisfied: toolz in /usr/local/lib/python3.10/dist-packages (from altair<6,>=4.0->streamlit) (0.12.0)\n",
            "Collecting gitdb<5,>=4.0.1 (from gitpython!=3.1.19,<4,>=3.0.7->streamlit)\n",
            "  Downloading gitdb-4.0.10-py3-none-any.whl (62 kB)\n",
            "\u001b[2K     \u001b[90m━━━━━━━━━━━━━━━━━━━━━━━━━━━━━━━━━━━━━━━━\u001b[0m \u001b[32m62.7/62.7 kB\u001b[0m \u001b[31m8.1 MB/s\u001b[0m eta \u001b[36m0:00:00\u001b[0m\n",
            "\u001b[?25hRequirement already satisfied: zipp>=0.5 in /usr/local/lib/python3.10/dist-packages (from importlib-metadata<7,>=1.4->streamlit) (3.17.0)\n",
            "Requirement already satisfied: pytz>=2020.1 in /usr/local/lib/python3.10/dist-packages (from pandas<3,>=1.3.0->streamlit) (2023.3.post1)\n",
            "Requirement already satisfied: six>=1.5 in /usr/local/lib/python3.10/dist-packages (from python-dateutil<3,>=2.7.3->streamlit) (1.16.0)\n",
            "Requirement already satisfied: charset-normalizer<4,>=2 in /usr/local/lib/python3.10/dist-packages (from requests<3,>=2.27->streamlit) (3.3.0)\n",
            "Requirement already satisfied: idna<4,>=2.5 in /usr/local/lib/python3.10/dist-packages (from requests<3,>=2.27->streamlit) (3.4)\n",
            "Requirement already satisfied: urllib3<3,>=1.21.1 in /usr/local/lib/python3.10/dist-packages (from requests<3,>=2.27->streamlit) (2.0.6)\n",
            "Requirement already satisfied: certifi>=2017.4.17 in /usr/local/lib/python3.10/dist-packages (from requests<3,>=2.27->streamlit) (2023.7.22)\n",
            "Requirement already satisfied: markdown-it-py>=2.2.0 in /usr/local/lib/python3.10/dist-packages (from rich<14,>=10.14.0->streamlit) (3.0.0)\n",
            "Requirement already satisfied: pygments<3.0.0,>=2.13.0 in /usr/local/lib/python3.10/dist-packages (from rich<14,>=10.14.0->streamlit) (2.16.1)\n",
            "Collecting smmap<6,>=3.0.1 (from gitdb<5,>=4.0.1->gitpython!=3.1.19,<4,>=3.0.7->streamlit)\n",
            "  Downloading smmap-5.0.1-py3-none-any.whl (24 kB)\n",
            "Requirement already satisfied: MarkupSafe>=2.0 in /usr/local/lib/python3.10/dist-packages (from jinja2->altair<6,>=4.0->streamlit) (2.1.3)\n",
            "Requirement already satisfied: attrs>=22.2.0 in /usr/local/lib/python3.10/dist-packages (from jsonschema>=3.0->altair<6,>=4.0->streamlit) (23.1.0)\n",
            "Requirement already satisfied: jsonschema-specifications>=2023.03.6 in /usr/local/lib/python3.10/dist-packages (from jsonschema>=3.0->altair<6,>=4.0->streamlit) (2023.7.1)\n",
            "Requirement already satisfied: referencing>=0.28.4 in /usr/local/lib/python3.10/dist-packages (from jsonschema>=3.0->altair<6,>=4.0->streamlit) (0.30.2)\n",
            "Requirement already satisfied: rpds-py>=0.7.1 in /usr/local/lib/python3.10/dist-packages (from jsonschema>=3.0->altair<6,>=4.0->streamlit) (0.10.4)\n",
            "Requirement already satisfied: mdurl~=0.1 in /usr/local/lib/python3.10/dist-packages (from markdown-it-py>=2.2.0->rich<14,>=10.14.0->streamlit) (0.1.2)\n",
            "Installing collected packages: watchdog, validators, smmap, pydeck, gitdb, gitpython, streamlit\n",
            "Successfully installed gitdb-4.0.10 gitpython-3.1.37 pydeck-0.8.1b0 smmap-5.0.1 streamlit-1.27.2 validators-0.22.0 watchdog-3.0.0\n"
          ]
        }
      ],
      "source": [
        "# Streamlit is an open-source app framework for Machine Learning and Data Science teams. Create beautiful web apps in minutes.\n",
        "!pip install streamlit"
      ],
      "id": "bLD3TG7KsDOz"
    },
    {
      "cell_type": "code",
      "execution_count": null,
      "metadata": {
        "id": "dexrrYHFr_xj"
      },
      "outputs": [],
      "source": [
        "import time\n",
        "import json\n",
        "import datetime\n",
        "import kafka\n",
        "import streamlit as st\n",
        "\n",
        "import pandas as pd\n",
        "import numpy as np\n",
        "import matplotlib.pyplot as plt\n",
        "\n",
        "import io\n",
        "import avro.schema\n",
        "import avro.io"
      ],
      "id": "dexrrYHFr_xj"
    },
    {
      "cell_type": "code",
      "execution_count": null,
      "metadata": {
        "id": "3w_NHTter8EF"
      },
      "outputs": [],
      "source": [
        "# define schema for a dataframe in which we store moving average.\n",
        "schema = {\n",
        "    \"time\": [],\n",
        "    \"price\": [],\n",
        "    \"moving_avg\": []\n",
        "}\n",
        "df = pd.DataFrame(schema)"
      ],
      "id": "3w_NHTter8EF"
    },
    {
      "cell_type": "code",
      "execution_count": null,
      "metadata": {
        "id": "-PjGq6rF_bbv"
      },
      "outputs": [],
      "source": [
        "## Generating one plot as an exercise (interrupt if you don't see updates any more):\n",
        "\n",
        "# try:\n",
        "#   for message in consumer:\n",
        "#       bytes_reader = io.BytesIO(message.value)\n",
        "#       decoder = avro.io.BinaryDecoder(bytes_reader)\n",
        "#       reader = avro.io.DatumReader(SCHEMA)\n",
        "#       stock_data = reader.read(decoder)\n",
        "#       print(stock_data)\n",
        "\n",
        "#       # creating rolling avg\n",
        "#       roll_avg = np.nan\n",
        "#       if len(df) >= 5:\n",
        "#           roll_avg = df[\"price\"].iloc[-5:].mean()\n",
        "#       else:\n",
        "#           roll_avg = df[\"price\"].iloc[-len(df):].mean()\n",
        "#       print(\"roll_avg: \", roll_avg)\n",
        "\n",
        "#       # Adding record to DataFrame\n",
        "#       timestamp = datetime.datetime.strptime(stock_data[\"time\"], \"%Y-%m-%d %H:%M:%S\")\n",
        "#       price = stock_data[\"price\"]\n",
        "#       df.loc[len(df.index)] = [timestamp, price, roll_avg]\n",
        "\n",
        "# except KeyboardInterrupt:\n",
        "#     print(\"process interrupted\")"
      ],
      "id": "-PjGq6rF_bbv"
    },
    {
      "cell_type": "code",
      "source": [
        "## After the interruption, run this part to plot price and moving average.\n",
        "## Time series plot with Seaborn lineplot()\n",
        "\n",
        "# fig = plt.figure(figsize=(9,6))\n",
        "# # Time series plot with Seaborn lineplot()\n",
        "# plt.plot(df[\"time\"], df[\"price\"], 'k.-', label='Original data')\n",
        "# plt.plot(df[\"time\"], df[\"moving_avg\"], 'r.-', label='Running average')\n",
        "# # axis labels\n",
        "# plt.xlabel(\"Date\", size=14)\n",
        "# plt.ylabel(\"Price\", size=14)\n",
        "# # save image as PNG file\n",
        "# plt.savefig(\"/content/drive/MyDrive/Colab Notebooks/MIS584 FA2023/Module3/StockPlots/Stock_Price_Chart.png\",\n",
        "#                     format='png',\n",
        "#                     dpi=150)\n",
        "# st.pyplot(fig)"
      ],
      "metadata": {
        "id": "l7xrXjljL341"
      },
      "id": "l7xrXjljL341",
      "execution_count": null,
      "outputs": []
    },
    {
      "cell_type": "markdown",
      "source": [
        "### How does Kafka Avro deserializer work?\n",
        "\n",
        "The Kafka Avro Deserializer in the consumer gets the schema Id from the message and uses this to look up the schema from the Schema Registry. The message is deserialized, verified using the retrieved schema."
      ],
      "metadata": {
        "id": "EyOCscfSFhSf"
      },
      "id": "EyOCscfSFhSf"
    },
    {
      "cell_type": "code",
      "source": [
        "# app.py\n",
        "\n",
        "# Decommentize below line to write app.py file:\n",
        "# %%writefile \"/content/drive/MyDrive/Colab Notebooks/MIS584 FA2023/Module3/StockPlots/app.py\"\n",
        "\n",
        "import streamlit as st # web development\n",
        "import numpy as np # np mean, np random\n",
        "import pandas as pd # read csv, df manipulation\n",
        "import time # to simulate a real time data, time loop\n",
        "import plotly.express as px # interactive charts\n",
        "\n",
        "# dashboard title\n",
        "st.set_page_config(\n",
        "    page_title = 'Real-Time Data Science Dashboard',\n",
        "    page_icon = '✅',\n",
        "    layout = 'wide'\n",
        ")\n",
        "\n",
        "# st.title(\"Stock Moving Average Dashboard\")\n",
        "\n",
        "# creating a single-element container.\n",
        "placeholder = st.empty()\n",
        "\n",
        "try:\n",
        "  count_fig = 0\n",
        "  for message in consumer:\n",
        "\n",
        "      bytes_reader = io.BytesIO(message.value)\n",
        "      decoder = avro.io.BinaryDecoder(bytes_reader)\n",
        "      reader = avro.io.DatumReader(SCHEMA)\n",
        "      stock_data = reader.read(decoder)\n",
        "      # print(stock_data)\n",
        "\n",
        "      # creating rolling avg\n",
        "      roll_avg = np.nan\n",
        "      if len(df) >= 5:\n",
        "          roll_avg = df[\"price\"].iloc[-5:].mean()\n",
        "      else:\n",
        "          roll_avg = df[\"price\"].iloc[-len(df):].mean()\n",
        "      # print(\"roll_avg: \", roll_avg)\n",
        "\n",
        "      # Adding record to DataFrame\n",
        "      timestamp = datetime.datetime.strptime(stock_data[\"time\"], \"%Y-%m-%d %H:%M:%S\")\n",
        "      price = stock_data[\"price\"]\n",
        "      df.loc[len(df.index)] = [timestamp, price, roll_avg]\n",
        "\n",
        "      with placeholder.container():\n",
        "\n",
        "          ## Section 1\n",
        "          # create two columns for Price and Rolling Avg\n",
        "          kpi1, kpi2 = st.columns(2)\n",
        "\n",
        "          # fill in those three columns with respective metrics or KPIs\n",
        "          kpi1.metric(label=\"Price: \", value=round(price, 2), delta=round(price - df[\"price\"].get(len(df)-2, 0), 4))\n",
        "          kpi2.metric(label=\"Rolling_Avg\", value= round(roll_avg, 2))\n",
        "\n",
        "          ## Section 2\n",
        "          st.markdown(\"Stock Graph with Moving average\")\n",
        "\n",
        "          fig = plt.figure(figsize=(9,6))\n",
        "          # Time series plot with Seaborn lineplot()\n",
        "          plt.plot(df[\"time\"], df[\"price\"], 'k.-', label='Original data') # draw a black line.\n",
        "          plt.plot(df[\"time\"], df[\"moving_avg\"], 'r.-', label='Running average') # draw a red line.\n",
        "          # axis labels\n",
        "          plt.xlabel(\"Date\", size=14)\n",
        "          plt.ylabel(\"Price\", size=14)\n",
        "          # save image as PNG file\n",
        "          plt.savefig(\"/content/drive/MyDrive/Colab Notebooks/MIS584 FA2023/Module3/StockPlots/Stock_Price_Chart_{}.png\".format(count_fig),\n",
        "                              format='png',\n",
        "                              dpi=150)\n",
        "          st.write(fig)\n",
        "          count_fig += 1\n",
        "          # print(\"current count: \",count)\n",
        "          st.pyplot(fig)\n",
        "          plt.show()\n",
        "          fig.clear()\n",
        "\n",
        "          ### KeyboardInterruptInterrupt if count_fig is the same as the max # moving average available.\n",
        "          if count_fig == count-4: #\n",
        "              raise KeyboardInterrupt\n",
        "\n",
        "          ## Section 3\n",
        "          st.markdown(\"### Detailed Data View\")\n",
        "          st.dataframe(df.iloc[-5:])\n",
        "          time.sleep(1)\n",
        "\n",
        "except KeyboardInterrupt:\n",
        "    print(\"process interrupted\")"
      ],
      "metadata": {
        "colab": {
          "base_uri": "https://localhost:8080/",
          "height": 1000
        },
        "id": "YXNI5vlh-19J",
        "outputId": "4d763cc8-4a62-4ecd-cee5-31cf719cbfaa"
      },
      "id": "YXNI5vlh-19J",
      "execution_count": null,
      "outputs": []
    },
    {
      "cell_type": "code",
      "source": [
        "# !streamlit run /content/drive/MyDrive/Colab Notebooks/MIS584 FA2023/Module3/StockPlots/app.py &>/content/drive/MyDrive/Colab Notebooks/MIS584 FA2023/Module3/StockPlots/logs.txt &\n"
      ],
      "metadata": {
        "id": "n_l9IViobHR0"
      },
      "id": "n_l9IViobHR0",
      "execution_count": null,
      "outputs": []
    },
    {
      "cell_type": "code",
      "source": [
        "# !npx localtunnel --port 8501 & curl ipv4.icanhazip.com"
      ],
      "metadata": {
        "id": "hixzyxRhcKsz"
      },
      "id": "hixzyxRhcKsz",
      "execution_count": null,
      "outputs": []
    },
    {
      "cell_type": "markdown",
      "source": [
        "## How to Launch Streamlit App from Google Colab Notebook: [link](https://discuss.streamlit.io/t/how-to-launch-streamlit-app-from-google-colab-notebook/42399/1)"
      ],
      "metadata": {
        "id": "EfG5AIpbVZeV"
      },
      "id": "EfG5AIpbVZeV"
    },
    {
      "cell_type": "code",
      "source": [
        "# Install localtunnel to serve the Streamlit app\n",
        "!npm install localtunnel"
      ],
      "metadata": {
        "colab": {
          "base_uri": "https://localhost:8080/"
        },
        "id": "nNHxUkMsS-Aw",
        "outputId": "56e5f7e7-f54d-4a40-9692-806d18cd67df"
      },
      "id": "nNHxUkMsS-Aw",
      "execution_count": null,
      "outputs": [
        {
          "output_type": "stream",
          "name": "stdout",
          "text": [
            "\u001b[K\u001b[?25h\u001b[37;40mnpm\u001b[0m \u001b[0m\u001b[30;43mWARN\u001b[0m \u001b[0m\u001b[35msaveError\u001b[0m ENOENT: no such file or directory, open '/content/package.json'\n",
            "\u001b[0m\u001b[37;40mnpm\u001b[0m \u001b[0m\u001b[30;43mWARN\u001b[0m \u001b[0m\u001b[35menoent\u001b[0m ENOENT: no such file or directory, open '/content/package.json'\n",
            "\u001b[0m\u001b[37;40mnpm\u001b[0m \u001b[0m\u001b[30;43mWARN\u001b[0m\u001b[35m\u001b[0m content No description\n",
            "\u001b[0m\u001b[37;40mnpm\u001b[0m \u001b[0m\u001b[30;43mWARN\u001b[0m\u001b[35m\u001b[0m content No repository field.\n",
            "\u001b[0m\u001b[37;40mnpm\u001b[0m \u001b[0m\u001b[30;43mWARN\u001b[0m\u001b[35m\u001b[0m content No README data\n",
            "\u001b[0m\u001b[37;40mnpm\u001b[0m \u001b[0m\u001b[30;43mWARN\u001b[0m\u001b[35m\u001b[0m content No license field.\n",
            "\u001b[0m\n",
            "\u001b[K\u001b[?25h+ localtunnel@2.0.2\n",
            "updated 1 package and audited 36 packages in 0.748s\n",
            "\n",
            "3 packages are looking for funding\n",
            "  run `npm fund` for details\n",
            "\n",
            "found \u001b[92m0\u001b[0m vulnerabilities\n",
            "\n",
            "\u001b[K\u001b[?25h"
          ]
        }
      ]
    },
    {
      "cell_type": "code",
      "source": [
        "# Run the Streamlit app in the background\n",
        "# e.g., !streamlit run /content/drive/MyDrive/Colab Notebooks/MIS584 FA2023/Module3/app.py &>/content/drive/MyDrive/Colab Notebooks/MIS584 FA2023/Module3/StockPlots/logs.txt &\n",
        "!streamlit run /content/app.py &>/content/logs.txt &"
      ],
      "metadata": {
        "id": "dsqHrOSvRgxQ"
      },
      "id": "dsqHrOSvRgxQ",
      "execution_count": null,
      "outputs": []
    },
    {
      "cell_type": "code",
      "source": [
        "# Expose the Streamlit app on port 8501\n",
        "# Then just click in the url showed.\n",
        "!npx localtunnel --port 8501 & curl ipv4.icanhazip.com"
      ],
      "metadata": {
        "id": "VJ3ndPKBRyn_"
      },
      "id": "VJ3ndPKBRyn_",
      "execution_count": null,
      "outputs": []
    }
  ],
  "metadata": {
    "colab": {
      "provenance": []
    },
    "kernelspec": {
      "display_name": "Python 3 (ipykernel)",
      "language": "python",
      "name": "python3"
    },
    "language_info": {
      "codemirror_mode": {
        "name": "ipython",
        "version": 3
      },
      "file_extension": ".py",
      "mimetype": "text/x-python",
      "name": "python",
      "nbconvert_exporter": "python",
      "pygments_lexer": "ipython3",
      "version": "3.10.9"
    }
  },
  "nbformat": 4,
  "nbformat_minor": 5
}